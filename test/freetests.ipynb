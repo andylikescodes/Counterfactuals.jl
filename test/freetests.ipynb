{
 "cells": [
  {
   "cell_type": "code",
   "execution_count": 171,
   "metadata": {},
   "outputs": [],
   "source": [
    "# The core scripts for the analysis\n",
    "using Revise\n",
    "push!(LOAD_PATH, \"../src\") \n",
    "using DataFrames\n",
    "using Counterfactuals\n",
    "using CSV\n",
    "using GLM\n",
    "using StatsModels"
   ]
  },
  {
   "cell_type": "code",
   "execution_count": 124,
   "metadata": {},
   "outputs": [
    {
     "data": {
      "text/html": [
       "<div class=\"data-frame\"><p>1,797 rows × 22 columns (omitted printing of 7 columns)</p><table class=\"data-frame\"><thead><tr><th></th><th>PROLIFIC_PID</th><th>Gender</th><th>Education</th><th>Income</th><th>Political_Views</th><th>Age</th><th>Depression</th><th>Stress</th><th>Anxiety</th><th>Fear_COVID</th><th>Emotional_Support</th><th>Loneliness</th><th>slope_new_cases</th><th>slope_new_deaths</th><th>GatheringStrictness</th></tr><tr><th></th><th title=\"String31\">String31</th><th title=\"Float64\">Float64</th><th title=\"Float64\">Float64</th><th title=\"Float64\">Float64</th><th title=\"Float64\">Float64</th><th title=\"Float64\">Float64</th><th title=\"Missing\">Missing</th><th title=\"Missing\">Missing</th><th title=\"Int64\">Int64</th><th title=\"Float64\">Float64</th><th title=\"Float64\">Float64</th><th title=\"Float64\">Float64</th><th title=\"Float64\">Float64</th><th title=\"Float64\">Float64</th><th title=\"Float64\">Float64</th></tr></thead><tbody><tr><th>1</th><td>5df82e8739bcde5dd044f741</td><td>1.0</td><td>3.0</td><td>1.0</td><td>4.0</td><td>32.0</td><td><em>missing</em></td><td><em>missing</em></td><td>42</td><td>8.0</td><td>16.0</td><td>25.0</td><td>82.2857</td><td>3.28571</td><td>1.0</td></tr><tr><th>2</th><td>5c7e91c1973c990016ea72b0</td><td>2.0</td><td>5.0</td><td>3.0</td><td>1.0</td><td>55.0</td><td><em>missing</em></td><td><em>missing</em></td><td>69</td><td>24.0</td><td>30.0</td><td>10.0</td><td>82.2857</td><td>3.28571</td><td>1.0</td></tr><tr><th>3</th><td>5e67052c757e6149c38ce468</td><td>1.0</td><td>1.0</td><td>1.0</td><td>4.0</td><td>23.0</td><td><em>missing</em></td><td><em>missing</em></td><td>57</td><td>18.0</td><td>14.0</td><td>25.0</td><td>82.2857</td><td>3.28571</td><td>1.0</td></tr><tr><th>4</th><td>5d89106d1719af0001ee23e5</td><td>2.0</td><td>2.0</td><td>1.0</td><td>6.0</td><td>47.0</td><td><em>missing</em></td><td><em>missing</em></td><td>27</td><td>8.0</td><td>40.0</td><td>5.0</td><td>82.2857</td><td>3.28571</td><td>1.0</td></tr><tr><th>5</th><td>5d6394518df2870001a74b42</td><td>2.0</td><td>2.0</td><td>1.0</td><td>1.0</td><td>23.0</td><td><em>missing</em></td><td><em>missing</em></td><td>42</td><td>23.0</td><td>40.0</td><td>16.0</td><td>82.2857</td><td>3.28571</td><td>1.0</td></tr><tr><th>6</th><td>5bdd368719b9ba000157fb12</td><td>2.0</td><td>3.0</td><td>4.0</td><td>4.0</td><td>28.0</td><td><em>missing</em></td><td><em>missing</em></td><td>29</td><td>10.0</td><td>40.0</td><td>5.0</td><td>82.2857</td><td>3.28571</td><td>1.0</td></tr><tr><th>7</th><td>5b68d45687af3100015849a9</td><td>2.0</td><td>9.0</td><td>4.0</td><td>1.0</td><td>58.0</td><td><em>missing</em></td><td><em>missing</em></td><td>24</td><td>11.0</td><td>40.0</td><td>6.0</td><td>82.2857</td><td>3.28571</td><td>1.0</td></tr><tr><th>8</th><td>5a8ce265000dab00018ce084</td><td>2.0</td><td>4.0</td><td>6.0</td><td>3.0</td><td>50.0</td><td><em>missing</em></td><td><em>missing</em></td><td>37</td><td>6.0</td><td>34.0</td><td>7.0</td><td>82.2857</td><td>3.28571</td><td>1.0</td></tr><tr><th>9</th><td>5c72efa770d5a200018028f1</td><td>1.0</td><td>5.0</td><td>2.0</td><td>3.0</td><td>71.0</td><td><em>missing</em></td><td><em>missing</em></td><td>27</td><td>9.0</td><td>39.0</td><td>5.0</td><td>82.2857</td><td>3.28571</td><td>1.0</td></tr><tr><th>10</th><td>5d378df21acda30001e7191e</td><td>1.0</td><td>3.0</td><td>2.0</td><td>5.0</td><td>19.0</td><td><em>missing</em></td><td><em>missing</em></td><td>44</td><td>18.0</td><td>10.0</td><td>13.0</td><td>82.2857</td><td>3.28571</td><td>1.0</td></tr><tr><th>11</th><td>5aea962d0ef2f20001858c9c</td><td>1.0</td><td>2.0</td><td>1.0</td><td>2.0</td><td>36.0</td><td><em>missing</em></td><td><em>missing</em></td><td>59</td><td>17.0</td><td>17.0</td><td>16.0</td><td>82.2857</td><td>3.28571</td><td>1.0</td></tr><tr><th>12</th><td>5e4b793f03c92a08a6d28e3f</td><td>1.0</td><td>2.0</td><td>7.0</td><td>4.0</td><td>21.0</td><td><em>missing</em></td><td><em>missing</em></td><td>42</td><td>4.0</td><td>18.0</td><td>11.0</td><td>82.2857</td><td>3.28571</td><td>1.0</td></tr><tr><th>13</th><td>5cbc071f2edc3b00018ab097</td><td>1.0</td><td>7.0</td><td>1.0</td><td>3.0</td><td>36.0</td><td><em>missing</em></td><td><em>missing</em></td><td>43</td><td>13.0</td><td>28.0</td><td>8.0</td><td>82.2857</td><td>3.28571</td><td>1.0</td></tr><tr><th>14</th><td>5c1b06d9a329230001ecc39c</td><td>1.0</td><td>2.0</td><td>1.0</td><td>2.0</td><td>25.0</td><td><em>missing</em></td><td><em>missing</em></td><td>42</td><td>10.0</td><td>18.0</td><td>8.0</td><td>82.2857</td><td>3.28571</td><td>1.0</td></tr><tr><th>15</th><td>5e576e085069e61204a85872</td><td>1.0</td><td>2.0</td><td>7.0</td><td>4.0</td><td>19.0</td><td><em>missing</em></td><td><em>missing</em></td><td>44</td><td>19.0</td><td>32.0</td><td>19.0</td><td>82.2857</td><td>3.28571</td><td>1.0</td></tr><tr><th>16</th><td>5dcf50f05686c1099819882a</td><td>1.0</td><td>6.0</td><td>3.0</td><td>1.0</td><td>66.0</td><td><em>missing</em></td><td><em>missing</em></td><td>41</td><td>19.0</td><td>32.0</td><td>17.0</td><td>82.2857</td><td>3.28571</td><td>1.0</td></tr><tr><th>17</th><td>5d3f5c8f0d0d29001a4bd973</td><td>1.0</td><td>2.0</td><td>1.0</td><td>6.0</td><td>19.0</td><td><em>missing</em></td><td><em>missing</em></td><td>36</td><td>16.0</td><td>24.0</td><td>14.0</td><td>82.2857</td><td>3.28571</td><td>1.0</td></tr><tr><th>18</th><td>5c9ac1ed2497d20001689f53</td><td>2.0</td><td>2.0</td><td>1.0</td><td>2.0</td><td>29.0</td><td><em>missing</em></td><td><em>missing</em></td><td>51</td><td>18.0</td><td>24.0</td><td>19.0</td><td>82.2857</td><td>3.28571</td><td>1.0</td></tr><tr><th>19</th><td>5d2d8b999c6703001525304f</td><td>1.0</td><td>2.0</td><td>1.0</td><td>7.0</td><td>25.0</td><td><em>missing</em></td><td><em>missing</em></td><td>47</td><td>12.0</td><td>8.0</td><td>25.0</td><td>82.2857</td><td>3.28571</td><td>1.0</td></tr><tr><th>20</th><td>5de8bc74553cee8280a7dd84</td><td>1.0</td><td>5.0</td><td>1.0</td><td>2.0</td><td>22.0</td><td><em>missing</em></td><td><em>missing</em></td><td>36</td><td>8.0</td><td>27.0</td><td>13.0</td><td>82.2857</td><td>3.28571</td><td>1.0</td></tr><tr><th>21</th><td>5dc208b532b0ad172977f774</td><td>2.0</td><td>3.0</td><td>1.0</td><td>5.0</td><td>19.0</td><td><em>missing</em></td><td><em>missing</em></td><td>40</td><td>18.0</td><td>31.0</td><td>10.0</td><td>82.2857</td><td>3.28571</td><td>1.0</td></tr><tr><th>22</th><td>5b6a87d2cda8590001db8e07</td><td>1.0</td><td>5.0</td><td>1.0</td><td>1.0</td><td>39.0</td><td><em>missing</em></td><td><em>missing</em></td><td>63</td><td>13.0</td><td>28.0</td><td>14.0</td><td>82.2857</td><td>3.28571</td><td>1.0</td></tr><tr><th>23</th><td>5e3dff6b8714b707b9a258b0</td><td>1.0</td><td>5.0</td><td>1.0</td><td>2.0</td><td>35.0</td><td><em>missing</em></td><td><em>missing</em></td><td>57</td><td>11.0</td><td>24.0</td><td>20.0</td><td>82.2857</td><td>3.28571</td><td>1.0</td></tr><tr><th>24</th><td>5b05e0d131cebe000177c38e</td><td>1.0</td><td>2.0</td><td>1.0</td><td>5.0</td><td>38.0</td><td><em>missing</em></td><td><em>missing</em></td><td>68</td><td>20.0</td><td>23.0</td><td>15.0</td><td>82.2857</td><td>3.28571</td><td>1.0</td></tr><tr><th>&vellip;</th><td>&vellip;</td><td>&vellip;</td><td>&vellip;</td><td>&vellip;</td><td>&vellip;</td><td>&vellip;</td><td>&vellip;</td><td>&vellip;</td><td>&vellip;</td><td>&vellip;</td><td>&vellip;</td><td>&vellip;</td><td>&vellip;</td><td>&vellip;</td><td>&vellip;</td></tr></tbody></table></div>"
      ],
      "text/latex": [
       "\\begin{tabular}{r|cccccccccccccccc}\n",
       "\t& PROLIFIC\\_PID & Gender & Education & Income & Political\\_Views & Age & Depression & Stress & Anxiety & Fear\\_COVID & Emotional\\_Support & Loneliness & slope\\_new\\_cases & slope\\_new\\_deaths & GatheringStrictness & \\\\\n",
       "\t\\hline\n",
       "\t& String31 & Float64 & Float64 & Float64 & Float64 & Float64 & Missing & Missing & Int64 & Float64 & Float64 & Float64 & Float64 & Float64 & Float64 & \\\\\n",
       "\t\\hline\n",
       "\t1 & 5df82e8739bcde5dd044f741 & 1.0 & 3.0 & 1.0 & 4.0 & 32.0 & \\emph{missing} & \\emph{missing} & 42 & 8.0 & 16.0 & 25.0 & 82.2857 & 3.28571 & 1.0 & $\\dots$ \\\\\n",
       "\t2 & 5c7e91c1973c990016ea72b0 & 2.0 & 5.0 & 3.0 & 1.0 & 55.0 & \\emph{missing} & \\emph{missing} & 69 & 24.0 & 30.0 & 10.0 & 82.2857 & 3.28571 & 1.0 & $\\dots$ \\\\\n",
       "\t3 & 5e67052c757e6149c38ce468 & 1.0 & 1.0 & 1.0 & 4.0 & 23.0 & \\emph{missing} & \\emph{missing} & 57 & 18.0 & 14.0 & 25.0 & 82.2857 & 3.28571 & 1.0 & $\\dots$ \\\\\n",
       "\t4 & 5d89106d1719af0001ee23e5 & 2.0 & 2.0 & 1.0 & 6.0 & 47.0 & \\emph{missing} & \\emph{missing} & 27 & 8.0 & 40.0 & 5.0 & 82.2857 & 3.28571 & 1.0 & $\\dots$ \\\\\n",
       "\t5 & 5d6394518df2870001a74b42 & 2.0 & 2.0 & 1.0 & 1.0 & 23.0 & \\emph{missing} & \\emph{missing} & 42 & 23.0 & 40.0 & 16.0 & 82.2857 & 3.28571 & 1.0 & $\\dots$ \\\\\n",
       "\t6 & 5bdd368719b9ba000157fb12 & 2.0 & 3.0 & 4.0 & 4.0 & 28.0 & \\emph{missing} & \\emph{missing} & 29 & 10.0 & 40.0 & 5.0 & 82.2857 & 3.28571 & 1.0 & $\\dots$ \\\\\n",
       "\t7 & 5b68d45687af3100015849a9 & 2.0 & 9.0 & 4.0 & 1.0 & 58.0 & \\emph{missing} & \\emph{missing} & 24 & 11.0 & 40.0 & 6.0 & 82.2857 & 3.28571 & 1.0 & $\\dots$ \\\\\n",
       "\t8 & 5a8ce265000dab00018ce084 & 2.0 & 4.0 & 6.0 & 3.0 & 50.0 & \\emph{missing} & \\emph{missing} & 37 & 6.0 & 34.0 & 7.0 & 82.2857 & 3.28571 & 1.0 & $\\dots$ \\\\\n",
       "\t9 & 5c72efa770d5a200018028f1 & 1.0 & 5.0 & 2.0 & 3.0 & 71.0 & \\emph{missing} & \\emph{missing} & 27 & 9.0 & 39.0 & 5.0 & 82.2857 & 3.28571 & 1.0 & $\\dots$ \\\\\n",
       "\t10 & 5d378df21acda30001e7191e & 1.0 & 3.0 & 2.0 & 5.0 & 19.0 & \\emph{missing} & \\emph{missing} & 44 & 18.0 & 10.0 & 13.0 & 82.2857 & 3.28571 & 1.0 & $\\dots$ \\\\\n",
       "\t11 & 5aea962d0ef2f20001858c9c & 1.0 & 2.0 & 1.0 & 2.0 & 36.0 & \\emph{missing} & \\emph{missing} & 59 & 17.0 & 17.0 & 16.0 & 82.2857 & 3.28571 & 1.0 & $\\dots$ \\\\\n",
       "\t12 & 5e4b793f03c92a08a6d28e3f & 1.0 & 2.0 & 7.0 & 4.0 & 21.0 & \\emph{missing} & \\emph{missing} & 42 & 4.0 & 18.0 & 11.0 & 82.2857 & 3.28571 & 1.0 & $\\dots$ \\\\\n",
       "\t13 & 5cbc071f2edc3b00018ab097 & 1.0 & 7.0 & 1.0 & 3.0 & 36.0 & \\emph{missing} & \\emph{missing} & 43 & 13.0 & 28.0 & 8.0 & 82.2857 & 3.28571 & 1.0 & $\\dots$ \\\\\n",
       "\t14 & 5c1b06d9a329230001ecc39c & 1.0 & 2.0 & 1.0 & 2.0 & 25.0 & \\emph{missing} & \\emph{missing} & 42 & 10.0 & 18.0 & 8.0 & 82.2857 & 3.28571 & 1.0 & $\\dots$ \\\\\n",
       "\t15 & 5e576e085069e61204a85872 & 1.0 & 2.0 & 7.0 & 4.0 & 19.0 & \\emph{missing} & \\emph{missing} & 44 & 19.0 & 32.0 & 19.0 & 82.2857 & 3.28571 & 1.0 & $\\dots$ \\\\\n",
       "\t16 & 5dcf50f05686c1099819882a & 1.0 & 6.0 & 3.0 & 1.0 & 66.0 & \\emph{missing} & \\emph{missing} & 41 & 19.0 & 32.0 & 17.0 & 82.2857 & 3.28571 & 1.0 & $\\dots$ \\\\\n",
       "\t17 & 5d3f5c8f0d0d29001a4bd973 & 1.0 & 2.0 & 1.0 & 6.0 & 19.0 & \\emph{missing} & \\emph{missing} & 36 & 16.0 & 24.0 & 14.0 & 82.2857 & 3.28571 & 1.0 & $\\dots$ \\\\\n",
       "\t18 & 5c9ac1ed2497d20001689f53 & 2.0 & 2.0 & 1.0 & 2.0 & 29.0 & \\emph{missing} & \\emph{missing} & 51 & 18.0 & 24.0 & 19.0 & 82.2857 & 3.28571 & 1.0 & $\\dots$ \\\\\n",
       "\t19 & 5d2d8b999c6703001525304f & 1.0 & 2.0 & 1.0 & 7.0 & 25.0 & \\emph{missing} & \\emph{missing} & 47 & 12.0 & 8.0 & 25.0 & 82.2857 & 3.28571 & 1.0 & $\\dots$ \\\\\n",
       "\t20 & 5de8bc74553cee8280a7dd84 & 1.0 & 5.0 & 1.0 & 2.0 & 22.0 & \\emph{missing} & \\emph{missing} & 36 & 8.0 & 27.0 & 13.0 & 82.2857 & 3.28571 & 1.0 & $\\dots$ \\\\\n",
       "\t21 & 5dc208b532b0ad172977f774 & 2.0 & 3.0 & 1.0 & 5.0 & 19.0 & \\emph{missing} & \\emph{missing} & 40 & 18.0 & 31.0 & 10.0 & 82.2857 & 3.28571 & 1.0 & $\\dots$ \\\\\n",
       "\t22 & 5b6a87d2cda8590001db8e07 & 1.0 & 5.0 & 1.0 & 1.0 & 39.0 & \\emph{missing} & \\emph{missing} & 63 & 13.0 & 28.0 & 14.0 & 82.2857 & 3.28571 & 1.0 & $\\dots$ \\\\\n",
       "\t23 & 5e3dff6b8714b707b9a258b0 & 1.0 & 5.0 & 1.0 & 2.0 & 35.0 & \\emph{missing} & \\emph{missing} & 57 & 11.0 & 24.0 & 20.0 & 82.2857 & 3.28571 & 1.0 & $\\dots$ \\\\\n",
       "\t24 & 5b05e0d131cebe000177c38e & 1.0 & 2.0 & 1.0 & 5.0 & 38.0 & \\emph{missing} & \\emph{missing} & 68 & 20.0 & 23.0 & 15.0 & 82.2857 & 3.28571 & 1.0 & $\\dots$ \\\\\n",
       "\t$\\dots$ & $\\dots$ & $\\dots$ & $\\dots$ & $\\dots$ & $\\dots$ & $\\dots$ & $\\dots$ & $\\dots$ & $\\dots$ & $\\dots$ & $\\dots$ & $\\dots$ & $\\dots$ & $\\dots$ & $\\dots$ &  \\\\\n",
       "\\end{tabular}\n"
      ],
      "text/plain": [
       "\u001b[1m1797×22 DataFrame\u001b[0m\n",
       "\u001b[1m  Row \u001b[0m│\u001b[1m PROLIFIC_PID             \u001b[0m\u001b[1m Gender  \u001b[0m\u001b[1m Education \u001b[0m\u001b[1m Income  \u001b[0m\u001b[1m Political_Views \u001b[0m\u001b[1m Age     \u001b[0m\u001b[1m Depression \u001b[0m\u001b[1m Stress  \u001b[0m\u001b[1m Anxiety \u001b[0m\u001b[1m Fear_COVID \u001b[0m\u001b[1m Emotional_Support \u001b[0m\u001b[1m Loneliness \u001b[0m\u001b[1m slope_new_cases \u001b[0m\u001b[1m slope_new_deaths \u001b[0m\u001b[1m G\u001b[0m ⋯\n",
       "\u001b[1m      \u001b[0m│\u001b[90m String31                 \u001b[0m\u001b[90m Float64 \u001b[0m\u001b[90m Float64   \u001b[0m\u001b[90m Float64 \u001b[0m\u001b[90m Float64         \u001b[0m\u001b[90m Float64 \u001b[0m\u001b[90m Missing    \u001b[0m\u001b[90m Missing \u001b[0m\u001b[90m Int64   \u001b[0m\u001b[90m Float64    \u001b[0m\u001b[90m Float64           \u001b[0m\u001b[90m Float64    \u001b[0m\u001b[90m Float64         \u001b[0m\u001b[90m Float64          \u001b[0m\u001b[90m F\u001b[0m ⋯\n",
       "──────┼─────────────────────────────────────────────────────────────────────────────────────────────────────────────────────────────────────────────────────────────────────────────────────────────────\n",
       "    1 │ 5df82e8739bcde5dd044f741      1.0        3.0      1.0              4.0     32.0 \u001b[90m    missing \u001b[0m\u001b[90m missing \u001b[0m      42         8.0               16.0        25.0        82.2857            3.28571     ⋯\n",
       "    2 │ 5c7e91c1973c990016ea72b0      2.0        5.0      3.0              1.0     55.0 \u001b[90m    missing \u001b[0m\u001b[90m missing \u001b[0m      69        24.0               30.0        10.0        82.2857            3.28571\n",
       "    3 │ 5e67052c757e6149c38ce468      1.0        1.0      1.0              4.0     23.0 \u001b[90m    missing \u001b[0m\u001b[90m missing \u001b[0m      57        18.0               14.0        25.0        82.2857            3.28571\n",
       "    4 │ 5d89106d1719af0001ee23e5      2.0        2.0      1.0              6.0     47.0 \u001b[90m    missing \u001b[0m\u001b[90m missing \u001b[0m      27         8.0               40.0         5.0        82.2857            3.28571\n",
       "    5 │ 5d6394518df2870001a74b42      2.0        2.0      1.0              1.0     23.0 \u001b[90m    missing \u001b[0m\u001b[90m missing \u001b[0m      42        23.0               40.0        16.0        82.2857            3.28571     ⋯\n",
       "    6 │ 5bdd368719b9ba000157fb12      2.0        3.0      4.0              4.0     28.0 \u001b[90m    missing \u001b[0m\u001b[90m missing \u001b[0m      29        10.0               40.0         5.0        82.2857            3.28571\n",
       "    7 │ 5b68d45687af3100015849a9      2.0        9.0      4.0              1.0     58.0 \u001b[90m    missing \u001b[0m\u001b[90m missing \u001b[0m      24        11.0               40.0         6.0        82.2857            3.28571\n",
       "    8 │ 5a8ce265000dab00018ce084      2.0        4.0      6.0              3.0     50.0 \u001b[90m    missing \u001b[0m\u001b[90m missing \u001b[0m      37         6.0               34.0         7.0        82.2857            3.28571\n",
       "  ⋮   │            ⋮                 ⋮         ⋮         ⋮            ⋮            ⋮         ⋮          ⋮        ⋮         ⋮               ⋮              ⋮              ⋮                ⋮            ⋱\n",
       " 1791 │ 5cad4750f4115800176d506e      2.0        4.0      3.0              3.0     40.0 \u001b[90m    missing \u001b[0m\u001b[90m missing \u001b[0m      49        15.0               24.0        12.0         6.42857           0.142857    ⋯\n",
       " 1792 │ 5be8846293ca1f00014db03c      2.0        5.0      3.0              5.0     53.0 \u001b[90m    missing \u001b[0m\u001b[90m missing \u001b[0m      34        13.0               30.0        15.0         6.42857           0.142857\n",
       " 1793 │ 5dbd1569f8223b28d73ed6ae      2.0        3.0      1.0              2.0     65.0 \u001b[90m    missing \u001b[0m\u001b[90m missing \u001b[0m      32        11.0               32.0        10.0         6.42857           0.142857\n",
       " 1794 │ 5e217a34e8ff3a469b5dfebc      2.0        3.0      5.0              4.0     22.0 \u001b[90m    missing \u001b[0m\u001b[90m missing \u001b[0m      46        28.0               25.0        15.0         6.42857           0.142857\n",
       " 1795 │ 5d63867550d0dd0017805976      1.0        3.0      3.0              1.0     36.0 \u001b[90m    missing \u001b[0m\u001b[90m missing \u001b[0m      45        18.0               34.0        11.0        -1.71429           0.0         ⋯\n",
       " 1796 │ 5e6155e6f169c0046b6d6518      1.0        7.0      2.0              3.0     28.0 \u001b[90m    missing \u001b[0m\u001b[90m missing \u001b[0m      47         6.0               40.0        10.0         1.57143           0.0\n",
       " 1797 │ 58cefdb030c4cf0001ceb3ac      2.0        5.0      1.0              2.0     64.0 \u001b[90m    missing \u001b[0m\u001b[90m missing \u001b[0m      28        18.0               40.0         5.0         2.14286           0.0\n",
       "\u001b[36m                                                                                                                                                                         8 columns and 1782 rows omitted\u001b[0m"
      ]
     },
     "metadata": {},
     "output_type": "display_data"
    }
   ],
   "source": [
    "ENV[\"COLUMNS\"] = 200\n",
    "w6 = CSV.read(\"data/w6.csv\", DataFrame)\n",
    "w1 = CSV.read(\"data/w1.csv\", DataFrame)"
   ]
  },
  {
   "cell_type": "code",
   "execution_count": 117,
   "metadata": {},
   "outputs": [
    {
     "data": {
      "text/plain": [
       "21-element Vector{String}:\n",
       " \"PROLIFIC_PID\"\n",
       " \"Gender\"\n",
       " \"Education\"\n",
       " \"Income\"\n",
       " \"Political_Views\"\n",
       " \"Depression\"\n",
       " \"Stress\"\n",
       " \"Anxiety\"\n",
       " \"Fear_COVID\"\n",
       " \"Emotional_Support\"\n",
       " ⋮\n",
       " \"slope_new_deaths\"\n",
       " \"GatheringStrictness\"\n",
       " \"Mandatory_business_closure\"\n",
       " \"Mandatory_PPE_masks\"\n",
       " \"more_than_1_attQ_failed\"\n",
       " \"string_outlier_core\"\n",
       " \"response_consistency\"\n",
       " \"wave\"\n",
       " \"RW1_8\""
      ]
     },
     "metadata": {},
     "output_type": "display_data"
    }
   ],
   "source": [
    "names(data)"
   ]
  },
  {
   "cell_type": "code",
   "execution_count": 126,
   "metadata": {},
   "outputs": [
    {
     "data": {
      "text/plain": [
       "1178-element BitVector:\n",
       " 0\n",
       " 0\n",
       " 0\n",
       " 0\n",
       " 0\n",
       " 0\n",
       " 0\n",
       " 0\n",
       " 0\n",
       " 0\n",
       " ⋮\n",
       " 0\n",
       " 0\n",
       " 0\n",
       " 0\n",
       " 0\n",
       " 0\n",
       " 0\n",
       " 0\n",
       " 0"
      ]
     },
     "metadata": {},
     "output_type": "display_data"
    }
   ],
   "source": [
    "low_quality = sum.(eachrow(w6[!, [\"more_than_1_attQ_failed\", \"string_outlier_core\", \"response_consistency\"]])) .>= 1"
   ]
  },
  {
   "cell_type": "code",
   "execution_count": 197,
   "metadata": {},
   "outputs": [
    {
     "name": "stderr",
     "output_type": "stream",
     "text": [
      "WARNING: using StatsBase.fit in module Main conflicts with an existing identifier.\n"
     ]
    }
   ],
   "source": [
    "using StatsBase\n",
    "# syntax: best practice to define a _new_ function\n",
    "poly(x, n) = x^n\n",
    "\n",
    "# type of model where syntax applies: here this applies to any model type\n",
    "const POLY_CONTEXT = Any\n",
    "\n",
    "# struct for behavior\n",
    "struct PolyTerm{T,D} <: AbstractTerm\n",
    "    term::T\n",
    "    deg::D\n",
    "end\n",
    "\n",
    "Base.show(io::IO, p::PolyTerm) = print(io, \"poly($(p.term), $(p.deg))\")\n",
    "\n",
    "# for `poly` use at run-time (outside @formula), return a schema-less PolyTerm\n",
    "poly(t::Symbol, d::Int) = PolyTerm(term(t), term(d))\n",
    "\n",
    "# for `poly` use inside @formula: create a schemaless PolyTerm and apply_schema\n",
    "function StatsModels.apply_schema(t::FunctionTerm{typeof(poly)},\n",
    "                                  sch::StatsModels.Schema,\n",
    "                                  Mod::Type{<:POLY_CONTEXT})\n",
    "    apply_schema(PolyTerm(t.args_parsed...), sch, Mod)\n",
    "end\n",
    "\n",
    "# apply_schema to internal Terms and check for proper types\n",
    "function StatsModels.apply_schema(t::PolyTerm,\n",
    "                                  sch::StatsModels.Schema,\n",
    "                                  Mod::Type{<:POLY_CONTEXT})\n",
    "    term = apply_schema(t.term, sch, Mod)\n",
    "    isa(term, ContinuousTerm) ||\n",
    "        throw(ArgumentError(\"PolyTerm only works with continuous terms (got $term)\"))\n",
    "    isa(t.deg, ConstantTerm) ||\n",
    "        throw(ArgumentError(\"PolyTerm degree must be a number (got $t.deg)\"))\n",
    "    PolyTerm(term, t.deg.n)\n",
    "end\n",
    "\n",
    "function StatsModels.modelcols(p::PolyTerm, d::NamedTuple)\n",
    "    col = modelcols(p.term, d)\n",
    "    reduce(hcat, [col.^n for n in 1:p.deg])\n",
    "end\n",
    "\n",
    "# the basic terms contained within a PolyTerm (for schema extraction)\n",
    "StatsModels.terms(p::PolyTerm) = terms(p.term)\n",
    "# names variables from the data that a PolyTerm relies on\n",
    "StatsModels.termvars(p::PolyTerm) = StatsModels.termvars(p.term)\n",
    "# number of columns in the matrix this term produces\n",
    "StatsModels.width(p::PolyTerm) = p.deg\n",
    "\n",
    "StatsBase.coefnames(p::PolyTerm) = coefnames(p.term) .* \"^\" .* string.(1:p.deg)\n",
    "\n",
    "# output"
   ]
  },
  {
   "cell_type": "code",
   "execution_count": 198,
   "metadata": {},
   "outputs": [
    {
     "data": {
      "text/plain": [
       "FormulaTerm\n",
       "Response:\n",
       "  y(unknown)\n",
       "Predictors:\n",
       "  1\n",
       "  (b)->poly(b, 2)\n",
       "  a(unknown)\n",
       "  (b)->poly(b, 2) & a(unknown)"
      ]
     },
     "metadata": {},
     "output_type": "display_data"
    }
   ],
   "source": [
    "f = @formula(low_quality ~ 1 + poly(Age, 2) * a)"
   ]
  },
  {
   "cell_type": "code",
   "execution_count": 127,
   "metadata": {},
   "outputs": [
    {
     "data": {
      "text/plain": [
       "1178-element BitVector:\n",
       " 0\n",
       " 0\n",
       " 0\n",
       " 0\n",
       " 0\n",
       " 0\n",
       " 0\n",
       " 0\n",
       " 0\n",
       " 0\n",
       " ⋮\n",
       " 0\n",
       " 0\n",
       " 0\n",
       " 0\n",
       " 0\n",
       " 0\n",
       " 0\n",
       " 0\n",
       " 0"
      ]
     },
     "metadata": {},
     "output_type": "display_data"
    }
   ],
   "source": [
    "w6[!, :low_quality] = low_quality"
   ]
  },
  {
   "cell_type": "code",
   "execution_count": 158,
   "metadata": {},
   "outputs": [
    {
     "data": {
      "text/plain": [
       "\"low_quality\""
      ]
     },
     "metadata": {},
     "output_type": "display_data"
    }
   ],
   "source": [
    "adjustments = [\"Income\", \"Gender\", \"Age\", \"Education\"]\n",
    "square_terms = [\"Income\", \"Age\", \"Education\"]\n",
    "treatment = \"low_quality\""
   ]
  },
  {
   "cell_type": "code",
   "execution_count": 135,
   "metadata": {},
   "outputs": [
    {
     "data": {
      "text/plain": [
       "Float64[]"
      ]
     },
     "metadata": {},
     "output_type": "display_data"
    }
   ],
   "source": [
    "w6[w6[!,\"Political_Views\"] .=== missing, \"Income\"] "
   ]
  },
  {
   "cell_type": "code",
   "execution_count": 190,
   "metadata": {},
   "outputs": [
    {
     "data": {
      "text/plain": [
       ":(StatsModels.Term(:y) ~ StatsModels.ConstantTerm(1) + StatsModels.capture_call(^, ((age,)->age ^ 2), (:age,), $(Expr(:copyast, :($(QuoteNode(:(age ^ 2)))))), [StatsModels.Term(:age), StatsModels.ConstantTerm(2)]))"
      ]
     },
     "metadata": {},
     "output_type": "display_data"
    }
   ],
   "source": [
    "@macroexpand @formula(y ~ 1 + age^2)"
   ]
  },
  {
   "cell_type": "code",
   "execution_count": 179,
   "metadata": {},
   "outputs": [
    {
     "data": {
      "text/plain": [
       "StatsModels.TableRegressionModel{GeneralizedLinearModel{GLM.GlmResp{Vector{Float64}, Binomial{Float64}, ProbitLink}, GLM.DensePredChol{Float64, LinearAlgebra.Cholesky{Float64, Matrix{Float64}}}}, Matrix{Float64}}\n",
       "\n",
       "low_quality ~ 1 + Age\n",
       "\n",
       "Coefficients:\n",
       "─────────────────────────────────────────────────────────────────────────────\n",
       "                  Coef.  Std. Error      z  Pr(>|z|)   Lower 95%    Upper 95%\n",
       "─────────────────────────────────────────────────────────────────────────────\n",
       "(Intercept)  -1.85996    0.331697    -5.61    <1e-07  -2.51008    -1.20985\n",
       "Age          -0.0136971  0.00922284  -1.49    0.1375  -0.0317735   0.00437931\n",
       "─────────────────────────────────────────────────────────────────────────────"
      ]
     },
     "metadata": {},
     "output_type": "display_data"
    }
   ],
   "source": [
    "fit = glm(Term(:low_quality) ~ Term(:Age) + Term(:Age), w6, Binomial(), ProbitLink())\n"
   ]
  },
  {
   "cell_type": "code",
   "execution_count": 189,
   "metadata": {},
   "outputs": [
    {
     "ename": "UndefVarError",
     "evalue": "UndefVarError: poly not defined",
     "output_type": "error",
     "traceback": [
      "UndefVarError: poly not defined\n",
      "\n",
      "Stacktrace:\n",
      "  [1] top-level scope\n",
      "    @ d:\\julia\\Counterfactuals\\test\\freetests.ipynb:1\n",
      "  [2] eval\n",
      "    @ .\\boot.jl:360 [inlined]\n",
      "  [3] include_string(mapexpr::typeof(REPL.softscope), mod::Module, code::String, filename::String)\n",
      "    @ Base .\\loading.jl:1116\n",
      "  [4] #invokelatest#2\n",
      "    @ .\\essentials.jl:708 [inlined]\n",
      "  [5] invokelatest\n",
      "    @ .\\essentials.jl:706 [inlined]\n",
      "  [6] (::VSCodeServer.var\"#160#161\"{VSCodeServer.NotebookRunCellArguments, String})()\n",
      "    @ VSCodeServer c:\\Users\\andyl\\.vscode\\extensions\\julialang.language-julia-1.6.17\\scripts\\packages\\VSCodeServer\\src\\serve_notebook.jl:19\n",
      "  [7] withpath(f::VSCodeServer.var\"#160#161\"{VSCodeServer.NotebookRunCellArguments, String}, path::String)\n",
      "    @ VSCodeServer c:\\Users\\andyl\\.vscode\\extensions\\julialang.language-julia-1.6.17\\scripts\\packages\\VSCodeServer\\src\\repl.jl:184\n",
      "  [8] notebook_runcell_request(conn::VSCodeServer.JSONRPC.JSONRPCEndpoint{Base.PipeEndpoint, Base.PipeEndpoint}, params::VSCodeServer.NotebookRunCellArguments)\n",
      "    @ VSCodeServer c:\\Users\\andyl\\.vscode\\extensions\\julialang.language-julia-1.6.17\\scripts\\packages\\VSCodeServer\\src\\serve_notebook.jl:13\n",
      "  [9] dispatch_msg(x::VSCodeServer.JSONRPC.JSONRPCEndpoint{Base.PipeEndpoint, Base.PipeEndpoint}, dispatcher::VSCodeServer.JSONRPC.MsgDispatcher, msg::Dict{String, Any})\n",
      "    @ VSCodeServer.JSONRPC c:\\Users\\andyl\\.vscode\\extensions\\julialang.language-julia-1.6.17\\scripts\\packages\\JSONRPC\\src\\typed.jl:67\n",
      " [10] serve_notebook(pipename::String, outputchannel_logger::Base.CoreLogging.SimpleLogger; crashreporting_pipename::String)\n",
      "    @ VSCodeServer c:\\Users\\andyl\\.vscode\\extensions\\julialang.language-julia-1.6.17\\scripts\\packages\\VSCodeServer\\src\\serve_notebook.jl:136\n",
      " [11] top-level scope\n",
      "    @ c:\\Users\\andyl\\.vscode\\extensions\\julialang.language-julia-1.6.17\\scripts\\notebook\\notebook.jl:32\n",
      " [12] include(mod::Module, _path::String)\n",
      "    @ Base .\\Base.jl:386\n",
      " [13] exec_options(opts::Base.JLOptions)\n",
      "    @ Base .\\client.jl:285\n",
      " [14] _start()\n",
      "    @ Base .\\client.jl:485"
     ]
    }
   ],
   "source": [
    "poly(Symbol(\"Age\"), 2)"
   ]
  },
  {
   "cell_type": "code",
   "execution_count": 185,
   "metadata": {},
   "outputs": [
    {
     "data": {
      "text/plain": [
       "StatsModels.TableRegressionModel{GeneralizedLinearModel{GLM.GlmResp{Vector{Float64}, Binomial{Float64}, ProbitLink}, GLM.DensePredChol{Float64, LinearAlgebra.Cholesky{Float64, Matrix{Float64}}}}, Matrix{Float64}}\n",
       "\n",
       "low_quality ~ 1 + Age + :(Age ^ 2)\n",
       "\n",
       "Coefficients:\n",
       "──────────────────────────────────────────────────────────────────────────────────\n",
       "                    Coef.   Std. Error      z  Pr(>|z|)    Lower 95%     Upper 95%\n",
       "──────────────────────────────────────────────────────────────────────────────────\n",
       "(Intercept)  -2.80747      1.14867      -2.44    0.0145  -5.05881     -0.556124\n",
       "Age           0.0408984    0.0645889     0.63    0.5266  -0.0856934    0.16749\n",
       "Age ^ 2      -0.000706804  0.000850672  -0.83    0.4060  -0.00237409   0.000960483\n",
       "──────────────────────────────────────────────────────────────────────────────────"
      ]
     },
     "metadata": {},
     "output_type": "display_data"
    }
   ],
   "source": [
    "fit = glm(@formula(low_quality ~ Age + Age^2), w6, Binomial(), ProbitLink())\n"
   ]
  },
  {
   "cell_type": "code",
   "execution_count": 95,
   "metadata": {},
   "outputs": [
    {
     "data": {
      "text/plain": [
       "StatsModels.TableRegressionModel{GeneralizedLinearModel{GLM.GlmResp{Vector{Float64}, Binomial{Float64}, ProbitLink}, GLM.DensePredChol{Float64, LinearAlgebra.Cholesky{Float64, Matrix{Float64}}}}, Matrix{Float64}}\n",
       "\n",
       "low_quality ~ 1 + Education\n",
       "\n",
       "Coefficients:\n",
       "───────────────────────────────────────────────────────────────────────────\n",
       "                  Coef.  Std. Error      z  Pr(>|z|)  Lower 95%   Upper 95%\n",
       "───────────────────────────────────────────────────────────────────────────\n",
       "(Intercept)  -2.13642     0.307528   -6.95    <1e-11  -2.73917   -1.53368\n",
       "Education    -0.0502128   0.0686745  -0.73    0.4647  -0.184812   0.0843868\n",
       "───────────────────────────────────────────────────────────────────────────"
      ]
     },
     "metadata": {},
     "output_type": "display_data"
    }
   ],
   "source": [
    "fit = glm(Term(:low_quality) ~ Term(:Education), w6, Binomial(), ProbitLink())"
   ]
  },
  {
   "cell_type": "code",
   "execution_count": 93,
   "metadata": {},
   "outputs": [
    {
     "data": {
      "text/plain": [
       ":low_quality"
      ]
     },
     "metadata": {},
     "output_type": "display_data"
    }
   ],
   "source": [
    "Symbol(\"low_quality\")"
   ]
  },
  {
   "cell_type": "code",
   "execution_count": 163,
   "metadata": {},
   "outputs": [
    {
     "data": {
      "text/plain": [
       "4-element Vector{Symbol}:\n",
       " Symbol(\"Income^2\")\n",
       " Symbol(\"Gender^2\")\n",
       " Symbol(\"Age^2\")\n",
       " Symbol(\"Education^2\")"
      ]
     },
     "metadata": {},
     "output_type": "display_data"
    }
   ],
   "source": [
    "(Symbol.(adjustments .* \"^2\"))"
   ]
  },
  {
   "cell_type": "code",
   "execution_count": 164,
   "metadata": {},
   "outputs": [
    {
     "data": {
      "text/plain": [
       "FormulaTerm\n",
       "Response:\n",
       "  low_quality(unknown)\n",
       "Predictors:\n",
       "  Income(unknown)\n",
       "  Gender(unknown)\n",
       "  Age(unknown)\n",
       "  Education(unknown)\n",
       "  Income^2(unknown)\n",
       "  Gender^2(unknown)\n",
       "  Age^2(unknown)\n",
       "  Education^2(unknown)"
      ]
     },
     "metadata": {},
     "output_type": "display_data"
    }
   ],
   "source": [
    "f = Term(Symbol(treatment)) ~ sum(Term.(Symbol.(adjustments))) + sum(Term.(Symbol.(adjustments .* \"^2\")))"
   ]
  },
  {
   "cell_type": "code",
   "execution_count": 165,
   "metadata": {},
   "outputs": [
    {
     "ename": "ArgumentError",
     "evalue": "ArgumentError: There isn't a variable called 'Income^2' in your data; the nearest names appear to be: Income",
     "output_type": "error",
     "traceback": [
      "ArgumentError: There isn't a variable called 'Income^2' in your data; the nearest names appear to be: Income\n",
      "\n",
      "Stacktrace:\n",
      "  [1] ModelFrame(f::FormulaTerm{Term, NTuple{8, Term}}, data::NamedTuple{(:PROLIFIC_PID, :Gender, :Education, :Income, :Political_Views, :Age, :Depression, :Stress, :Anxiety, :Fear_COVID, :Emotional_Support, :Loneliness, :slope_new_cases, :slope_new_deaths, :GatheringStrictness, :Mandatory_business_closure, :Mandatory_PPE_masks, :more_than_1_attQ_failed, :string_outlier_core, :response_consistency, :wave, :RW1_8, :low_quality), Tuple{Vector{String31}, Vector{Float64}, Vector{Float64}, Vector{Float64}, Vector{Float64}, Vector{Float64}, Vector{Int64}, Vector{Int64}, Vector{Int64}, Vector{Float64}, Vector{Float64}, Vector{Float64}, Vector{Float64}, Vector{Float64}, Vector{Float64}, Vector{Float64}, Vector{Float64}, Vector{Bool}, Vector{Bool}, Vector{Bool}, Vector{Int64}, SentinelArrays.SentinelVector{Float64, Float64, Missing, Vector{Float64}}, BitVector}}; model::Type{GeneralizedLinearModel}, contrasts::Dict{Symbol, Any})\n",
      "    @ StatsModels C:\\Users\\andyl\\.julia\\packages\\StatsModels\\qY2YS\\src\\modelframe.jl:76\n",
      "  [2] fit(::Type{GeneralizedLinearModel}, ::FormulaTerm{Term, NTuple{8, Term}}, ::DataFrame, ::Binomial{Float64}, ::Vararg{Any, N} where N; contrasts::Dict{Symbol, Any}, kwargs::Base.Iterators.Pairs{Union{}, Union{}, Tuple{}, NamedTuple{(), Tuple{}}})\n",
      "    @ StatsModels C:\\Users\\andyl\\.julia\\packages\\StatsModels\\qY2YS\\src\\statsmodel.jl:85\n",
      "  [3] fit(::Type{GeneralizedLinearModel}, ::FormulaTerm{Term, NTuple{8, Term}}, ::DataFrame, ::Binomial{Float64}, ::ProbitLink)\n",
      "    @ StatsModels C:\\Users\\andyl\\.julia\\packages\\StatsModels\\qY2YS\\src\\statsmodel.jl:82\n",
      "  [4] glm(::FormulaTerm{Term, NTuple{8, Term}}, ::DataFrame, ::Binomial{Float64}, ::Vararg{Any, N} where N; kwargs::Base.Iterators.Pairs{Union{}, Union{}, Tuple{}, NamedTuple{(), Tuple{}}})\n",
      "    @ GLM C:\\Users\\andyl\\.julia\\packages\\GLM\\DgddX\\src\\glmfit.jl:508\n",
      "  [5] glm(::FormulaTerm{Term, NTuple{8, Term}}, ::DataFrame, ::Binomial{Float64}, ::Vararg{Any, N} where N)\n",
      "    @ GLM C:\\Users\\andyl\\.julia\\packages\\GLM\\DgddX\\src\\glmfit.jl:508\n",
      "  [6] top-level scope\n",
      "    @ d:\\julia\\Counterfactuals\\test\\freetests.ipynb:1\n",
      "  [7] eval\n",
      "    @ .\\boot.jl:360 [inlined]\n",
      "  [8] include_string(mapexpr::typeof(REPL.softscope), mod::Module, code::String, filename::String)\n",
      "    @ Base .\\loading.jl:1116\n",
      "  [9] #invokelatest#2\n",
      "    @ .\\essentials.jl:708 [inlined]\n",
      " [10] invokelatest\n",
      "    @ .\\essentials.jl:706 [inlined]\n",
      " [11] (::VSCodeServer.var\"#160#161\"{VSCodeServer.NotebookRunCellArguments, String})()\n",
      "    @ VSCodeServer c:\\Users\\andyl\\.vscode\\extensions\\julialang.language-julia-1.6.17\\scripts\\packages\\VSCodeServer\\src\\serve_notebook.jl:19\n",
      " [12] withpath(f::VSCodeServer.var\"#160#161\"{VSCodeServer.NotebookRunCellArguments, String}, path::String)\n",
      "    @ VSCodeServer c:\\Users\\andyl\\.vscode\\extensions\\julialang.language-julia-1.6.17\\scripts\\packages\\VSCodeServer\\src\\repl.jl:184\n",
      " [13] notebook_runcell_request(conn::VSCodeServer.JSONRPC.JSONRPCEndpoint{Base.PipeEndpoint, Base.PipeEndpoint}, params::VSCodeServer.NotebookRunCellArguments)\n",
      "    @ VSCodeServer c:\\Users\\andyl\\.vscode\\extensions\\julialang.language-julia-1.6.17\\scripts\\packages\\VSCodeServer\\src\\serve_notebook.jl:13\n",
      " [14] dispatch_msg(x::VSCodeServer.JSONRPC.JSONRPCEndpoint{Base.PipeEndpoint, Base.PipeEndpoint}, dispatcher::VSCodeServer.JSONRPC.MsgDispatcher, msg::Dict{String, Any})\n",
      "    @ VSCodeServer.JSONRPC c:\\Users\\andyl\\.vscode\\extensions\\julialang.language-julia-1.6.17\\scripts\\packages\\JSONRPC\\src\\typed.jl:67\n",
      " [15] serve_notebook(pipename::String, outputchannel_logger::Base.CoreLogging.SimpleLogger; crashreporting_pipename::String)\n",
      "    @ VSCodeServer c:\\Users\\andyl\\.vscode\\extensions\\julialang.language-julia-1.6.17\\scripts\\packages\\VSCodeServer\\src\\serve_notebook.jl:136\n",
      " [16] top-level scope\n",
      "    @ c:\\Users\\andyl\\.vscode\\extensions\\julialang.language-julia-1.6.17\\scripts\\notebook\\notebook.jl:32\n",
      " [17] include(mod::Module, _path::String)\n",
      "    @ Base .\\Base.jl:386\n",
      " [18] exec_options(opts::Base.JLOptions)\n",
      "    @ Base .\\client.jl:285\n",
      " [19] _start()\n",
      "    @ Base .\\client.jl:485"
     ]
    }
   ],
   "source": [
    "fit = glm(f, w6, Binomial(), ProbitLink())\n"
   ]
  },
  {
   "cell_type": "code",
   "execution_count": null,
   "metadata": {},
   "outputs": [],
   "source": []
  },
  {
   "cell_type": "code",
   "execution_count": 151,
   "metadata": {},
   "outputs": [
    {
     "data": {
      "text/plain": [
       "StatsModels.TableRegressionModel{GeneralizedLinearModel{GLM.GlmResp{Vector{Float64}, Binomial{Float64}, ProbitLink}, GLM.DensePredChol{Float64, LinearAlgebra.Cholesky{Float64, Matrix{Float64}}}}, Matrix{Float64}}\n",
       "\n",
       "low_quality ~ 1 + Income + Gender + Age + Education\n",
       "\n",
       "Coefficients:\n",
       "────────────────────────────────────────────────────────────────────────────\n",
       "                  Coef.  Std. Error      z  Pr(>|z|)  Lower 95%    Upper 95%\n",
       "────────────────────────────────────────────────────────────────────────────\n",
       "(Intercept)  -1.98531    0.539008    -3.68    0.0002  -3.04175   -0.928876\n",
       "Income        0.0974128  0.0705583    1.38    0.1674  -0.040879   0.235705\n",
       "Gender        0.119665   0.232427     0.51    0.6067  -0.335884   0.575214\n",
       "Age          -0.0141463  0.00962958  -1.47    0.1418  -0.03302    0.00472732\n",
       "Education    -0.0697506  0.07664     -0.91    0.3628  -0.219962   0.0804611\n",
       "────────────────────────────────────────────────────────────────────────────"
      ]
     },
     "metadata": {},
     "output_type": "display_data"
    }
   ],
   "source": [
    "fit = glm(Term(Symbol(treatment)) ~ sum(Term.(Symbol.(adjustments))), w6, Binomial(), ProbitLink())\n"
   ]
  },
  {
   "cell_type": "code",
   "execution_count": 156,
   "metadata": {},
   "outputs": [
    {
     "name": "stdout",
     "output_type": "stream",
     "text": [
      "Summary Stats:\n",
      "Length:         1178\n",
      "Missing Count:  0\n",
      "Mean:           178.503841\n",
      "Minimum:        15.207013\n",
      "1st Quartile:   81.962500\n",
      "Median:         122.873158\n",
      "3rd Quartile:   211.657930\n",
      "Maximum:        3152.840239\n",
      "Type:           Float64\n"
     ]
    }
   ],
   "source": [
    "describe(1 ./ (predict(fit, w6)))"
   ]
  },
  {
   "cell_type": "code",
   "execution_count": 140,
   "metadata": {},
   "outputs": [
    {
     "data": {
      "text/plain": [
       "StatsModels.TableRegressionModel{GeneralizedLinearModel{GLM.GlmResp{Vector{Float64}, Binomial{Float64}, ProbitLink}, GLM.DensePredChol{Float64, LinearAlgebra.Cholesky{Float64, Matrix{Float64}}}}, Matrix{Float64}}\n",
       "\n",
       "low_quality ~ 1 + Income + Political_Views + Gender + Age + Education\n",
       "\n",
       "Coefficients:\n",
       "─────────────────────────────────────────────────────────────────────────────────\n",
       "                      Coef.  Std. Error      z  Pr(>|z|)   Lower 95%    Upper 95%\n",
       "─────────────────────────────────────────────────────────────────────────────────\n",
       "(Intercept)      -1.84985    0.589574    -3.14    0.0017  -3.00539    -0.694301\n",
       "Income            0.097154   0.0705293    1.38    0.1684  -0.0410809   0.235389\n",
       "Political_Views  -0.036744   0.0755709   -0.49    0.6268  -0.18486     0.111372\n",
       "Gender            0.0941508  0.235736     0.40    0.6896  -0.367883    0.556185\n",
       "Age              -0.013548   0.00971554  -1.39    0.1632  -0.0325901   0.00549408\n",
       "Education        -0.0729652  0.0766388   -0.95    0.3411  -0.223174    0.077244\n",
       "─────────────────────────────────────────────────────────────────────────────────"
      ]
     },
     "metadata": {},
     "output_type": "display_data"
    }
   ],
   "source": [
    "ip_weighting(w6, adjustments, treatment)"
   ]
  }
 ],
 "metadata": {
  "kernelspec": {
   "display_name": "Julia 1.6.3",
   "language": "julia",
   "name": "julia-1.6"
  },
  "language_info": {
   "file_extension": ".jl",
   "mimetype": "application/julia",
   "name": "julia",
   "version": "1.6.3"
  },
  "orig_nbformat": 4
 },
 "nbformat": 4,
 "nbformat_minor": 2
}
