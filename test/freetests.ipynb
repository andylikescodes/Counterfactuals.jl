{
 "cells": [
  {
   "cell_type": "code",
   "execution_count": 1,
   "metadata": {},
   "outputs": [],
   "source": [
    "# The core scripts for the analysis\n",
    "using Revise\n",
    "push!(LOAD_PATH, \"../src\") \n",
    "using DataFrames\n",
    "using Counterfactuals\n",
    "using CSV"
   ]
  },
  {
   "cell_type": "code",
   "execution_count": 11,
   "metadata": {},
   "outputs": [
    {
     "data": {
      "text/html": [
       "<div class=\"data-frame\"><p>1,797 rows × 41 columns (omitted printing of 28 columns)</p><table class=\"data-frame\"><thead><tr><th></th><th>PROLIFIC_PID</th><th>Gender_w1</th><th>Education_w1</th><th>Income_w1</th><th>Political_Views_w1</th><th>Depression_w1</th><th>Stress_w1</th><th>Anxiety_w1</th><th>Fear_COVID_w1</th><th>Emotional_Support_w1</th><th>Loneliness_w1</th><th>slope_new_cases_w1</th><th>slope_new_deaths_w1</th></tr><tr><th></th><th title=\"String31\">String31</th><th title=\"Float64\">Float64</th><th title=\"Float64\">Float64</th><th title=\"Float64\">Float64</th><th title=\"Float64\">Float64</th><th title=\"Missing\">Missing</th><th title=\"Missing\">Missing</th><th title=\"Int64\">Int64</th><th title=\"Float64\">Float64</th><th title=\"Float64\">Float64</th><th title=\"Float64\">Float64</th><th title=\"Float64\">Float64</th><th title=\"Float64\">Float64</th></tr></thead><tbody><tr><th>1</th><td>5c7e91c1973c990016ea72b0</td><td>2.0</td><td>5.0</td><td>3.0</td><td>1.0</td><td><em>missing</em></td><td><em>missing</em></td><td>69</td><td>24.0</td><td>30.0</td><td>10.0</td><td>82.2857</td><td>3.28571</td></tr><tr><th>2</th><td>5e67052c757e6149c38ce468</td><td>1.0</td><td>1.0</td><td>1.0</td><td>4.0</td><td><em>missing</em></td><td><em>missing</em></td><td>57</td><td>18.0</td><td>14.0</td><td>25.0</td><td>82.2857</td><td>3.28571</td></tr><tr><th>3</th><td>5d89106d1719af0001ee23e5</td><td>2.0</td><td>2.0</td><td>1.0</td><td>6.0</td><td><em>missing</em></td><td><em>missing</em></td><td>27</td><td>8.0</td><td>40.0</td><td>5.0</td><td>82.2857</td><td>3.28571</td></tr><tr><th>4</th><td>5d6394518df2870001a74b42</td><td>2.0</td><td>2.0</td><td>1.0</td><td>1.0</td><td><em>missing</em></td><td><em>missing</em></td><td>42</td><td>23.0</td><td>40.0</td><td>16.0</td><td>82.2857</td><td>3.28571</td></tr><tr><th>5</th><td>5bdd368719b9ba000157fb12</td><td>2.0</td><td>3.0</td><td>4.0</td><td>4.0</td><td><em>missing</em></td><td><em>missing</em></td><td>29</td><td>10.0</td><td>40.0</td><td>5.0</td><td>82.2857</td><td>3.28571</td></tr><tr><th>6</th><td>5a8ce265000dab00018ce084</td><td>2.0</td><td>4.0</td><td>6.0</td><td>3.0</td><td><em>missing</em></td><td><em>missing</em></td><td>37</td><td>6.0</td><td>34.0</td><td>7.0</td><td>82.2857</td><td>3.28571</td></tr><tr><th>7</th><td>5c72efa770d5a200018028f1</td><td>1.0</td><td>5.0</td><td>2.0</td><td>3.0</td><td><em>missing</em></td><td><em>missing</em></td><td>27</td><td>9.0</td><td>39.0</td><td>5.0</td><td>82.2857</td><td>3.28571</td></tr><tr><th>8</th><td>5aea962d0ef2f20001858c9c</td><td>1.0</td><td>2.0</td><td>1.0</td><td>2.0</td><td><em>missing</em></td><td><em>missing</em></td><td>59</td><td>17.0</td><td>17.0</td><td>16.0</td><td>82.2857</td><td>3.28571</td></tr><tr><th>9</th><td>5e4b793f03c92a08a6d28e3f</td><td>1.0</td><td>2.0</td><td>7.0</td><td>4.0</td><td><em>missing</em></td><td><em>missing</em></td><td>42</td><td>4.0</td><td>18.0</td><td>11.0</td><td>82.2857</td><td>3.28571</td></tr><tr><th>10</th><td>5cbc071f2edc3b00018ab097</td><td>1.0</td><td>7.0</td><td>1.0</td><td>3.0</td><td><em>missing</em></td><td><em>missing</em></td><td>43</td><td>13.0</td><td>28.0</td><td>8.0</td><td>82.2857</td><td>3.28571</td></tr><tr><th>11</th><td>5c1b06d9a329230001ecc39c</td><td>1.0</td><td>2.0</td><td>1.0</td><td>2.0</td><td><em>missing</em></td><td><em>missing</em></td><td>42</td><td>10.0</td><td>18.0</td><td>8.0</td><td>82.2857</td><td>3.28571</td></tr><tr><th>12</th><td>5e576e085069e61204a85872</td><td>1.0</td><td>2.0</td><td>7.0</td><td>4.0</td><td><em>missing</em></td><td><em>missing</em></td><td>44</td><td>19.0</td><td>32.0</td><td>19.0</td><td>82.2857</td><td>3.28571</td></tr><tr><th>13</th><td>5dcf50f05686c1099819882a</td><td>1.0</td><td>6.0</td><td>3.0</td><td>1.0</td><td><em>missing</em></td><td><em>missing</em></td><td>41</td><td>19.0</td><td>32.0</td><td>17.0</td><td>82.2857</td><td>3.28571</td></tr><tr><th>14</th><td>5d2d8b999c6703001525304f</td><td>1.0</td><td>2.0</td><td>1.0</td><td>7.0</td><td><em>missing</em></td><td><em>missing</em></td><td>47</td><td>12.0</td><td>8.0</td><td>25.0</td><td>82.2857</td><td>3.28571</td></tr><tr><th>15</th><td>5de8bc74553cee8280a7dd84</td><td>1.0</td><td>5.0</td><td>1.0</td><td>2.0</td><td><em>missing</em></td><td><em>missing</em></td><td>36</td><td>8.0</td><td>27.0</td><td>13.0</td><td>82.2857</td><td>3.28571</td></tr><tr><th>16</th><td>5b6a87d2cda8590001db8e07</td><td>1.0</td><td>5.0</td><td>1.0</td><td>1.0</td><td><em>missing</em></td><td><em>missing</em></td><td>63</td><td>13.0</td><td>28.0</td><td>14.0</td><td>82.2857</td><td>3.28571</td></tr><tr><th>17</th><td>5e3dff6b8714b707b9a258b0</td><td>1.0</td><td>5.0</td><td>1.0</td><td>2.0</td><td><em>missing</em></td><td><em>missing</em></td><td>57</td><td>11.0</td><td>24.0</td><td>20.0</td><td>82.2857</td><td>3.28571</td></tr><tr><th>18</th><td>5b05e0d131cebe000177c38e</td><td>1.0</td><td>2.0</td><td>1.0</td><td>5.0</td><td><em>missing</em></td><td><em>missing</em></td><td>68</td><td>20.0</td><td>23.0</td><td>15.0</td><td>82.2857</td><td>3.28571</td></tr><tr><th>19</th><td>5d3b79a59d5c14000140c32f</td><td>2.0</td><td>5.0</td><td>4.0</td><td>2.0</td><td><em>missing</em></td><td><em>missing</em></td><td>44</td><td>8.0</td><td>32.0</td><td>6.0</td><td>82.2857</td><td>3.28571</td></tr><tr><th>20</th><td>5e53e22ea0002e3e73720f65</td><td>2.0</td><td>3.0</td><td>2.0</td><td>1.0</td><td><em>missing</em></td><td><em>missing</em></td><td>43</td><td>11.0</td><td>14.0</td><td>25.0</td><td>82.2857</td><td>3.28571</td></tr><tr><th>21</th><td>5e6fde86b3ea9e5bb33664e4</td><td>1.0</td><td>3.0</td><td>1.0</td><td>3.0</td><td><em>missing</em></td><td><em>missing</em></td><td>35</td><td>7.0</td><td>31.0</td><td>16.0</td><td>82.2857</td><td>3.28571</td></tr><tr><th>22</th><td>5e65dca1d639df34800674a8</td><td>2.0</td><td>2.0</td><td>7.0</td><td>2.0</td><td><em>missing</em></td><td><em>missing</em></td><td>41</td><td>14.0</td><td>32.0</td><td>15.0</td><td>82.2857</td><td>3.28571</td></tr><tr><th>23</th><td>5de0b69ba91be311cb773b0b</td><td>1.0</td><td>2.0</td><td>1.0</td><td>2.0</td><td><em>missing</em></td><td><em>missing</em></td><td>42</td><td>9.0</td><td>8.0</td><td>13.0</td><td>82.2857</td><td>3.28571</td></tr><tr><th>24</th><td>5e05b7747dd477fc2d2d2857</td><td>1.0</td><td>5.0</td><td>3.0</td><td>7.0</td><td><em>missing</em></td><td><em>missing</em></td><td>30</td><td>9.0</td><td>38.0</td><td>6.0</td><td>82.2857</td><td>3.28571</td></tr><tr><th>&vellip;</th><td>&vellip;</td><td>&vellip;</td><td>&vellip;</td><td>&vellip;</td><td>&vellip;</td><td>&vellip;</td><td>&vellip;</td><td>&vellip;</td><td>&vellip;</td><td>&vellip;</td><td>&vellip;</td><td>&vellip;</td><td>&vellip;</td></tr></tbody></table></div>"
      ],
      "text/latex": [
       "\\begin{tabular}{r|cccccccccccccc}\n",
       "\t& PROLIFIC\\_PID & Gender\\_w1 & Education\\_w1 & Income\\_w1 & Political\\_Views\\_w1 & Depression\\_w1 & Stress\\_w1 & Anxiety\\_w1 & Fear\\_COVID\\_w1 & Emotional\\_Support\\_w1 & Loneliness\\_w1 & slope\\_new\\_cases\\_w1 & slope\\_new\\_deaths\\_w1 & \\\\\n",
       "\t\\hline\n",
       "\t& String31 & Float64 & Float64 & Float64 & Float64 & Missing & Missing & Int64 & Float64 & Float64 & Float64 & Float64 & Float64 & \\\\\n",
       "\t\\hline\n",
       "\t1 & 5c7e91c1973c990016ea72b0 & 2.0 & 5.0 & 3.0 & 1.0 & \\emph{missing} & \\emph{missing} & 69 & 24.0 & 30.0 & 10.0 & 82.2857 & 3.28571 & $\\dots$ \\\\\n",
       "\t2 & 5e67052c757e6149c38ce468 & 1.0 & 1.0 & 1.0 & 4.0 & \\emph{missing} & \\emph{missing} & 57 & 18.0 & 14.0 & 25.0 & 82.2857 & 3.28571 & $\\dots$ \\\\\n",
       "\t3 & 5d89106d1719af0001ee23e5 & 2.0 & 2.0 & 1.0 & 6.0 & \\emph{missing} & \\emph{missing} & 27 & 8.0 & 40.0 & 5.0 & 82.2857 & 3.28571 & $\\dots$ \\\\\n",
       "\t4 & 5d6394518df2870001a74b42 & 2.0 & 2.0 & 1.0 & 1.0 & \\emph{missing} & \\emph{missing} & 42 & 23.0 & 40.0 & 16.0 & 82.2857 & 3.28571 & $\\dots$ \\\\\n",
       "\t5 & 5bdd368719b9ba000157fb12 & 2.0 & 3.0 & 4.0 & 4.0 & \\emph{missing} & \\emph{missing} & 29 & 10.0 & 40.0 & 5.0 & 82.2857 & 3.28571 & $\\dots$ \\\\\n",
       "\t6 & 5a8ce265000dab00018ce084 & 2.0 & 4.0 & 6.0 & 3.0 & \\emph{missing} & \\emph{missing} & 37 & 6.0 & 34.0 & 7.0 & 82.2857 & 3.28571 & $\\dots$ \\\\\n",
       "\t7 & 5c72efa770d5a200018028f1 & 1.0 & 5.0 & 2.0 & 3.0 & \\emph{missing} & \\emph{missing} & 27 & 9.0 & 39.0 & 5.0 & 82.2857 & 3.28571 & $\\dots$ \\\\\n",
       "\t8 & 5aea962d0ef2f20001858c9c & 1.0 & 2.0 & 1.0 & 2.0 & \\emph{missing} & \\emph{missing} & 59 & 17.0 & 17.0 & 16.0 & 82.2857 & 3.28571 & $\\dots$ \\\\\n",
       "\t9 & 5e4b793f03c92a08a6d28e3f & 1.0 & 2.0 & 7.0 & 4.0 & \\emph{missing} & \\emph{missing} & 42 & 4.0 & 18.0 & 11.0 & 82.2857 & 3.28571 & $\\dots$ \\\\\n",
       "\t10 & 5cbc071f2edc3b00018ab097 & 1.0 & 7.0 & 1.0 & 3.0 & \\emph{missing} & \\emph{missing} & 43 & 13.0 & 28.0 & 8.0 & 82.2857 & 3.28571 & $\\dots$ \\\\\n",
       "\t11 & 5c1b06d9a329230001ecc39c & 1.0 & 2.0 & 1.0 & 2.0 & \\emph{missing} & \\emph{missing} & 42 & 10.0 & 18.0 & 8.0 & 82.2857 & 3.28571 & $\\dots$ \\\\\n",
       "\t12 & 5e576e085069e61204a85872 & 1.0 & 2.0 & 7.0 & 4.0 & \\emph{missing} & \\emph{missing} & 44 & 19.0 & 32.0 & 19.0 & 82.2857 & 3.28571 & $\\dots$ \\\\\n",
       "\t13 & 5dcf50f05686c1099819882a & 1.0 & 6.0 & 3.0 & 1.0 & \\emph{missing} & \\emph{missing} & 41 & 19.0 & 32.0 & 17.0 & 82.2857 & 3.28571 & $\\dots$ \\\\\n",
       "\t14 & 5d2d8b999c6703001525304f & 1.0 & 2.0 & 1.0 & 7.0 & \\emph{missing} & \\emph{missing} & 47 & 12.0 & 8.0 & 25.0 & 82.2857 & 3.28571 & $\\dots$ \\\\\n",
       "\t15 & 5de8bc74553cee8280a7dd84 & 1.0 & 5.0 & 1.0 & 2.0 & \\emph{missing} & \\emph{missing} & 36 & 8.0 & 27.0 & 13.0 & 82.2857 & 3.28571 & $\\dots$ \\\\\n",
       "\t16 & 5b6a87d2cda8590001db8e07 & 1.0 & 5.0 & 1.0 & 1.0 & \\emph{missing} & \\emph{missing} & 63 & 13.0 & 28.0 & 14.0 & 82.2857 & 3.28571 & $\\dots$ \\\\\n",
       "\t17 & 5e3dff6b8714b707b9a258b0 & 1.0 & 5.0 & 1.0 & 2.0 & \\emph{missing} & \\emph{missing} & 57 & 11.0 & 24.0 & 20.0 & 82.2857 & 3.28571 & $\\dots$ \\\\\n",
       "\t18 & 5b05e0d131cebe000177c38e & 1.0 & 2.0 & 1.0 & 5.0 & \\emph{missing} & \\emph{missing} & 68 & 20.0 & 23.0 & 15.0 & 82.2857 & 3.28571 & $\\dots$ \\\\\n",
       "\t19 & 5d3b79a59d5c14000140c32f & 2.0 & 5.0 & 4.0 & 2.0 & \\emph{missing} & \\emph{missing} & 44 & 8.0 & 32.0 & 6.0 & 82.2857 & 3.28571 & $\\dots$ \\\\\n",
       "\t20 & 5e53e22ea0002e3e73720f65 & 2.0 & 3.0 & 2.0 & 1.0 & \\emph{missing} & \\emph{missing} & 43 & 11.0 & 14.0 & 25.0 & 82.2857 & 3.28571 & $\\dots$ \\\\\n",
       "\t21 & 5e6fde86b3ea9e5bb33664e4 & 1.0 & 3.0 & 1.0 & 3.0 & \\emph{missing} & \\emph{missing} & 35 & 7.0 & 31.0 & 16.0 & 82.2857 & 3.28571 & $\\dots$ \\\\\n",
       "\t22 & 5e65dca1d639df34800674a8 & 2.0 & 2.0 & 7.0 & 2.0 & \\emph{missing} & \\emph{missing} & 41 & 14.0 & 32.0 & 15.0 & 82.2857 & 3.28571 & $\\dots$ \\\\\n",
       "\t23 & 5de0b69ba91be311cb773b0b & 1.0 & 2.0 & 1.0 & 2.0 & \\emph{missing} & \\emph{missing} & 42 & 9.0 & 8.0 & 13.0 & 82.2857 & 3.28571 & $\\dots$ \\\\\n",
       "\t24 & 5e05b7747dd477fc2d2d2857 & 1.0 & 5.0 & 3.0 & 7.0 & \\emph{missing} & \\emph{missing} & 30 & 9.0 & 38.0 & 6.0 & 82.2857 & 3.28571 & $\\dots$ \\\\\n",
       "\t$\\dots$ & $\\dots$ & $\\dots$ & $\\dots$ & $\\dots$ & $\\dots$ & $\\dots$ & $\\dots$ & $\\dots$ & $\\dots$ & $\\dots$ & $\\dots$ & $\\dots$ & $\\dots$ &  \\\\\n",
       "\\end{tabular}\n"
      ],
      "text/plain": [
       "\u001b[1m1797×41 DataFrame\u001b[0m\n",
       "\u001b[1m  Row \u001b[0m│\u001b[1m PROLIFIC_PID             \u001b[0m\u001b[1m Gender_w1 \u001b[0m\u001b[1m Education_w1 \u001b[0m\u001b[1m Income_w1 \u001b[0m\u001b[1m Political_Views_w1 \u001b[0m\u001b[1m Depression_w1 \u001b[0m\u001b[1m Stress_w1 \u001b[0m\u001b[1m Anxiety_w1 \u001b[0m\u001b[1m Fear_COVID_w1 \u001b[0m\u001b[1m Emotional_Support_w1 \u001b[0m\u001b[1m Loneliness_w1 \u001b[0m\u001b[1m slope_new_cases_w1\u001b[0m ⋯\n",
       "\u001b[1m      \u001b[0m│\u001b[90m String31                 \u001b[0m\u001b[90m Float64   \u001b[0m\u001b[90m Float64      \u001b[0m\u001b[90m Float64   \u001b[0m\u001b[90m Float64            \u001b[0m\u001b[90m Missing       \u001b[0m\u001b[90m Missing   \u001b[0m\u001b[90m Int64      \u001b[0m\u001b[90m Float64       \u001b[0m\u001b[90m Float64              \u001b[0m\u001b[90m Float64       \u001b[0m\u001b[90m Float64           \u001b[0m ⋯\n",
       "──────┼─────────────────────────────────────────────────────────────────────────────────────────────────────────────────────────────────────────────────────────────────────────────────────────────────\n",
       "    1 │ 5c7e91c1973c990016ea72b0        2.0           5.0        3.0                 1.0 \u001b[90m       missing \u001b[0m\u001b[90m   missing \u001b[0m         69           24.0                  30.0           10.0           82.2857   ⋯\n",
       "    2 │ 5e67052c757e6149c38ce468        1.0           1.0        1.0                 4.0 \u001b[90m       missing \u001b[0m\u001b[90m   missing \u001b[0m         57           18.0                  14.0           25.0           82.2857\n",
       "    3 │ 5d89106d1719af0001ee23e5        2.0           2.0        1.0                 6.0 \u001b[90m       missing \u001b[0m\u001b[90m   missing \u001b[0m         27            8.0                  40.0            5.0           82.2857\n",
       "    4 │ 5d6394518df2870001a74b42        2.0           2.0        1.0                 1.0 \u001b[90m       missing \u001b[0m\u001b[90m   missing \u001b[0m         42           23.0                  40.0           16.0           82.2857\n",
       "    5 │ 5bdd368719b9ba000157fb12        2.0           3.0        4.0                 4.0 \u001b[90m       missing \u001b[0m\u001b[90m   missing \u001b[0m         29           10.0                  40.0            5.0           82.2857   ⋯\n",
       "    6 │ 5a8ce265000dab00018ce084        2.0           4.0        6.0                 3.0 \u001b[90m       missing \u001b[0m\u001b[90m   missing \u001b[0m         37            6.0                  34.0            7.0           82.2857\n",
       "    7 │ 5c72efa770d5a200018028f1        1.0           5.0        2.0                 3.0 \u001b[90m       missing \u001b[0m\u001b[90m   missing \u001b[0m         27            9.0                  39.0            5.0           82.2857\n",
       "    8 │ 5aea962d0ef2f20001858c9c        1.0           2.0        1.0                 2.0 \u001b[90m       missing \u001b[0m\u001b[90m   missing \u001b[0m         59           17.0                  17.0           16.0           82.2857\n",
       "  ⋮   │            ⋮                  ⋮           ⋮            ⋮              ⋮                 ⋮            ⋮          ⋮             ⋮                 ⋮                  ⋮                ⋮          ⋱\n",
       " 1791 │ 5caeb56feb05440017fd4817        1.0           4.0        3.0                 4.0 \u001b[90m       missing \u001b[0m\u001b[90m   missing \u001b[0m         51           17.0                  16.0           23.0            8.42857  ⋯\n",
       " 1792 │ 5def020419398a5b744b98b9        1.0           5.0        5.0                 2.0 \u001b[90m       missing \u001b[0m\u001b[90m   missing \u001b[0m         30           19.0                  40.0            5.0            8.42857\n",
       " 1793 │ 5e1fa6a063251a2de1d6b236        1.0           5.0        4.0                 2.0 \u001b[90m       missing \u001b[0m\u001b[90m   missing \u001b[0m         38           16.0                  37.0            7.0            7.14286\n",
       " 1794 │ 5e7ccb90239c34323a771320        2.0           5.0        3.0                 1.0 \u001b[90m       missing \u001b[0m\u001b[90m   missing \u001b[0m         49            8.0                  30.0           13.0            7.14286\n",
       " 1795 │ 5e39448ea9cf9414e733ff48        1.0           7.0        2.0                 2.0 \u001b[90m       missing \u001b[0m\u001b[90m   missing \u001b[0m         33           14.0                  29.0            9.0            7.14286  ⋯\n",
       " 1796 │ 5d30a875ad3457001743fbc9        1.0           7.0        5.0                 5.0 \u001b[90m       missing \u001b[0m\u001b[90m   missing \u001b[0m         30           16.0                  38.0            5.0           13.4286\n",
       " 1797 │ 5da926115c6987001535a2da        1.0           5.0        4.0                 6.0 \u001b[90m       missing \u001b[0m\u001b[90m   missing \u001b[0m         27            2.0                  31.0            5.0           -0.571429\n",
       "\u001b[36m                                                                                                                                                                        29 columns and 1782 rows omitted\u001b[0m"
      ]
     },
     "metadata": {},
     "output_type": "display_data"
    }
   ],
   "source": [
    "ENV[\"COLUMNS\"] = 200\n",
    "data = CSV.read(\"w6.csv\", DataFrame)"
   ]
  },
  {
   "cell_type": "code",
   "execution_count": 15,
   "metadata": {},
   "outputs": [
    {
     "data": {
      "text/plain": [
       "41-element Vector{String}:\n",
       " \"PROLIFIC_PID\"\n",
       " \"Gender_w1\"\n",
       " \"Education_w1\"\n",
       " \"Income_w1\"\n",
       " \"Political_Views_w1\"\n",
       " \"Depression_w1\"\n",
       " \"Stress_w1\"\n",
       " \"Anxiety_w1\"\n",
       " \"Fear_COVID_w1\"\n",
       " \"Emotional_Support_w1\"\n",
       " ⋮\n",
       " \"slope_new_deaths_w6\"\n",
       " \"GatheringStrictness_w6\"\n",
       " \"Mandatory_business_closure_w6\"\n",
       " \"Mandatory_PPE_masks_w6\"\n",
       " \"more_than_1_attQ_failed_w6\"\n",
       " \"string_outlier_core_w6\"\n",
       " \"response_consistency_w6\"\n",
       " \"wave_w6\"\n",
       " \"RW1_8_w6\""
      ]
     },
     "metadata": {},
     "output_type": "display_data"
    }
   ],
   "source": [
    "names(data)"
   ]
  },
  {
   "cell_type": "code",
   "execution_count": 25,
   "metadata": {},
   "outputs": [
    {
     "data": {
      "text/plain": [
       "3-element Vector{Int64}:\n",
       " 3\n",
       " 8\n",
       " 0"
      ]
     },
     "metadata": {},
     "output_type": "display_data"
    }
   ],
   "source": [
    "sum.(eachcol(dropmissing(data[!, [\"more_than_1_attQ_failed_w6\", \"string_outlier_core_w6\", \"response_consistency_w6\"]])))"
   ]
  },
  {
   "cell_type": "code",
   "execution_count": 27,
   "metadata": {},
   "outputs": [
    {
     "data": {
      "text/html": [
       "<div class=\"data-frame\"><p>1,178 rows × 3 columns</p><table class=\"data-frame\"><thead><tr><th></th><th>more_than_1_attQ_failed_w6</th><th>string_outlier_core_w6</th><th>response_consistency_w6</th></tr><tr><th></th><th title=\"Union{Missing, Bool}\">Bool?</th><th title=\"Union{Missing, Bool}\">Bool?</th><th title=\"Union{Missing, Bool}\">Bool?</th></tr></thead><tbody><tr><th>1</th><td>0</td><td>0</td><td>0</td></tr><tr><th>2</th><td>0</td><td>0</td><td>0</td></tr><tr><th>3</th><td>0</td><td>0</td><td>0</td></tr><tr><th>4</th><td>0</td><td>0</td><td>0</td></tr><tr><th>5</th><td>0</td><td>0</td><td>0</td></tr><tr><th>6</th><td>0</td><td>0</td><td>0</td></tr><tr><th>7</th><td>0</td><td>0</td><td>0</td></tr><tr><th>8</th><td>0</td><td>0</td><td>0</td></tr><tr><th>9</th><td>0</td><td>0</td><td>0</td></tr><tr><th>10</th><td>0</td><td>0</td><td>0</td></tr><tr><th>11</th><td>0</td><td>0</td><td>0</td></tr><tr><th>12</th><td>0</td><td>1</td><td>0</td></tr><tr><th>13</th><td>0</td><td>0</td><td>0</td></tr><tr><th>14</th><td>0</td><td>0</td><td>0</td></tr><tr><th>15</th><td>0</td><td>0</td><td>0</td></tr><tr><th>16</th><td>0</td><td>0</td><td>0</td></tr><tr><th>17</th><td>0</td><td>0</td><td>0</td></tr><tr><th>18</th><td>0</td><td>0</td><td>0</td></tr><tr><th>19</th><td>0</td><td>0</td><td>0</td></tr><tr><th>20</th><td>0</td><td>0</td><td>0</td></tr><tr><th>21</th><td>0</td><td>0</td><td>0</td></tr><tr><th>22</th><td>0</td><td>0</td><td>0</td></tr><tr><th>23</th><td>0</td><td>0</td><td>0</td></tr><tr><th>24</th><td>0</td><td>0</td><td>0</td></tr><tr><th>&vellip;</th><td>&vellip;</td><td>&vellip;</td><td>&vellip;</td></tr></tbody></table></div>"
      ],
      "text/latex": [
       "\\begin{tabular}{r|ccc}\n",
       "\t& more\\_than\\_1\\_attQ\\_failed\\_w6 & string\\_outlier\\_core\\_w6 & response\\_consistency\\_w6\\\\\n",
       "\t\\hline\n",
       "\t& Bool? & Bool? & Bool?\\\\\n",
       "\t\\hline\n",
       "\t1 & 0 & 0 & 0 \\\\\n",
       "\t2 & 0 & 0 & 0 \\\\\n",
       "\t3 & 0 & 0 & 0 \\\\\n",
       "\t4 & 0 & 0 & 0 \\\\\n",
       "\t5 & 0 & 0 & 0 \\\\\n",
       "\t6 & 0 & 0 & 0 \\\\\n",
       "\t7 & 0 & 0 & 0 \\\\\n",
       "\t8 & 0 & 0 & 0 \\\\\n",
       "\t9 & 0 & 0 & 0 \\\\\n",
       "\t10 & 0 & 0 & 0 \\\\\n",
       "\t11 & 0 & 0 & 0 \\\\\n",
       "\t12 & 0 & 1 & 0 \\\\\n",
       "\t13 & 0 & 0 & 0 \\\\\n",
       "\t14 & 0 & 0 & 0 \\\\\n",
       "\t15 & 0 & 0 & 0 \\\\\n",
       "\t16 & 0 & 0 & 0 \\\\\n",
       "\t17 & 0 & 0 & 0 \\\\\n",
       "\t18 & 0 & 0 & 0 \\\\\n",
       "\t19 & 0 & 0 & 0 \\\\\n",
       "\t20 & 0 & 0 & 0 \\\\\n",
       "\t21 & 0 & 0 & 0 \\\\\n",
       "\t22 & 0 & 0 & 0 \\\\\n",
       "\t23 & 0 & 0 & 0 \\\\\n",
       "\t24 & 0 & 0 & 0 \\\\\n",
       "\t$\\dots$ & $\\dots$ & $\\dots$ & $\\dots$ \\\\\n",
       "\\end{tabular}\n"
      ],
      "text/plain": [
       "\u001b[1m1178×3 DataFrame\u001b[0m\n",
       "\u001b[1m  Row \u001b[0m│\u001b[1m more_than_1_attQ_failed_w6 \u001b[0m\u001b[1m string_outlier_core_w6 \u001b[0m\u001b[1m response_consistency_w6 \u001b[0m\n",
       "\u001b[1m      \u001b[0m│\u001b[90m Union{Missing, Bool}       \u001b[0m\u001b[90m Union{Missing, Bool}   \u001b[0m\u001b[90m Union{Missing, Bool}    \u001b[0m\n",
       "──────┼─────────────────────────────────────────────────────────────────────────────\n",
       "    1 │                      false                   false                    false\n",
       "    2 │                      false                   false                    false\n",
       "    3 │                      false                   false                    false\n",
       "    4 │                      false                   false                    false\n",
       "    5 │                      false                   false                    false\n",
       "    6 │                      false                   false                    false\n",
       "    7 │                      false                   false                    false\n",
       "    8 │                      false                   false                    false\n",
       "  ⋮   │             ⋮                         ⋮                        ⋮\n",
       " 1172 │                      false                   false                    false\n",
       " 1173 │                      false                   false                    false\n",
       " 1174 │                      false                   false                    false\n",
       " 1175 │                      false                   false                    false\n",
       " 1176 │                      false                   false                    false\n",
       " 1177 │                      false                   false                    false\n",
       " 1178 │                      false                   false                    false\n",
       "\u001b[36m                                                                   1163 rows omitted\u001b[0m"
      ]
     },
     "metadata": {},
     "output_type": "display_data"
    }
   ],
   "source": [
    "w6 = data[data[!, \"Depression_w6\"].!==missing, [\"more_than_1_attQ_failed_w6\", \"string_outlier_core_w6\", \"response_consistency_w6\"]]"
   ]
  },
  {
   "cell_type": "code",
   "execution_count": null,
   "metadata": {},
   "outputs": [],
   "source": [
    "w6_censor_low_quality = "
   ]
  },
  {
   "cell_type": "code",
   "execution_count": null,
   "metadata": {},
   "outputs": [],
   "source": []
  },
  {
   "cell_type": "code",
   "execution_count": null,
   "metadata": {},
   "outputs": [],
   "source": []
  },
  {
   "cell_type": "code",
   "execution_count": 6,
   "metadata": {},
   "outputs": [
    {
     "data": {
      "text/plain": [
       "1797-element Vector{Float64}:\n",
       " 3.0\n",
       " 1.0\n",
       " 1.0\n",
       " 1.0\n",
       " 4.0\n",
       " 6.0\n",
       " 2.0\n",
       " 1.0\n",
       " 7.0\n",
       " 1.0\n",
       " ⋮\n",
       " 3.0\n",
       " 2.0\n",
       " 3.0\n",
       " 5.0\n",
       " 4.0\n",
       " 3.0\n",
       " 2.0\n",
       " 5.0\n",
       " 4.0"
      ]
     },
     "metadata": {},
     "output_type": "display_data"
    }
   ],
   "source": [
    "data[!, \"Income_w1\"]"
   ]
  }
 ],
 "metadata": {
  "kernelspec": {
   "display_name": "Julia 1.6.3",
   "language": "julia",
   "name": "julia-1.6"
  },
  "language_info": {
   "file_extension": ".jl",
   "mimetype": "application/julia",
   "name": "julia",
   "version": "1.6.3"
  },
  "orig_nbformat": 4
 },
 "nbformat": 4,
 "nbformat_minor": 2
}
