{
 "cells": [
  {
   "cell_type": "code",
   "execution_count": 1,
   "metadata": {},
   "outputs": [],
   "source": [
    "# The core scripts for the analysis\n",
    "using Revise\n",
    "push!(LOAD_PATH, \"../src\") \n",
    "using DataFrames\n",
    "using Counterfactuals\n",
    "using CSV\n",
    "using GLM\n",
    "using StatsModels\n",
    "using Plots\n",
    "using Statistics\n",
    "using StatsBase"
   ]
  },
  {
   "cell_type": "code",
   "execution_count": 2,
   "metadata": {},
   "outputs": [
    {
     "data": {
      "text/html": [
       "<div class=\"data-frame\"><p>1,167 rows × 39 columns (omitted printing of 33 columns)</p><table class=\"data-frame\"><thead><tr><th></th><th>PROLIFIC_PID</th><th>Gender</th><th>Education</th><th>Income</th><th>Political_Views</th><th>Age</th></tr><tr><th></th><th title=\"String31\">String31</th><th title=\"Bool\">Bool</th><th title=\"Float64\">Float64</th><th title=\"Float64\">Float64</th><th title=\"Float64\">Float64</th><th title=\"Float64\">Float64</th></tr></thead><tbody><tr><th>1</th><td>5c7e91c1973c990016ea72b0</td><td>0</td><td>5.0</td><td>1.0</td><td>1.0</td><td>55.0</td></tr><tr><th>2</th><td>5e753094e8a6f10a9805ed9a</td><td>0</td><td>5.0</td><td>3.0</td><td>1.0</td><td>64.0</td></tr><tr><th>3</th><td>5e67052c757e6149c38ce468</td><td>1</td><td>1.0</td><td>1.0</td><td>4.0</td><td>23.0</td></tr><tr><th>4</th><td>5d89106d1719af0001ee23e5</td><td>0</td><td>2.0</td><td>1.0</td><td>6.0</td><td>47.0</td></tr><tr><th>5</th><td>5dc5bd296a8a334443fbf216</td><td>0</td><td>3.0</td><td>1.0</td><td>4.0</td><td>48.0</td></tr><tr><th>6</th><td>5dce29700ad506063969a4a5</td><td>0</td><td>3.0</td><td>1.0</td><td>5.0</td><td>36.0</td></tr><tr><th>7</th><td>5d6394518df2870001a74b42</td><td>0</td><td>2.0</td><td>1.0</td><td>1.0</td><td>23.0</td></tr><tr><th>8</th><td>5e784ba802c79b3c2e227bd3</td><td>1</td><td>3.0</td><td>1.0</td><td>4.0</td><td>21.0</td></tr><tr><th>9</th><td>5bdd368719b9ba000157fb12</td><td>0</td><td>3.0</td><td>1.0</td><td>4.0</td><td>28.0</td></tr><tr><th>10</th><td>5e4a0a67110b3747ea173d60</td><td>1</td><td>6.0</td><td>3.0</td><td>2.0</td><td>56.0</td></tr><tr><th>11</th><td>5e605d713d60473af936cc65</td><td>1</td><td>5.0</td><td>1.0</td><td>5.0</td><td>26.0</td></tr><tr><th>12</th><td>574ce0a57fd0ec000db73aa6</td><td>0</td><td>2.0</td><td>1.0</td><td>3.0</td><td>69.0</td></tr><tr><th>13</th><td>5d75c56a52c89d0017df611c</td><td>0</td><td>5.0</td><td>1.0</td><td>1.0</td><td>38.0</td></tr><tr><th>14</th><td>55bb74f1fdf99b1519ef4762</td><td>1</td><td>3.0</td><td>1.0</td><td>1.0</td><td>48.0</td></tr><tr><th>15</th><td>5e3f3666b504fb19a5fe769e</td><td>1</td><td>3.0</td><td>2.0</td><td>4.0</td><td>60.0</td></tr><tr><th>16</th><td>5a8ce265000dab00018ce084</td><td>0</td><td>4.0</td><td>6.0</td><td>3.0</td><td>50.0</td></tr><tr><th>17</th><td>5c72efa770d5a200018028f1</td><td>1</td><td>5.0</td><td>2.0</td><td>3.0</td><td>71.0</td></tr><tr><th>18</th><td>5c30b2a910677f0001dda4c8</td><td>0</td><td>5.0</td><td>5.0</td><td>1.0</td><td>50.0</td></tr><tr><th>19</th><td>5d506e6d4040a40016bb186a</td><td>1</td><td>2.0</td><td>3.0</td><td>2.0</td><td>74.0</td></tr><tr><th>20</th><td>57f0d96061e8340001877045</td><td>1</td><td>2.0</td><td>1.0</td><td>4.0</td><td>58.0</td></tr><tr><th>21</th><td>5db4a409d27e05000f0eaa00</td><td>1</td><td>2.0</td><td>2.0</td><td>5.0</td><td>29.0</td></tr><tr><th>22</th><td>5dcfc4a09595a10cd3ef3e59</td><td>0</td><td>2.0</td><td>1.0</td><td>3.0</td><td>20.0</td></tr><tr><th>23</th><td>59349d79f1b3f00001964d04</td><td>0</td><td>4.0</td><td>1.0</td><td>3.0</td><td>61.0</td></tr><tr><th>24</th><td>58d7d2c2e9b6dc000129148a</td><td>1</td><td>1.0</td><td>1.0</td><td>2.0</td><td>24.0</td></tr><tr><th>&vellip;</th><td>&vellip;</td><td>&vellip;</td><td>&vellip;</td><td>&vellip;</td><td>&vellip;</td><td>&vellip;</td></tr></tbody></table></div>"
      ],
      "text/latex": [
       "\\begin{tabular}{r|ccccccc}\n",
       "\t& PROLIFIC\\_PID & Gender & Education & Income & Political\\_Views & Age & \\\\\n",
       "\t\\hline\n",
       "\t& String31 & Bool & Float64 & Float64 & Float64 & Float64 & \\\\\n",
       "\t\\hline\n",
       "\t1 & 5c7e91c1973c990016ea72b0 & 0 & 5.0 & 1.0 & 1.0 & 55.0 & $\\dots$ \\\\\n",
       "\t2 & 5e753094e8a6f10a9805ed9a & 0 & 5.0 & 3.0 & 1.0 & 64.0 & $\\dots$ \\\\\n",
       "\t3 & 5e67052c757e6149c38ce468 & 1 & 1.0 & 1.0 & 4.0 & 23.0 & $\\dots$ \\\\\n",
       "\t4 & 5d89106d1719af0001ee23e5 & 0 & 2.0 & 1.0 & 6.0 & 47.0 & $\\dots$ \\\\\n",
       "\t5 & 5dc5bd296a8a334443fbf216 & 0 & 3.0 & 1.0 & 4.0 & 48.0 & $\\dots$ \\\\\n",
       "\t6 & 5dce29700ad506063969a4a5 & 0 & 3.0 & 1.0 & 5.0 & 36.0 & $\\dots$ \\\\\n",
       "\t7 & 5d6394518df2870001a74b42 & 0 & 2.0 & 1.0 & 1.0 & 23.0 & $\\dots$ \\\\\n",
       "\t8 & 5e784ba802c79b3c2e227bd3 & 1 & 3.0 & 1.0 & 4.0 & 21.0 & $\\dots$ \\\\\n",
       "\t9 & 5bdd368719b9ba000157fb12 & 0 & 3.0 & 1.0 & 4.0 & 28.0 & $\\dots$ \\\\\n",
       "\t10 & 5e4a0a67110b3747ea173d60 & 1 & 6.0 & 3.0 & 2.0 & 56.0 & $\\dots$ \\\\\n",
       "\t11 & 5e605d713d60473af936cc65 & 1 & 5.0 & 1.0 & 5.0 & 26.0 & $\\dots$ \\\\\n",
       "\t12 & 574ce0a57fd0ec000db73aa6 & 0 & 2.0 & 1.0 & 3.0 & 69.0 & $\\dots$ \\\\\n",
       "\t13 & 5d75c56a52c89d0017df611c & 0 & 5.0 & 1.0 & 1.0 & 38.0 & $\\dots$ \\\\\n",
       "\t14 & 55bb74f1fdf99b1519ef4762 & 1 & 3.0 & 1.0 & 1.0 & 48.0 & $\\dots$ \\\\\n",
       "\t15 & 5e3f3666b504fb19a5fe769e & 1 & 3.0 & 2.0 & 4.0 & 60.0 & $\\dots$ \\\\\n",
       "\t16 & 5a8ce265000dab00018ce084 & 0 & 4.0 & 6.0 & 3.0 & 50.0 & $\\dots$ \\\\\n",
       "\t17 & 5c72efa770d5a200018028f1 & 1 & 5.0 & 2.0 & 3.0 & 71.0 & $\\dots$ \\\\\n",
       "\t18 & 5c30b2a910677f0001dda4c8 & 0 & 5.0 & 5.0 & 1.0 & 50.0 & $\\dots$ \\\\\n",
       "\t19 & 5d506e6d4040a40016bb186a & 1 & 2.0 & 3.0 & 2.0 & 74.0 & $\\dots$ \\\\\n",
       "\t20 & 57f0d96061e8340001877045 & 1 & 2.0 & 1.0 & 4.0 & 58.0 & $\\dots$ \\\\\n",
       "\t21 & 5db4a409d27e05000f0eaa00 & 1 & 2.0 & 2.0 & 5.0 & 29.0 & $\\dots$ \\\\\n",
       "\t22 & 5dcfc4a09595a10cd3ef3e59 & 0 & 2.0 & 1.0 & 3.0 & 20.0 & $\\dots$ \\\\\n",
       "\t23 & 59349d79f1b3f00001964d04 & 0 & 4.0 & 1.0 & 3.0 & 61.0 & $\\dots$ \\\\\n",
       "\t24 & 58d7d2c2e9b6dc000129148a & 1 & 1.0 & 1.0 & 2.0 & 24.0 & $\\dots$ \\\\\n",
       "\t$\\dots$ & $\\dots$ & $\\dots$ & $\\dots$ & $\\dots$ & $\\dots$ & $\\dots$ &  \\\\\n",
       "\\end{tabular}\n"
      ],
      "text/plain": [
       "\u001b[1m1167×39 DataFrame\u001b[0m\n",
       "\u001b[1m  Row \u001b[0m│\u001b[1m PROLIFIC_PID             \u001b[0m\u001b[1m Gender \u001b[0m\u001b[1m Education \u001b[0m\u001b[1m Income  \u001b[0m\u001b[1m Political_Views \u001b[0m\u001b[1m\u001b[0m ⋯\n",
       "\u001b[1m      \u001b[0m│\u001b[90m String31                 \u001b[0m\u001b[90m Bool   \u001b[0m\u001b[90m Float64   \u001b[0m\u001b[90m Float64 \u001b[0m\u001b[90m Float64         \u001b[0m\u001b[90m\u001b[0m ⋯\n",
       "──────┼─────────────────────────────────────────────────────────────────────────\n",
       "    1 │ 5c7e91c1973c990016ea72b0   false        5.0      1.0              1.0  ⋯\n",
       "    2 │ 5e753094e8a6f10a9805ed9a   false        5.0      3.0              1.0\n",
       "    3 │ 5e67052c757e6149c38ce468    true        1.0      1.0              4.0\n",
       "    4 │ 5d89106d1719af0001ee23e5   false        2.0      1.0              6.0\n",
       "    5 │ 5dc5bd296a8a334443fbf216   false        3.0      1.0              4.0  ⋯\n",
       "    6 │ 5dce29700ad506063969a4a5   false        3.0      1.0              5.0\n",
       "    7 │ 5d6394518df2870001a74b42   false        2.0      1.0              1.0\n",
       "    8 │ 5e784ba802c79b3c2e227bd3    true        3.0      1.0              4.0\n",
       "  ⋮   │            ⋮                ⋮         ⋮         ⋮            ⋮         ⋱\n",
       " 1161 │ 5e80cd337412d47af23d463d    true        5.0      1.0              3.0  ⋯\n",
       " 1162 │ 5e37ace67b6a7a72785dcfaf    true        3.0      1.0              4.0\n",
       " 1163 │ 5d14f01dcd4b9c000184627b   false        5.0      2.0              6.0\n",
       " 1164 │ 5b5e7e643bac1d0001f9bf28   false        7.0      1.0              1.0\n",
       " 1165 │ 5d56123417ee8d0001cd9e00    true        6.0      4.0              2.0  ⋯\n",
       " 1166 │ 5d8e3cd58c996a00138f684c    true        5.0      5.0              5.0\n",
       " 1167 │ 5d7e7a080cc1c900155d5d07    true        5.0      5.0              5.0\n",
       "\u001b[36m                                                34 columns and 1152 rows omitted\u001b[0m"
      ]
     },
     "metadata": {},
     "output_type": "display_data"
    }
   ],
   "source": [
    "w6 = CSV.read(\"data/full_data/w6.csv\", DataFrame)"
   ]
  },
  {
   "cell_type": "code",
   "execution_count": 30,
   "metadata": {},
   "outputs": [
    {
     "data": {
      "text/plain": [
       "\"Depression_adj\""
      ]
     },
     "metadata": {},
     "output_type": "display_data"
    }
   ],
   "source": [
    "adjustments = [\"Gender\", \"Age\", \"Education\", \"Political_Views\", \"Race_AA\", \"Race_W\"]\n",
    "square_terms = [\"Age\", \"Education\", \"Political_Views\"]\n",
    "treatment = \"Mandatory_SAH\"\n",
    "target = \"Depression_adj\""
   ]
  },
  {
   "cell_type": "code",
   "execution_count": 34,
   "metadata": {},
   "outputs": [
    {
     "data": {
      "text/plain": [
       "1000-element Vector{Float64}:\n",
       " -0.25025935663392573\n",
       " -0.6895444021515189\n",
       " -0.34777128679285596\n",
       " -2.897040014238364\n",
       " -2.2023704659739742\n",
       "  0.2727778824761877\n",
       "  1.9568577820964492\n",
       "  0.043371114167207736\n",
       " -1.4352232644773082\n",
       " -1.092212347946095\n",
       "  ⋮\n",
       "  0.3542733529173496\n",
       " -1.724531890856344\n",
       " -1.1341952968542373\n",
       "  0.43788201078363187\n",
       " -0.27634565412147083\n",
       "  1.6074976082355725\n",
       "  0.16714675318166528\n",
       " -1.1326465746029868\n",
       " -0.39645360283221365"
      ]
     },
     "metadata": {},
     "output_type": "display_data"
    }
   ],
   "source": [
    "effects = estimate_standardization(w6, adjustments, square_terms, treatment, target, 1000)"
   ]
  },
  {
   "cell_type": "code",
   "execution_count": null,
   "metadata": {},
   "outputs": [],
   "source": []
  },
  {
   "cell_type": "code",
   "execution_count": null,
   "metadata": {},
   "outputs": [],
   "source": []
  },
  {
   "cell_type": "code",
   "execution_count": 26,
   "metadata": {},
   "outputs": [
    {
     "data": {
      "text/plain": [
       "34-element Vector{String}:\n",
       " \"PROLIFIC_PID\"\n",
       " \"Gender\"\n",
       " \"Education\"\n",
       " \"Income\"\n",
       " \"Political_Views\"\n",
       " \"Age\"\n",
       " \"Race\"\n",
       " \"Depression\"\n",
       " \"Stress\"\n",
       " \"Anxiety\"\n",
       " ⋮\n",
       " \"low_quality\"\n",
       " \"Income^2\"\n",
       " \"Age^2\"\n",
       " \"Education^2\"\n",
       " \"low_quality_w\"\n",
       " \"dropout\"\n",
       " \"dropout_w\"\n",
       " \"total_w\"\n",
       " \"Depression_adj\""
      ]
     },
     "metadata": {},
     "output_type": "display_data"
    }
   ],
   "source": [
    "ENV[\"ROWS\"] = 50\n",
    "names(w6)"
   ]
  },
  {
   "cell_type": "code",
   "execution_count": 27,
   "metadata": {},
   "outputs": [
    {
     "data": {
      "text/plain": [
       "1021-element BitVector:\n",
       " 1\n",
       " 1\n",
       " 1\n",
       " 1\n",
       " 1\n",
       " 1\n",
       " 1\n",
       " 1\n",
       " 1\n",
       " 1\n",
       " ⋮\n",
       " 0\n",
       " 0\n",
       " 0\n",
       " 0\n",
       " 0\n",
       " 0\n",
       " 0\n",
       " 0\n",
       " 0"
      ]
     },
     "metadata": {},
     "output_type": "display_data"
    }
   ],
   "source": [
    "w6[!,:Gathering_Strictness_bin] = w6[!, :GatheringStrictness] .<= 1"
   ]
  },
  {
   "cell_type": "code",
   "execution_count": 28,
   "metadata": {},
   "outputs": [
    {
     "data": {
      "text/plain": [
       "\"Depression_adj\""
      ]
     },
     "metadata": {},
     "output_type": "display_data"
    }
   ],
   "source": [
    "adjustments = [\"slope_new_deaths\", \"slope_new_cases\"]\n",
    "square_terms = [\"slope_new_deaths\", \"slope_new_cases\"]\n",
    "treatment = \"Gathering_Strictness_bin\"\n",
    "target = \"Depression_adj\""
   ]
  },
  {
   "cell_type": "code",
   "execution_count": 33,
   "metadata": {},
   "outputs": [
    {
     "data": {
      "text/plain": [
       "46-element Vector{Float64}:\n",
       "  111.71428571428572\n",
       " -255.57142857142856\n",
       "  172.14285714285714\n",
       "    6.571428571428571\n",
       "   74.0\n",
       "   20.714285714285715\n",
       "   -9.857142857142858\n",
       "   27.285714285714285\n",
       "  -59.14285714285714\n",
       "   52.28571428571429\n",
       "    ⋮\n",
       "  -21.285714285714285\n",
       "   -1.8571428571428568\n",
       "    1.2857142857142858\n",
       "   20.285714285714285\n",
       "  -29.285714285714285\n",
       "   -4.571428571428571\n",
       "   -9.285714285714286\n",
       "    6.857142857142858\n",
       "    0.4285714285714285"
      ]
     },
     "metadata": {},
     "output_type": "display_data"
    }
   ],
   "source": [
    "unique(w6[!, \"slope_new_cases\"])"
   ]
  },
  {
   "cell_type": "code",
   "execution_count": 29,
   "metadata": {},
   "outputs": [
    {
     "data": {
      "text/plain": [
       "1000-element Vector{Float64}:\n",
       " NaN\n",
       " NaN\n",
       " NaN\n",
       " NaN\n",
       " NaN\n",
       " NaN\n",
       " NaN\n",
       " NaN\n",
       " NaN\n",
       " NaN\n",
       "   ⋮\n",
       " NaN\n",
       " NaN\n",
       " NaN\n",
       " NaN\n",
       " NaN\n",
       " NaN\n",
       " NaN\n",
       " NaN\n",
       " NaN"
      ]
     },
     "metadata": {},
     "output_type": "display_data"
    }
   ],
   "source": [
    "effects = estimate_ipw(w6, adjustments, square_terms, treatment, target, 1000)"
   ]
  },
  {
   "cell_type": "code",
   "execution_count": 30,
   "metadata": {},
   "outputs": [
    {
     "data": {
      "text/plain": [
       "205"
      ]
     },
     "metadata": {},
     "output_type": "display_data"
    }
   ],
   "source": [
    "sum(w6[!, :Gathering_Strictness_bin])"
   ]
  },
  {
   "cell_type": "code",
   "execution_count": 31,
   "metadata": {},
   "outputs": [
    {
     "data": {
      "text/plain": [
       "StatsModels.TableRegressionModel{GeneralizedLinearModel{GLM.GlmResp{Vector{Float64}, Binomial{Float64}, ProbitLink}, GLM.DensePredChol{Float64, LinearAlgebra.Cholesky{Float64, Matrix{Float64}}}}, Matrix{Float64}}\n",
       "\n",
       "Gathering_Strictness_bin ~ 1 + slope_new_deaths + slope_new_cases + slope_new_deaths^2 + slope_new_cases^2\n",
       "\n",
       "Coefficients:\n",
       "───────────────────────────────────────────────────────────────────────────────────────────\n",
       "                           Coef.   Std. Error      z  Pr(>|z|)      Lower 95%     Upper 95%\n",
       "───────────────────────────────────────────────────────────────────────────────────────────\n",
       "(Intercept)         -25.0794      882.476      -0.03    0.9773  -1754.7        1704.54\n",
       "slope_new_deaths      1.40145     163.726       0.01    0.9932   -319.495       322.298\n",
       "slope_new_cases       0.0346897     3.17952     0.01    0.9913     -6.19706       6.26644\n",
       "slope_new_deaths^2    0.878898     40.9951      0.02    0.9829    -79.47         81.2278\n",
       "slope_new_cases^2     0.00043054    0.0233081   0.02    0.9853     -0.0452525     0.0461135\n",
       "───────────────────────────────────────────────────────────────────────────────────────────"
      ]
     },
     "metadata": {},
     "output_type": "display_data"
    }
   ],
   "source": [
    "fit_ip_weight = cal_ipw(w6, adjustments, square_terms, treatment)"
   ]
  },
  {
   "cell_type": "code",
   "execution_count": 32,
   "metadata": {},
   "outputs": [
    {
     "data": {
      "text/plain": [
       "1021-element Vector{Float64}:\n",
       " 0.9999999995086073\n",
       " 0.9999999995086073\n",
       " 0.9999999995086073\n",
       " 0.9999999995086073\n",
       " 0.9999999995086073\n",
       " 0.9999999995086073\n",
       " 0.9999999995086073\n",
       " 0.9999999995086073\n",
       " 0.9999999995086073\n",
       " 0.9999999995086073\n",
       " ⋮\n",
       " 1.0\n",
       " 1.0\n",
       " 1.0\n",
       " 1.0\n",
       " 1.0\n",
       " 1.0\n",
       " 1.0\n",
       " 1.0\n",
       " 1.0"
      ]
     },
     "metadata": {},
     "output_type": "display_data"
    }
   ],
   "source": [
    "w6[!, :Gathering_Strictness_bin_w]"
   ]
  },
  {
   "cell_type": "code",
   "execution_count": 14,
   "metadata": {},
   "outputs": [
    {
     "name": "stdout",
     "output_type": "stream",
     "text": [
      "-18.5144578919525\n",
      "-29.10225754105719\n",
      "-9.226255161587734\n"
     ]
    }
   ],
   "source": [
    "println(mean(effects))\n",
    "println(percentile(effects, 2.5))\n",
    "println(percentile(effects, 97.5))"
   ]
  },
  {
   "cell_type": "code",
   "execution_count": 294,
   "metadata": {},
   "outputs": [
    {
     "data": {
      "text/plain": [
       "StatsModels.TableRegressionModel{GeneralizedLinearModel{GLM.GlmResp{Vector{Float64}, Binomial{Float64}, ProbitLink}, GLM.DensePredChol{Float64, LinearAlgebra.Cholesky{Float64, Matrix{Float64}}}}, Matrix{Float64}}\n",
       "\n",
       "Gathering_Strictness_bin ~ 1 + slope_new_deaths + slope_new_cases + slope_new_deaths^2 + slope_new_cases^2\n",
       "\n",
       "Coefficients:\n",
       "──────────────────────────────────────────────────────────────────────────────────────────\n",
       "                           Coef.  Std. Error       z  Pr(>|z|)     Lower 95%     Upper 95%\n",
       "──────────────────────────────────────────────────────────────────────────────────────────\n",
       "(Intercept)         -0.695468     0.0528361   -13.16    <1e-38  -0.799025     -0.591912\n",
       "slope_new_deaths     0.059845     0.0148364     4.03    <1e-04   0.0307661     0.0889239\n",
       "slope_new_cases      0.00456453   0.00216636    2.11    0.0351   0.000318548   0.00881051\n",
       "slope_new_deaths^2   0.0129542    0.00131799    9.83    <1e-22   0.010371      0.0155374\n",
       "slope_new_cases^2    0.000105595  2.58362e-5    4.09    <1e-04   5.49565e-5    0.000156233\n",
       "──────────────────────────────────────────────────────────────────────────────────────────"
      ]
     },
     "metadata": {},
     "output_type": "display_data"
    }
   ],
   "source": [
    "new_w6 = cal_ipw(w6, adjustments, square_terms, treatment)"
   ]
  },
  {
   "cell_type": "code",
   "execution_count": 295,
   "metadata": {},
   "outputs": [
    {
     "data": {
      "text/plain": [
       "753-element Vector{Float64}:\n",
       "  12.20368950570941\n",
       "   0.0\n",
       " 146.57554850587974\n",
       "  15.901014036810482\n",
       "  14.551042449023132\n",
       " 105.51519967329416\n",
       " 211.99636614272546\n",
       " 255.912972900077\n",
       "  28.469830583885695\n",
       "  50.904883582610466\n",
       "   ⋮\n",
       "  75.10705402814483\n",
       "  68.49088726677925\n",
       "  99.75389752615877\n",
       "  27.928962623507118\n",
       "  25.763548972978352\n",
       " 151.00129569515536\n",
       " 140.7813742239796\n",
       "  29.094845305712603\n",
       "   0.0"
      ]
     },
     "metadata": {},
     "output_type": "display_data"
    }
   ],
   "source": [
    "w6[!, :Depression_adj_confound] = w6[!, :Depression_adj] .* (1 ./ w6[!, :Gathering_Strictness_bin_w])\n",
    "w6[w6[!, :Gathering_Strictness_bin] .== 0, :Depression_adj_confound] = w6[w6[!, :Gathering_Strictness_bin] .== 0, :Depression_adj] .* (1 ./ (1 .- w6[w6[!, :Gathering_Strictness_bin] .== 0, :Gathering_Strictness_bin_w]))\n"
   ]
  },
  {
   "cell_type": "code",
   "execution_count": 296,
   "metadata": {},
   "outputs": [
    {
     "data": {
      "image/png": "[encoded data removed]",
      "image/svg+xml": "<?xml version=\"1.0\" encoding=\"utf-8\"?>\n<svg xmlns=\"http://www.w3.org/2000/svg\" xmlns:xlink=\"http://www.w3.org/1999/xlink\" width=\"600\" height=\"400\" viewBox=\"0 0 2400 1600\">\n<defs>\n  <clipPath id=\"clip610\">\n    <rect x=\"0\" y=\"0\" width=\"2400\" height=\"1600\"/>\n  </clipPath>\n</defs>\n<path clip-path=\"url(#clip610)\" d=\"\nM0 1600 L2400 1600 L2400 0 L0 0  Z\n  \" fill=\"#ffffff\" fill-rule=\"evenodd\" fill-opacity=\"1\"/>\n<defs>\n  <clipPath id=\"clip611\">\n    <rect x=\"480\" y=\"0\" width=\"1681\" height=\"1600\"/>\n  </clipPath>\n</defs>\n<path clip-path=\"url(#clip610)\" d=\"\nM170.857 1486.45 L2352.76 1486.45 L2352.76 47.2441 L170.857 47.2441  Z\n  \" fill=\"#ffffff\" fill-rule=\"evenodd\" fill-opacity=\"1\"/>\n<defs>\n  <clipPath id=\"clip612\">\n    <rect x=\"170\" y=\"47\" width=\"2183\" height=\"1440\"/>\n  </clipPath>\n</defs>\n<polyline clip-path=\"url(#clip612)\" style=\"stroke:#000000; stroke-linecap:butt; stroke-linejoin:round; stroke-width:2; stroke-opacity:0.1; fill:none\" points=\"\n  290.866,1486.45 290.866,47.2441 \n  \"/>\n<polyline clip-path=\"url(#clip612)\" style=\"stroke:#000000; stroke-linecap:butt; stroke-linejoin:round; stroke-width:2; stroke-opacity:0.1; fill:none\" points=\"\n  801.887,1486.45 801.887,47.2441 \n  \"/>\n<polyline clip-path=\"url(#clip612)\" style=\"stroke:#000000; stroke-linecap:butt; stroke-linejoin:round; stroke-width:2; stroke-opacity:0.1; fill:none\" points=\"\n  1312.91,1486.45 1312.91,47.2441 \n  \"/>\n<polyline clip-path=\"url(#clip612)\" style=\"stroke:#000000; stroke-linecap:butt; stroke-linejoin:round; stroke-width:2; stroke-opacity:0.1; fill:none\" points=\"\n  1823.93,1486.45 1823.93,47.2441 \n  \"/>\n<polyline clip-path=\"url(#clip612)\" style=\"stroke:#000000; stroke-linecap:butt; stroke-linejoin:round; stroke-width:2; stroke-opacity:0.1; fill:none\" points=\"\n  2334.95,1486.45 2334.95,47.2441 \n  \"/>\n<polyline clip-path=\"url(#clip610)\" style=\"stroke:#000000; stroke-linecap:butt; stroke-linejoin:round; stroke-width:4; stroke-opacity:1; fill:none\" points=\"\n  170.857,1486.45 2352.76,1486.45 \n  \"/>\n<polyline clip-path=\"url(#clip610)\" style=\"stroke:#000000; stroke-linecap:butt; stroke-linejoin:round; stroke-width:4; stroke-opacity:1; fill:none\" points=\"\n  290.866,1486.45 290.866,1467.55 \n  \"/>\n<polyline clip-path=\"url(#clip610)\" style=\"stroke:#000000; stroke-linecap:butt; stroke-linejoin:round; stroke-width:4; stroke-opacity:1; fill:none\" points=\"\n  801.887,1486.45 801.887,1467.55 \n  \"/>\n<polyline clip-path=\"url(#clip610)\" style=\"stroke:#000000; stroke-linecap:butt; stroke-linejoin:round; stroke-width:4; stroke-opacity:1; fill:none\" points=\"\n  1312.91,1486.45 1312.91,1467.55 \n  \"/>\n<polyline clip-path=\"url(#clip610)\" style=\"stroke:#000000; stroke-linecap:butt; stroke-linejoin:round; stroke-width:4; stroke-opacity:1; fill:none\" points=\"\n  1823.93,1486.45 1823.93,1467.55 \n  \"/>\n<polyline clip-path=\"url(#clip610)\" style=\"stroke:#000000; stroke-linecap:butt; stroke-linejoin:round; stroke-width:4; stroke-opacity:1; fill:none\" points=\"\n  2334.95,1486.45 2334.95,1467.55 \n  \"/>\n<path clip-path=\"url(#clip610)\" d=\"M290.866 1517.37 Q287.255 1517.37 285.426 1520.93 Q283.62 1524.47 283.62 1531.6 Q283.62 1538.71 285.426 1542.27 Q287.255 1545.82 290.866 1545.82 Q294.5 1545.82 296.306 1542.27 Q298.134 1538.71 298.134 1531.6 Q298.134 1524.47 296.306 1520.93 Q294.5 1517.37 290.866 1517.37 M290.866 1513.66 Q296.676 1513.66 299.731 1518.27 Q302.81 1522.85 302.81 1531.6 Q302.81 1540.33 299.731 1544.94 Q296.676 1549.52 290.866 1549.52 Q285.056 1549.52 281.977 1544.94 Q278.921 1540.33 278.921 1531.6 Q278.921 1522.85 281.977 1518.27 Q285.056 1513.66 290.866 1513.66 Z\" fill=\"#000000\" fill-rule=\"evenodd\" fill-opacity=\"1\" /><path clip-path=\"url(#clip610)\" d=\"M761.494 1544.91 L769.133 1544.91 L769.133 1518.55 L760.823 1520.21 L760.823 1515.95 L769.087 1514.29 L773.762 1514.29 L773.762 1544.91 L781.401 1544.91 L781.401 1548.85 L761.494 1548.85 L761.494 1544.91 Z\" fill=\"#000000\" fill-rule=\"evenodd\" fill-opacity=\"1\" /><path clip-path=\"url(#clip610)\" d=\"M800.846 1517.37 Q797.235 1517.37 795.406 1520.93 Q793.6 1524.47 793.6 1531.6 Q793.6 1538.71 795.406 1542.27 Q797.235 1545.82 800.846 1545.82 Q804.48 1545.82 806.285 1542.27 Q808.114 1538.71 808.114 1531.6 Q808.114 1524.47 806.285 1520.93 Q804.48 1517.37 800.846 1517.37 M800.846 1513.66 Q806.656 1513.66 809.711 1518.27 Q812.79 1522.85 812.79 1531.6 Q812.79 1540.33 809.711 1544.94 Q806.656 1549.52 800.846 1549.52 Q795.035 1549.52 791.957 1544.94 Q788.901 1540.33 788.901 1531.6 Q788.901 1522.85 791.957 1518.27 Q795.035 1513.66 800.846 1513.66 Z\" fill=\"#000000\" fill-rule=\"evenodd\" fill-opacity=\"1\" /><path clip-path=\"url(#clip610)\" d=\"M831.007 1517.37 Q827.396 1517.37 825.568 1520.93 Q823.762 1524.47 823.762 1531.6 Q823.762 1538.71 825.568 1542.27 Q827.396 1545.82 831.007 1545.82 Q834.642 1545.82 836.447 1542.27 Q838.276 1538.71 838.276 1531.6 Q838.276 1524.47 836.447 1520.93 Q834.642 1517.37 831.007 1517.37 M831.007 1513.66 Q836.818 1513.66 839.873 1518.27 Q842.952 1522.85 842.952 1531.6 Q842.952 1540.33 839.873 1544.94 Q836.818 1549.52 831.007 1549.52 Q825.197 1549.52 822.119 1544.94 Q819.063 1540.33 819.063 1531.6 Q819.063 1522.85 822.119 1518.27 Q825.197 1513.66 831.007 1513.66 Z\" fill=\"#000000\" fill-rule=\"evenodd\" fill-opacity=\"1\" /><path clip-path=\"url(#clip610)\" d=\"M1276.6 1544.91 L1292.92 1544.91 L1292.92 1548.85 L1270.98 1548.85 L1270.98 1544.91 Q1273.64 1542.16 1278.22 1537.53 Q1282.83 1532.88 1284.01 1531.53 Q1286.25 1529.01 1287.13 1527.27 Q1288.04 1525.51 1288.04 1523.82 Q1288.04 1521.07 1286.09 1519.33 Q1284.17 1517.6 1281.07 1517.6 Q1278.87 1517.6 1276.42 1518.36 Q1273.99 1519.13 1271.21 1520.68 L1271.21 1515.95 Q1274.03 1514.82 1276.49 1514.24 Q1278.94 1513.66 1280.98 1513.66 Q1286.35 1513.66 1289.54 1516.35 Q1292.74 1519.03 1292.74 1523.52 Q1292.74 1525.65 1291.93 1527.57 Q1291.14 1529.47 1289.03 1532.07 Q1288.45 1532.74 1285.35 1535.95 Q1282.25 1539.15 1276.6 1544.91 Z\" fill=\"#000000\" fill-rule=\"evenodd\" fill-opacity=\"1\" /><path clip-path=\"url(#clip610)\" d=\"M1312.74 1517.37 Q1309.12 1517.37 1307.3 1520.93 Q1305.49 1524.47 1305.49 1531.6 Q1305.49 1538.71 1307.3 1542.27 Q1309.12 1545.82 1312.74 1545.82 Q1316.37 1545.82 1318.17 1542.27 Q1320 1538.71 1320 1531.6 Q1320 1524.47 1318.17 1520.93 Q1316.37 1517.37 1312.74 1517.37 M1312.74 1513.66 Q1318.55 1513.66 1321.6 1518.27 Q1324.68 1522.85 1324.68 1531.6 Q1324.68 1540.33 1321.6 1544.94 Q1318.55 1549.52 1312.74 1549.52 Q1306.93 1549.52 1303.85 1544.94 Q1300.79 1540.33 1300.79 1531.6 Q1300.79 1522.85 1303.85 1518.27 Q1306.93 1513.66 1312.74 1513.66 Z\" fill=\"#000000\" fill-rule=\"evenodd\" fill-opacity=\"1\" /><path clip-path=\"url(#clip610)\" d=\"M1342.9 1517.37 Q1339.29 1517.37 1337.46 1520.93 Q1335.65 1524.47 1335.65 1531.6 Q1335.65 1538.71 1337.46 1542.27 Q1339.29 1545.82 1342.9 1545.82 Q1346.53 1545.82 1348.34 1542.27 Q1350.17 1538.71 1350.17 1531.6 Q1350.17 1524.47 1348.34 1520.93 Q1346.53 1517.37 1342.9 1517.37 M1342.9 1513.66 Q1348.71 1513.66 1351.76 1518.27 Q1354.84 1522.85 1354.84 1531.6 Q1354.84 1540.33 1351.76 1544.94 Q1348.71 1549.52 1342.9 1549.52 Q1337.09 1549.52 1334.01 1544.94 Q1330.95 1540.33 1330.95 1531.6 Q1330.95 1522.85 1334.01 1518.27 Q1337.09 1513.66 1342.9 1513.66 Z\" fill=\"#000000\" fill-rule=\"evenodd\" fill-opacity=\"1\" /><path clip-path=\"url(#clip610)\" d=\"M1797.69 1530.21 Q1801.05 1530.93 1802.92 1533.2 Q1804.82 1535.47 1804.82 1538.8 Q1804.82 1543.92 1801.3 1546.72 Q1797.78 1549.52 1791.3 1549.52 Q1789.13 1549.52 1786.81 1549.08 Q1784.52 1548.66 1782.07 1547.81 L1782.07 1543.29 Q1784.01 1544.43 1786.33 1545.01 Q1788.64 1545.58 1791.16 1545.58 Q1795.56 1545.58 1797.85 1543.85 Q1800.17 1542.11 1800.17 1538.8 Q1800.17 1535.75 1798.02 1534.03 Q1795.89 1532.3 1792.07 1532.3 L1788.04 1532.3 L1788.04 1528.45 L1792.25 1528.45 Q1795.7 1528.45 1797.53 1527.09 Q1799.36 1525.7 1799.36 1523.11 Q1799.36 1520.45 1797.46 1519.03 Q1795.59 1517.6 1792.07 1517.6 Q1790.15 1517.6 1787.95 1518.01 Q1785.75 1518.43 1783.11 1519.31 L1783.11 1515.14 Q1785.77 1514.4 1788.09 1514.03 Q1790.42 1513.66 1792.48 1513.66 Q1797.81 1513.66 1800.91 1516.09 Q1804.01 1518.5 1804.01 1522.62 Q1804.01 1525.49 1802.37 1527.48 Q1800.72 1529.45 1797.69 1530.21 Z\" fill=\"#000000\" fill-rule=\"evenodd\" fill-opacity=\"1\" /><path clip-path=\"url(#clip610)\" d=\"M1823.69 1517.37 Q1820.08 1517.37 1818.25 1520.93 Q1816.44 1524.47 1816.44 1531.6 Q1816.44 1538.71 1818.25 1542.27 Q1820.08 1545.82 1823.69 1545.82 Q1827.32 1545.82 1829.13 1542.27 Q1830.96 1538.71 1830.96 1531.6 Q1830.96 1524.47 1829.13 1520.93 Q1827.32 1517.37 1823.69 1517.37 M1823.69 1513.66 Q1829.5 1513.66 1832.55 1518.27 Q1835.63 1522.85 1835.63 1531.6 Q1835.63 1540.33 1832.55 1544.94 Q1829.5 1549.52 1823.69 1549.52 Q1817.88 1549.52 1814.8 1544.94 Q1811.74 1540.33 1811.74 1531.6 Q1811.74 1522.85 1814.8 1518.27 Q1817.88 1513.66 1823.69 1513.66 Z\" fill=\"#000000\" fill-rule=\"evenodd\" fill-opacity=\"1\" /><path clip-path=\"url(#clip610)\" d=\"M1853.85 1517.37 Q1850.24 1517.37 1848.41 1520.93 Q1846.6 1524.47 1846.6 1531.6 Q1846.6 1538.71 1848.41 1542.27 Q1850.24 1545.82 1853.85 1545.82 Q1857.48 1545.82 1859.29 1542.27 Q1861.12 1538.71 1861.12 1531.6 Q1861.12 1524.47 1859.29 1520.93 Q1857.48 1517.37 1853.85 1517.37 M1853.85 1513.66 Q1859.66 1513.66 1862.71 1518.27 Q1865.79 1522.85 1865.79 1531.6 Q1865.79 1540.33 1862.71 1544.94 Q1859.66 1549.52 1853.85 1549.52 Q1848.04 1549.52 1844.96 1544.94 Q1841.9 1540.33 1841.9 1531.6 Q1841.9 1522.85 1844.96 1518.27 Q1848.04 1513.66 1853.85 1513.66 Z\" fill=\"#000000\" fill-rule=\"evenodd\" fill-opacity=\"1\" /><path clip-path=\"url(#clip610)\" d=\"M2308.04 1518.36 L2296.24 1536.81 L2308.04 1536.81 L2308.04 1518.36 M2306.82 1514.29 L2312.7 1514.29 L2312.7 1536.81 L2317.63 1536.81 L2317.63 1540.7 L2312.7 1540.7 L2312.7 1548.85 L2308.04 1548.85 L2308.04 1540.7 L2292.44 1540.7 L2292.44 1536.19 L2306.82 1514.29 Z\" fill=\"#000000\" fill-rule=\"evenodd\" fill-opacity=\"1\" /><path clip-path=\"url(#clip610)\" d=\"M2335.36 1517.37 Q2331.75 1517.37 2329.92 1520.93 Q2328.11 1524.47 2328.11 1531.6 Q2328.11 1538.71 2329.92 1542.27 Q2331.75 1545.82 2335.36 1545.82 Q2338.99 1545.82 2340.8 1542.27 Q2342.63 1538.71 2342.63 1531.6 Q2342.63 1524.47 2340.8 1520.93 Q2338.99 1517.37 2335.36 1517.37 M2335.36 1513.66 Q2341.17 1513.66 2344.22 1518.27 Q2347.3 1522.85 2347.3 1531.6 Q2347.3 1540.33 2344.22 1544.94 Q2341.17 1549.52 2335.36 1549.52 Q2329.55 1549.52 2326.47 1544.94 Q2323.41 1540.33 2323.41 1531.6 Q2323.41 1522.85 2326.47 1518.27 Q2329.55 1513.66 2335.36 1513.66 Z\" fill=\"#000000\" fill-rule=\"evenodd\" fill-opacity=\"1\" /><path clip-path=\"url(#clip610)\" d=\"M2365.52 1517.37 Q2361.91 1517.37 2360.08 1520.93 Q2358.27 1524.47 2358.27 1531.6 Q2358.27 1538.71 2360.08 1542.27 Q2361.91 1545.82 2365.52 1545.82 Q2369.15 1545.82 2370.96 1542.27 Q2372.79 1538.71 2372.79 1531.6 Q2372.79 1524.47 2370.96 1520.93 Q2369.15 1517.37 2365.52 1517.37 M2365.52 1513.66 Q2371.33 1513.66 2374.38 1518.27 Q2377.46 1522.85 2377.46 1531.6 Q2377.46 1540.33 2374.38 1544.94 Q2371.33 1549.52 2365.52 1549.52 Q2359.71 1549.52 2356.63 1544.94 Q2353.57 1540.33 2353.57 1531.6 Q2353.57 1522.85 2356.63 1518.27 Q2359.71 1513.66 2365.52 1513.66 Z\" fill=\"#000000\" fill-rule=\"evenodd\" fill-opacity=\"1\" /><polyline clip-path=\"url(#clip612)\" style=\"stroke:#000000; stroke-linecap:butt; stroke-linejoin:round; stroke-width:2; stroke-opacity:0.1; fill:none\" points=\"\n  170.857,1445.72 2352.76,1445.72 \n  \"/>\n<polyline clip-path=\"url(#clip612)\" style=\"stroke:#000000; stroke-linecap:butt; stroke-linejoin:round; stroke-width:2; stroke-opacity:0.1; fill:none\" points=\"\n  170.857,1074.75 2352.76,1074.75 \n  \"/>\n<polyline clip-path=\"url(#clip612)\" style=\"stroke:#000000; stroke-linecap:butt; stroke-linejoin:round; stroke-width:2; stroke-opacity:0.1; fill:none\" points=\"\n  170.857,703.782 2352.76,703.782 \n  \"/>\n<polyline clip-path=\"url(#clip612)\" style=\"stroke:#000000; stroke-linecap:butt; stroke-linejoin:round; stroke-width:2; stroke-opacity:0.1; fill:none\" points=\"\n  170.857,332.815 2352.76,332.815 \n  \"/>\n<polyline clip-path=\"url(#clip610)\" style=\"stroke:#000000; stroke-linecap:butt; stroke-linejoin:round; stroke-width:4; stroke-opacity:1; fill:none\" points=\"\n  170.857,1486.45 170.857,47.2441 \n  \"/>\n<polyline clip-path=\"url(#clip610)\" style=\"stroke:#000000; stroke-linecap:butt; stroke-linejoin:round; stroke-width:4; stroke-opacity:1; fill:none\" points=\"\n  170.857,1445.72 189.755,1445.72 \n  \"/>\n<polyline clip-path=\"url(#clip610)\" style=\"stroke:#000000; stroke-linecap:butt; stroke-linejoin:round; stroke-width:4; stroke-opacity:1; fill:none\" points=\"\n  170.857,1074.75 189.755,1074.75 \n  \"/>\n<polyline clip-path=\"url(#clip610)\" style=\"stroke:#000000; stroke-linecap:butt; stroke-linejoin:round; stroke-width:4; stroke-opacity:1; fill:none\" points=\"\n  170.857,703.782 189.755,703.782 \n  \"/>\n<polyline clip-path=\"url(#clip610)\" style=\"stroke:#000000; stroke-linecap:butt; stroke-linejoin:round; stroke-width:4; stroke-opacity:1; fill:none\" points=\"\n  170.857,332.815 189.755,332.815 \n  \"/>\n<path clip-path=\"url(#clip610)\" d=\"M122.913 1431.51 Q119.302 1431.51 117.473 1435.08 Q115.668 1438.62 115.668 1445.75 Q115.668 1452.86 117.473 1456.42 Q119.302 1459.96 122.913 1459.96 Q126.547 1459.96 128.353 1456.42 Q130.182 1452.86 130.182 1445.75 Q130.182 1438.62 128.353 1435.08 Q126.547 1431.51 122.913 1431.51 M122.913 1427.81 Q128.723 1427.81 131.779 1432.42 Q134.857 1437 134.857 1445.75 Q134.857 1454.48 131.779 1459.08 Q128.723 1463.67 122.913 1463.67 Q117.103 1463.67 114.024 1459.08 Q110.969 1454.48 110.969 1445.75 Q110.969 1437 114.024 1432.42 Q117.103 1427.81 122.913 1427.81 Z\" fill=\"#000000\" fill-rule=\"evenodd\" fill-opacity=\"1\" /><path clip-path=\"url(#clip610)\" d=\"M53.3995 1088.09 L61.0384 1088.09 L61.0384 1061.73 L52.7282 1063.39 L52.7282 1059.14 L60.9921 1057.47 L65.668 1057.47 L65.668 1088.09 L73.3068 1088.09 L73.3068 1092.03 L53.3995 1092.03 L53.3995 1088.09 Z\" fill=\"#000000\" fill-rule=\"evenodd\" fill-opacity=\"1\" /><path clip-path=\"url(#clip610)\" d=\"M92.7512 1060.55 Q89.1401 1060.55 87.3114 1064.11 Q85.5058 1067.65 85.5058 1074.78 Q85.5058 1081.89 87.3114 1085.45 Q89.1401 1089 92.7512 1089 Q96.3854 1089 98.1909 1085.45 Q100.02 1081.89 100.02 1074.78 Q100.02 1067.65 98.1909 1064.11 Q96.3854 1060.55 92.7512 1060.55 M92.7512 1056.84 Q98.5613 1056.84 101.617 1061.45 Q104.696 1066.03 104.696 1074.78 Q104.696 1083.51 101.617 1088.12 Q98.5613 1092.7 92.7512 1092.7 Q86.941 1092.7 83.8623 1088.12 Q80.8068 1083.51 80.8068 1074.78 Q80.8068 1066.03 83.8623 1061.45 Q86.941 1056.84 92.7512 1056.84 Z\" fill=\"#000000\" fill-rule=\"evenodd\" fill-opacity=\"1\" /><path clip-path=\"url(#clip610)\" d=\"M122.913 1060.55 Q119.302 1060.55 117.473 1064.11 Q115.668 1067.65 115.668 1074.78 Q115.668 1081.89 117.473 1085.45 Q119.302 1089 122.913 1089 Q126.547 1089 128.353 1085.45 Q130.182 1081.89 130.182 1074.78 Q130.182 1067.65 128.353 1064.11 Q126.547 1060.55 122.913 1060.55 M122.913 1056.84 Q128.723 1056.84 131.779 1061.45 Q134.857 1066.03 134.857 1074.78 Q134.857 1083.51 131.779 1088.12 Q128.723 1092.7 122.913 1092.7 Q117.103 1092.7 114.024 1088.12 Q110.969 1083.51 110.969 1074.78 Q110.969 1066.03 114.024 1061.45 Q117.103 1056.84 122.913 1056.84 Z\" fill=\"#000000\" fill-rule=\"evenodd\" fill-opacity=\"1\" /><path clip-path=\"url(#clip610)\" d=\"M56.6171 717.126 L72.9365 717.126 L72.9365 721.062 L50.9921 721.062 L50.9921 717.126 Q53.6541 714.372 58.2375 709.742 Q62.8439 705.089 64.0245 703.747 Q66.2698 701.224 67.1494 699.488 Q68.0522 697.728 68.0522 696.039 Q68.0522 693.284 66.1078 691.548 Q64.1865 689.812 61.0847 689.812 Q58.8856 689.812 56.4319 690.576 Q54.0014 691.34 51.2236 692.89 L51.2236 688.168 Q54.0477 687.034 56.5014 686.455 Q58.955 685.877 60.9921 685.877 Q66.3624 685.877 69.5568 688.562 Q72.7513 691.247 72.7513 695.738 Q72.7513 697.867 71.9411 699.789 Q71.1541 701.687 69.0476 704.279 Q68.4689 704.951 65.367 708.168 Q62.2652 711.363 56.6171 717.126 Z\" fill=\"#000000\" fill-rule=\"evenodd\" fill-opacity=\"1\" /><path clip-path=\"url(#clip610)\" d=\"M92.7512 689.58 Q89.1401 689.58 87.3114 693.145 Q85.5058 696.687 85.5058 703.816 Q85.5058 710.923 87.3114 714.488 Q89.1401 718.029 92.7512 718.029 Q96.3854 718.029 98.1909 714.488 Q100.02 710.923 100.02 703.816 Q100.02 696.687 98.1909 693.145 Q96.3854 689.58 92.7512 689.58 M92.7512 685.877 Q98.5613 685.877 101.617 690.483 Q104.696 695.066 104.696 703.816 Q104.696 712.543 101.617 717.15 Q98.5613 721.733 92.7512 721.733 Q86.941 721.733 83.8623 717.15 Q80.8068 712.543 80.8068 703.816 Q80.8068 695.066 83.8623 690.483 Q86.941 685.877 92.7512 685.877 Z\" fill=\"#000000\" fill-rule=\"evenodd\" fill-opacity=\"1\" /><path clip-path=\"url(#clip610)\" d=\"M122.913 689.58 Q119.302 689.58 117.473 693.145 Q115.668 696.687 115.668 703.816 Q115.668 710.923 117.473 714.488 Q119.302 718.029 122.913 718.029 Q126.547 718.029 128.353 714.488 Q130.182 710.923 130.182 703.816 Q130.182 696.687 128.353 693.145 Q126.547 689.58 122.913 689.58 M122.913 685.877 Q128.723 685.877 131.779 690.483 Q134.857 695.066 134.857 703.816 Q134.857 712.543 131.779 717.15 Q128.723 721.733 122.913 721.733 Q117.103 721.733 114.024 717.15 Q110.969 712.543 110.969 703.816 Q110.969 695.066 114.024 690.483 Q117.103 685.877 122.913 685.877 Z\" fill=\"#000000\" fill-rule=\"evenodd\" fill-opacity=\"1\" /><path clip-path=\"url(#clip610)\" d=\"M66.7559 331.46 Q70.1124 332.178 71.9874 334.446 Q73.8855 336.715 73.8855 340.048 Q73.8855 345.164 70.367 347.965 Q66.8485 350.766 60.3671 350.766 Q58.1912 350.766 55.8764 350.326 Q53.5847 349.909 51.131 349.053 L51.131 344.539 Q53.0754 345.673 55.3903 346.252 Q57.7051 346.831 60.2282 346.831 Q64.6263 346.831 66.918 345.095 Q69.2328 343.358 69.2328 340.048 Q69.2328 336.993 67.08 335.28 Q64.9504 333.544 61.131 333.544 L57.1032 333.544 L57.1032 329.701 L61.3161 329.701 Q64.7652 329.701 66.5939 328.335 Q68.4226 326.947 68.4226 324.354 Q68.4226 321.692 66.5245 320.28 Q64.6495 318.845 61.131 318.845 Q59.2097 318.845 57.0106 319.261 Q54.8115 319.678 52.1727 320.558 L52.1727 316.391 Q54.8347 315.65 57.1495 315.28 Q59.4875 314.91 61.5476 314.91 Q66.8717 314.91 69.9735 317.34 Q73.0753 319.747 73.0753 323.868 Q73.0753 326.738 71.4318 328.729 Q69.7883 330.696 66.7559 331.46 Z\" fill=\"#000000\" fill-rule=\"evenodd\" fill-opacity=\"1\" /><path clip-path=\"url(#clip610)\" d=\"M92.7512 318.613 Q89.1401 318.613 87.3114 322.178 Q85.5058 325.72 85.5058 332.849 Q85.5058 339.956 87.3114 343.52 Q89.1401 347.062 92.7512 347.062 Q96.3854 347.062 98.1909 343.52 Q100.02 339.956 100.02 332.849 Q100.02 325.72 98.1909 322.178 Q96.3854 318.613 92.7512 318.613 M92.7512 314.91 Q98.5613 314.91 101.617 319.516 Q104.696 324.099 104.696 332.849 Q104.696 341.576 101.617 346.183 Q98.5613 350.766 92.7512 350.766 Q86.941 350.766 83.8623 346.183 Q80.8068 341.576 80.8068 332.849 Q80.8068 324.099 83.8623 319.516 Q86.941 314.91 92.7512 314.91 Z\" fill=\"#000000\" fill-rule=\"evenodd\" fill-opacity=\"1\" /><path clip-path=\"url(#clip610)\" d=\"M122.913 318.613 Q119.302 318.613 117.473 322.178 Q115.668 325.72 115.668 332.849 Q115.668 339.956 117.473 343.52 Q119.302 347.062 122.913 347.062 Q126.547 347.062 128.353 343.52 Q130.182 339.956 130.182 332.849 Q130.182 325.72 128.353 322.178 Q126.547 318.613 122.913 318.613 M122.913 314.91 Q128.723 314.91 131.779 319.516 Q134.857 324.099 134.857 332.849 Q134.857 341.576 131.779 346.183 Q128.723 350.766 122.913 350.766 Q117.103 350.766 114.024 346.183 Q110.969 341.576 110.969 332.849 Q110.969 324.099 114.024 319.516 Q117.103 314.91 122.913 314.91 Z\" fill=\"#000000\" fill-rule=\"evenodd\" fill-opacity=\"1\" /><path clip-path=\"url(#clip612)\" d=\"\nM290.866 87.9763 L290.866 1445.72 L393.07 1445.72 L393.07 87.9763 L290.866 87.9763 L290.866 87.9763  Z\n  \" fill=\"#009af9\" fill-rule=\"evenodd\" fill-opacity=\"1\"/>\n<polyline clip-path=\"url(#clip612)\" style=\"stroke:#000000; stroke-linecap:butt; stroke-linejoin:round; stroke-width:4; stroke-opacity:1; fill:none\" points=\"\n  290.866,87.9763 290.866,1445.72 393.07,1445.72 393.07,87.9763 290.866,87.9763 \n  \"/>\n<path clip-path=\"url(#clip612)\" d=\"\nM393.07 733.459 L393.07 1445.72 L495.274 1445.72 L495.274 733.459 L393.07 733.459 L393.07 733.459  Z\n  \" fill=\"#009af9\" fill-rule=\"evenodd\" fill-opacity=\"1\"/>\n<polyline clip-path=\"url(#clip612)\" style=\"stroke:#000000; stroke-linecap:butt; stroke-linejoin:round; stroke-width:4; stroke-opacity:1; fill:none\" points=\"\n  393.07,733.459 393.07,1445.72 495.274,1445.72 495.274,733.459 393.07,733.459 \n  \"/>\n<path clip-path=\"url(#clip612)\" d=\"\nM495.274 870.717 L495.274 1445.72 L597.479 1445.72 L597.479 870.717 L495.274 870.717 L495.274 870.717  Z\n  \" fill=\"#009af9\" fill-rule=\"evenodd\" fill-opacity=\"1\"/>\n<polyline clip-path=\"url(#clip612)\" style=\"stroke:#000000; stroke-linecap:butt; stroke-linejoin:round; stroke-width:4; stroke-opacity:1; fill:none\" points=\"\n  495.274,870.717 495.274,1445.72 597.479,1445.72 597.479,870.717 495.274,870.717 \n  \"/>\n<path clip-path=\"url(#clip612)\" d=\"\nM597.479 1000.56 L597.479 1445.72 L699.683 1445.72 L699.683 1000.56 L597.479 1000.56 L597.479 1000.56  Z\n  \" fill=\"#009af9\" fill-rule=\"evenodd\" fill-opacity=\"1\"/>\n<polyline clip-path=\"url(#clip612)\" style=\"stroke:#000000; stroke-linecap:butt; stroke-linejoin:round; stroke-width:4; stroke-opacity:1; fill:none\" points=\"\n  597.479,1000.56 597.479,1445.72 699.683,1445.72 699.683,1000.56 597.479,1000.56 \n  \"/>\n<path clip-path=\"url(#clip612)\" d=\"\nM699.683 1171.2 L699.683 1445.72 L801.887 1445.72 L801.887 1171.2 L699.683 1171.2 L699.683 1171.2  Z\n  \" fill=\"#009af9\" fill-rule=\"evenodd\" fill-opacity=\"1\"/>\n<polyline clip-path=\"url(#clip612)\" style=\"stroke:#000000; stroke-linecap:butt; stroke-linejoin:round; stroke-width:4; stroke-opacity:1; fill:none\" points=\"\n  699.683,1171.2 699.683,1445.72 801.887,1445.72 801.887,1171.2 699.683,1171.2 \n  \"/>\n<path clip-path=\"url(#clip612)\" d=\"\nM801.887 1230.55 L801.887 1445.72 L904.092 1445.72 L904.092 1230.55 L801.887 1230.55 L801.887 1230.55  Z\n  \" fill=\"#009af9\" fill-rule=\"evenodd\" fill-opacity=\"1\"/>\n<polyline clip-path=\"url(#clip612)\" style=\"stroke:#000000; stroke-linecap:butt; stroke-linejoin:round; stroke-width:4; stroke-opacity:1; fill:none\" points=\"\n  801.887,1230.55 801.887,1445.72 904.092,1445.72 904.092,1230.55 801.887,1230.55 \n  \"/>\n<path clip-path=\"url(#clip612)\" d=\"\nM904.092 1267.65 L904.092 1445.72 L1006.3 1445.72 L1006.3 1267.65 L904.092 1267.65 L904.092 1267.65  Z\n  \" fill=\"#009af9\" fill-rule=\"evenodd\" fill-opacity=\"1\"/>\n<polyline clip-path=\"url(#clip612)\" style=\"stroke:#000000; stroke-linecap:butt; stroke-linejoin:round; stroke-width:4; stroke-opacity:1; fill:none\" points=\"\n  904.092,1267.65 904.092,1445.72 1006.3,1445.72 1006.3,1267.65 904.092,1267.65 \n  \"/>\n<path clip-path=\"url(#clip612)\" d=\"\nM1006.3 1293.62 L1006.3 1445.72 L1108.5 1445.72 L1108.5 1293.62 L1006.3 1293.62 L1006.3 1293.62  Z\n  \" fill=\"#009af9\" fill-rule=\"evenodd\" fill-opacity=\"1\"/>\n<polyline clip-path=\"url(#clip612)\" style=\"stroke:#000000; stroke-linecap:butt; stroke-linejoin:round; stroke-width:4; stroke-opacity:1; fill:none\" points=\"\n  1006.3,1293.62 1006.3,1445.72 1108.5,1445.72 1108.5,1293.62 1006.3,1293.62 \n  \"/>\n<path clip-path=\"url(#clip612)\" d=\"\nM1108.5 1304.75 L1108.5 1445.72 L1210.7 1445.72 L1210.7 1304.75 L1108.5 1304.75 L1108.5 1304.75  Z\n  \" fill=\"#009af9\" fill-rule=\"evenodd\" fill-opacity=\"1\"/>\n<polyline clip-path=\"url(#clip612)\" style=\"stroke:#000000; stroke-linecap:butt; stroke-linejoin:round; stroke-width:4; stroke-opacity:1; fill:none\" points=\"\n  1108.5,1304.75 1108.5,1445.72 1210.7,1445.72 1210.7,1304.75 1108.5,1304.75 \n  \"/>\n<path clip-path=\"url(#clip612)\" d=\"\nM1210.7 1330.72 L1210.7 1445.72 L1312.91 1445.72 L1312.91 1330.72 L1210.7 1330.72 L1210.7 1330.72  Z\n  \" fill=\"#009af9\" fill-rule=\"evenodd\" fill-opacity=\"1\"/>\n<polyline clip-path=\"url(#clip612)\" style=\"stroke:#000000; stroke-linecap:butt; stroke-linejoin:round; stroke-width:4; stroke-opacity:1; fill:none\" points=\"\n  1210.7,1330.72 1210.7,1445.72 1312.91,1445.72 1312.91,1330.72 1210.7,1330.72 \n  \"/>\n<path clip-path=\"url(#clip612)\" d=\"\nM1312.91 1416.04 L1312.91 1445.72 L1415.11 1445.72 L1415.11 1416.04 L1312.91 1416.04 L1312.91 1416.04  Z\n  \" fill=\"#009af9\" fill-rule=\"evenodd\" fill-opacity=\"1\"/>\n<polyline clip-path=\"url(#clip612)\" style=\"stroke:#000000; stroke-linecap:butt; stroke-linejoin:round; stroke-width:4; stroke-opacity:1; fill:none\" points=\"\n  1312.91,1416.04 1312.91,1445.72 1415.11,1445.72 1415.11,1416.04 1312.91,1416.04 \n  \"/>\n<path clip-path=\"url(#clip612)\" d=\"\nM1415.11 1430.88 L1415.11 1445.72 L1517.32 1445.72 L1517.32 1430.88 L1415.11 1430.88 L1415.11 1430.88  Z\n  \" fill=\"#009af9\" fill-rule=\"evenodd\" fill-opacity=\"1\"/>\n<polyline clip-path=\"url(#clip612)\" style=\"stroke:#000000; stroke-linecap:butt; stroke-linejoin:round; stroke-width:4; stroke-opacity:1; fill:none\" points=\"\n  1415.11,1430.88 1415.11,1445.72 1517.32,1445.72 1517.32,1430.88 1415.11,1430.88 \n  \"/>\n<path clip-path=\"url(#clip612)\" d=\"\nM1517.32 1404.91 L1517.32 1445.72 L1619.52 1445.72 L1619.52 1404.91 L1517.32 1404.91 L1517.32 1404.91  Z\n  \" fill=\"#009af9\" fill-rule=\"evenodd\" fill-opacity=\"1\"/>\n<polyline clip-path=\"url(#clip612)\" style=\"stroke:#000000; stroke-linecap:butt; stroke-linejoin:round; stroke-width:4; stroke-opacity:1; fill:none\" points=\"\n  1517.32,1404.91 1517.32,1445.72 1619.52,1445.72 1619.52,1404.91 1517.32,1404.91 \n  \"/>\n<path clip-path=\"url(#clip612)\" d=\"\nM1619.52 1427.17 L1619.52 1445.72 L1721.73 1445.72 L1721.73 1427.17 L1619.52 1427.17 L1619.52 1427.17  Z\n  \" fill=\"#009af9\" fill-rule=\"evenodd\" fill-opacity=\"1\"/>\n<polyline clip-path=\"url(#clip612)\" style=\"stroke:#000000; stroke-linecap:butt; stroke-linejoin:round; stroke-width:4; stroke-opacity:1; fill:none\" points=\"\n  1619.52,1427.17 1619.52,1445.72 1721.73,1445.72 1721.73,1427.17 1619.52,1427.17 \n  \"/>\n<path clip-path=\"url(#clip612)\" d=\"\nM1721.73 1419.75 L1721.73 1445.72 L1823.93 1445.72 L1823.93 1419.75 L1721.73 1419.75 L1721.73 1419.75  Z\n  \" fill=\"#009af9\" fill-rule=\"evenodd\" fill-opacity=\"1\"/>\n<polyline clip-path=\"url(#clip612)\" style=\"stroke:#000000; stroke-linecap:butt; stroke-linejoin:round; stroke-width:4; stroke-opacity:1; fill:none\" points=\"\n  1721.73,1419.75 1721.73,1445.72 1823.93,1445.72 1823.93,1419.75 1721.73,1419.75 \n  \"/>\n<path clip-path=\"url(#clip612)\" d=\"\nM1823.93 1434.59 L1823.93 1445.72 L1926.13 1445.72 L1926.13 1434.59 L1823.93 1434.59 L1823.93 1434.59  Z\n  \" fill=\"#009af9\" fill-rule=\"evenodd\" fill-opacity=\"1\"/>\n<polyline clip-path=\"url(#clip612)\" style=\"stroke:#000000; stroke-linecap:butt; stroke-linejoin:round; stroke-width:4; stroke-opacity:1; fill:none\" points=\"\n  1823.93,1434.59 1823.93,1445.72 1926.13,1445.72 1926.13,1434.59 1823.93,1434.59 \n  \"/>\n<path clip-path=\"url(#clip612)\" d=\"\nM1926.13 1434.59 L1926.13 1445.72 L2028.34 1445.72 L2028.34 1434.59 L1926.13 1434.59 L1926.13 1434.59  Z\n  \" fill=\"#009af9\" fill-rule=\"evenodd\" fill-opacity=\"1\"/>\n<polyline clip-path=\"url(#clip612)\" style=\"stroke:#000000; stroke-linecap:butt; stroke-linejoin:round; stroke-width:4; stroke-opacity:1; fill:none\" points=\"\n  1926.13,1434.59 1926.13,1445.72 2028.34,1445.72 2028.34,1434.59 1926.13,1434.59 \n  \"/>\n<path clip-path=\"url(#clip612)\" d=\"\nM2028.34 1442.01 L2028.34 1445.72 L2130.54 1445.72 L2130.54 1442.01 L2028.34 1442.01 L2028.34 1442.01  Z\n  \" fill=\"#009af9\" fill-rule=\"evenodd\" fill-opacity=\"1\"/>\n<polyline clip-path=\"url(#clip612)\" style=\"stroke:#000000; stroke-linecap:butt; stroke-linejoin:round; stroke-width:4; stroke-opacity:1; fill:none\" points=\"\n  2028.34,1442.01 2028.34,1445.72 2130.54,1445.72 2130.54,1442.01 2028.34,1442.01 \n  \"/>\n<path clip-path=\"url(#clip612)\" d=\"\nM2130.54 1438.3 L2130.54 1445.72 L2232.75 1445.72 L2232.75 1438.3 L2130.54 1438.3 L2130.54 1438.3  Z\n  \" fill=\"#009af9\" fill-rule=\"evenodd\" fill-opacity=\"1\"/>\n<polyline clip-path=\"url(#clip612)\" style=\"stroke:#000000; stroke-linecap:butt; stroke-linejoin:round; stroke-width:4; stroke-opacity:1; fill:none\" points=\"\n  2130.54,1438.3 2130.54,1445.72 2232.75,1445.72 2232.75,1438.3 2130.54,1438.3 \n  \"/>\n<circle clip-path=\"url(#clip612)\" style=\"fill:#009af9; stroke:none; fill-opacity:0\" cx=\"341.968\" cy=\"87.9763\" r=\"2\"/>\n<circle clip-path=\"url(#clip612)\" style=\"fill:#009af9; stroke:none; fill-opacity:0\" cx=\"444.172\" cy=\"733.459\" r=\"2\"/>\n<circle clip-path=\"url(#clip612)\" style=\"fill:#009af9; stroke:none; fill-opacity:0\" cx=\"546.376\" cy=\"870.717\" r=\"2\"/>\n<circle clip-path=\"url(#clip612)\" style=\"fill:#009af9; stroke:none; fill-opacity:0\" cx=\"648.581\" cy=\"1000.56\" r=\"2\"/>\n<circle clip-path=\"url(#clip612)\" style=\"fill:#009af9; stroke:none; fill-opacity:0\" cx=\"750.785\" cy=\"1171.2\" r=\"2\"/>\n<circle clip-path=\"url(#clip612)\" style=\"fill:#009af9; stroke:none; fill-opacity:0\" cx=\"852.989\" cy=\"1230.55\" r=\"2\"/>\n<circle clip-path=\"url(#clip612)\" style=\"fill:#009af9; stroke:none; fill-opacity:0\" cx=\"955.194\" cy=\"1267.65\" r=\"2\"/>\n<circle clip-path=\"url(#clip612)\" style=\"fill:#009af9; stroke:none; fill-opacity:0\" cx=\"1057.4\" cy=\"1293.62\" r=\"2\"/>\n<circle clip-path=\"url(#clip612)\" style=\"fill:#009af9; stroke:none; fill-opacity:0\" cx=\"1159.6\" cy=\"1304.75\" r=\"2\"/>\n<circle clip-path=\"url(#clip612)\" style=\"fill:#009af9; stroke:none; fill-opacity:0\" cx=\"1261.81\" cy=\"1330.72\" r=\"2\"/>\n<circle clip-path=\"url(#clip612)\" style=\"fill:#009af9; stroke:none; fill-opacity:0\" cx=\"1364.01\" cy=\"1416.04\" r=\"2\"/>\n<circle clip-path=\"url(#clip612)\" style=\"fill:#009af9; stroke:none; fill-opacity:0\" cx=\"1466.22\" cy=\"1430.88\" r=\"2\"/>\n<circle clip-path=\"url(#clip612)\" style=\"fill:#009af9; stroke:none; fill-opacity:0\" cx=\"1568.42\" cy=\"1404.91\" r=\"2\"/>\n<circle clip-path=\"url(#clip612)\" style=\"fill:#009af9; stroke:none; fill-opacity:0\" cx=\"1670.62\" cy=\"1427.17\" r=\"2\"/>\n<circle clip-path=\"url(#clip612)\" style=\"fill:#009af9; stroke:none; fill-opacity:0\" cx=\"1772.83\" cy=\"1419.75\" r=\"2\"/>\n<circle clip-path=\"url(#clip612)\" style=\"fill:#009af9; stroke:none; fill-opacity:0\" cx=\"1875.03\" cy=\"1434.59\" r=\"2\"/>\n<circle clip-path=\"url(#clip612)\" style=\"fill:#009af9; stroke:none; fill-opacity:0\" cx=\"1977.24\" cy=\"1434.59\" r=\"2\"/>\n<circle clip-path=\"url(#clip612)\" style=\"fill:#009af9; stroke:none; fill-opacity:0\" cx=\"2079.44\" cy=\"1442.01\" r=\"2\"/>\n<circle clip-path=\"url(#clip612)\" style=\"fill:#009af9; stroke:none; fill-opacity:0\" cx=\"2181.65\" cy=\"1438.3\" r=\"2\"/>\n<path clip-path=\"url(#clip610)\" d=\"\nM1985.16 198.898 L2280.03 198.898 L2280.03 95.2176 L1985.16 95.2176  Z\n  \" fill=\"#ffffff\" fill-rule=\"evenodd\" fill-opacity=\"1\"/>\n<polyline clip-path=\"url(#clip610)\" style=\"stroke:#000000; stroke-linecap:butt; stroke-linejoin:round; stroke-width:4; stroke-opacity:1; fill:none\" points=\"\n  1985.16,198.898 2280.03,198.898 2280.03,95.2176 1985.16,95.2176 1985.16,198.898 \n  \"/>\n<path clip-path=\"url(#clip610)\" d=\"\nM2009.41 167.794 L2154.87 167.794 L2154.87 126.322 L2009.41 126.322 L2009.41 167.794  Z\n  \" fill=\"#009af9\" fill-rule=\"evenodd\" fill-opacity=\"1\"/>\n<polyline clip-path=\"url(#clip610)\" style=\"stroke:#000000; stroke-linecap:butt; stroke-linejoin:round; stroke-width:4; stroke-opacity:1; fill:none\" points=\"\n  2009.41,167.794 2154.87,167.794 2154.87,126.322 2009.41,126.322 2009.41,167.794 \n  \"/>\n<path clip-path=\"url(#clip610)\" d=\"M2192.95 166.745 Q2191.15 171.375 2189.43 172.787 Q2187.72 174.199 2184.85 174.199 L2181.45 174.199 L2181.45 170.634 L2183.95 170.634 Q2185.71 170.634 2186.68 169.8 Q2187.65 168.967 2188.83 165.865 L2189.6 163.921 L2179.11 138.412 L2183.62 138.412 L2191.72 158.689 L2199.83 138.412 L2204.34 138.412 L2192.95 166.745 Z\" fill=\"#000000\" fill-rule=\"evenodd\" fill-opacity=\"1\" /><path clip-path=\"url(#clip610)\" d=\"M2211.63 160.402 L2219.27 160.402 L2219.27 134.037 L2210.96 135.703 L2210.96 131.444 L2219.22 129.778 L2223.9 129.778 L2223.9 160.402 L2231.54 160.402 L2231.54 164.338 L2211.63 164.338 L2211.63 160.402 Z\" fill=\"#000000\" fill-rule=\"evenodd\" fill-opacity=\"1\" /></svg>\n",
      "text/html": [
       "<?xml version=\"1.0\" encoding=\"utf-8\"?>\n",
       "<svg xmlns=\"http://www.w3.org/2000/svg\" xmlns:xlink=\"http://www.w3.org/1999/xlink\" width=\"600\" height=\"400\" viewBox=\"0 0 2400 1600\">\n",
       "<defs>\n",
       "  <clipPath id=\"clip660\">\n",
       "    <rect x=\"0\" y=\"0\" width=\"2400\" height=\"1600\"/>\n",
       "  </clipPath>\n",
       "</defs>\n",
       "<path clip-path=\"url(#clip660)\" d=\"\n",
       "M0 1600 L2400 1600 L2400 0 L0 0  Z\n",
       "  \" fill=\"#ffffff\" fill-rule=\"evenodd\" fill-opacity=\"1\"/>\n",
       "<defs>\n",
       "  <clipPath id=\"clip661\">\n",
       "    <rect x=\"480\" y=\"0\" width=\"1681\" height=\"1600\"/>\n",
       "  </clipPath>\n",
       "</defs>\n",
       "<path clip-path=\"url(#clip660)\" d=\"\n",
       "M170.857 1486.45 L2352.76 1486.45 L2352.76 47.2441 L170.857 47.2441  Z\n",
       "  \" fill=\"#ffffff\" fill-rule=\"evenodd\" fill-opacity=\"1\"/>\n",
       "<defs>\n",
       "  <clipPath id=\"clip662\">\n",
       "    <rect x=\"170\" y=\"47\" width=\"2183\" height=\"1440\"/>\n",
       "  </clipPath>\n",
       "</defs>\n",
       "<polyline clip-path=\"url(#clip662)\" style=\"stroke:#000000; stroke-linecap:butt; stroke-linejoin:round; stroke-width:2; stroke-opacity:0.1; fill:none\" points=\"\n",
       "  290.866,1486.45 290.866,47.2441 \n",
       "  \"/>\n",
       "<polyline clip-path=\"url(#clip662)\" style=\"stroke:#000000; stroke-linecap:butt; stroke-linejoin:round; stroke-width:2; stroke-opacity:0.1; fill:none\" points=\"\n",
       "  801.887,1486.45 801.887,47.2441 \n",
       "  \"/>\n",
       "<polyline clip-path=\"url(#clip662)\" style=\"stroke:#000000; stroke-linecap:butt; stroke-linejoin:round; stroke-width:2; stroke-opacity:0.1; fill:none\" points=\"\n",
       "  1312.91,1486.45 1312.91,47.2441 \n",
       "  \"/>\n",
       "<polyline clip-path=\"url(#clip662)\" style=\"stroke:#000000; stroke-linecap:butt; stroke-linejoin:round; stroke-width:2; stroke-opacity:0.1; fill:none\" points=\"\n",
       "  1823.93,1486.45 1823.93,47.2441 \n",
       "  \"/>\n",
       "<polyline clip-path=\"url(#clip662)\" style=\"stroke:#000000; stroke-linecap:butt; stroke-linejoin:round; stroke-width:2; stroke-opacity:0.1; fill:none\" points=\"\n",
       "  2334.95,1486.45 2334.95,47.2441 \n",
       "  \"/>\n",
       "<polyline clip-path=\"url(#clip660)\" style=\"stroke:#000000; stroke-linecap:butt; stroke-linejoin:round; stroke-width:4; stroke-opacity:1; fill:none\" points=\"\n",
       "  170.857,1486.45 2352.76,1486.45 \n",
       "  \"/>\n",
       "<polyline clip-path=\"url(#clip660)\" style=\"stroke:#000000; stroke-linecap:butt; stroke-linejoin:round; stroke-width:4; stroke-opacity:1; fill:none\" points=\"\n",
       "  290.866,1486.45 290.866,1467.55 \n",
       "  \"/>\n",
       "<polyline clip-path=\"url(#clip660)\" style=\"stroke:#000000; stroke-linecap:butt; stroke-linejoin:round; stroke-width:4; stroke-opacity:1; fill:none\" points=\"\n",
       "  801.887,1486.45 801.887,1467.55 \n",
       "  \"/>\n",
       "<polyline clip-path=\"url(#clip660)\" style=\"stroke:#000000; stroke-linecap:butt; stroke-linejoin:round; stroke-width:4; stroke-opacity:1; fill:none\" points=\"\n",
       "  1312.91,1486.45 1312.91,1467.55 \n",
       "  \"/>\n",
       "<polyline clip-path=\"url(#clip660)\" style=\"stroke:#000000; stroke-linecap:butt; stroke-linejoin:round; stroke-width:4; stroke-opacity:1; fill:none\" points=\"\n",
       "  1823.93,1486.45 1823.93,1467.55 \n",
       "  \"/>\n",
       "<polyline clip-path=\"url(#clip660)\" style=\"stroke:#000000; stroke-linecap:butt; stroke-linejoin:round; stroke-width:4; stroke-opacity:1; fill:none\" points=\"\n",
       "  2334.95,1486.45 2334.95,1467.55 \n",
       "  \"/>\n",
       "<path clip-path=\"url(#clip660)\" d=\"M290.866 1517.37 Q287.255 1517.37 285.426 1520.93 Q283.62 1524.47 283.62 1531.6 Q283.62 1538.71 285.426 1542.27 Q287.255 1545.82 290.866 1545.82 Q294.5 1545.82 296.306 1542.27 Q298.134 1538.71 298.134 1531.6 Q298.134 1524.47 296.306 1520.93 Q294.5 1517.37 290.866 1517.37 M290.866 1513.66 Q296.676 1513.66 299.731 1518.27 Q302.81 1522.85 302.81 1531.6 Q302.81 1540.33 299.731 1544.94 Q296.676 1549.52 290.866 1549.52 Q285.056 1549.52 281.977 1544.94 Q278.921 1540.33 278.921 1531.6 Q278.921 1522.85 281.977 1518.27 Q285.056 1513.66 290.866 1513.66 Z\" fill=\"#000000\" fill-rule=\"evenodd\" fill-opacity=\"1\" /><path clip-path=\"url(#clip660)\" d=\"M761.494 1544.91 L769.133 1544.91 L769.133 1518.55 L760.823 1520.21 L760.823 1515.95 L769.087 1514.29 L773.762 1514.29 L773.762 1544.91 L781.401 1544.91 L781.401 1548.85 L761.494 1548.85 L761.494 1544.91 Z\" fill=\"#000000\" fill-rule=\"evenodd\" fill-opacity=\"1\" /><path clip-path=\"url(#clip660)\" d=\"M800.846 1517.37 Q797.235 1517.37 795.406 1520.93 Q793.6 1524.47 793.6 1531.6 Q793.6 1538.71 795.406 1542.27 Q797.235 1545.82 800.846 1545.82 Q804.48 1545.82 806.285 1542.27 Q808.114 1538.71 808.114 1531.6 Q808.114 1524.47 806.285 1520.93 Q804.48 1517.37 800.846 1517.37 M800.846 1513.66 Q806.656 1513.66 809.711 1518.27 Q812.79 1522.85 812.79 1531.6 Q812.79 1540.33 809.711 1544.94 Q806.656 1549.52 800.846 1549.52 Q795.035 1549.52 791.957 1544.94 Q788.901 1540.33 788.901 1531.6 Q788.901 1522.85 791.957 1518.27 Q795.035 1513.66 800.846 1513.66 Z\" fill=\"#000000\" fill-rule=\"evenodd\" fill-opacity=\"1\" /><path clip-path=\"url(#clip660)\" d=\"M831.007 1517.37 Q827.396 1517.37 825.568 1520.93 Q823.762 1524.47 823.762 1531.6 Q823.762 1538.71 825.568 1542.27 Q827.396 1545.82 831.007 1545.82 Q834.642 1545.82 836.447 1542.27 Q838.276 1538.71 838.276 1531.6 Q838.276 1524.47 836.447 1520.93 Q834.642 1517.37 831.007 1517.37 M831.007 1513.66 Q836.818 1513.66 839.873 1518.27 Q842.952 1522.85 842.952 1531.6 Q842.952 1540.33 839.873 1544.94 Q836.818 1549.52 831.007 1549.52 Q825.197 1549.52 822.119 1544.94 Q819.063 1540.33 819.063 1531.6 Q819.063 1522.85 822.119 1518.27 Q825.197 1513.66 831.007 1513.66 Z\" fill=\"#000000\" fill-rule=\"evenodd\" fill-opacity=\"1\" /><path clip-path=\"url(#clip660)\" d=\"M1276.6 1544.91 L1292.92 1544.91 L1292.92 1548.85 L1270.98 1548.85 L1270.98 1544.91 Q1273.64 1542.16 1278.22 1537.53 Q1282.83 1532.88 1284.01 1531.53 Q1286.25 1529.01 1287.13 1527.27 Q1288.04 1525.51 1288.04 1523.82 Q1288.04 1521.07 1286.09 1519.33 Q1284.17 1517.6 1281.07 1517.6 Q1278.87 1517.6 1276.42 1518.36 Q1273.99 1519.13 1271.21 1520.68 L1271.21 1515.95 Q1274.03 1514.82 1276.49 1514.24 Q1278.94 1513.66 1280.98 1513.66 Q1286.35 1513.66 1289.54 1516.35 Q1292.74 1519.03 1292.74 1523.52 Q1292.74 1525.65 1291.93 1527.57 Q1291.14 1529.47 1289.03 1532.07 Q1288.45 1532.74 1285.35 1535.95 Q1282.25 1539.15 1276.6 1544.91 Z\" fill=\"#000000\" fill-rule=\"evenodd\" fill-opacity=\"1\" /><path clip-path=\"url(#clip660)\" d=\"M1312.74 1517.37 Q1309.12 1517.37 1307.3 1520.93 Q1305.49 1524.47 1305.49 1531.6 Q1305.49 1538.71 1307.3 1542.27 Q1309.12 1545.82 1312.74 1545.82 Q1316.37 1545.82 1318.17 1542.27 Q1320 1538.71 1320 1531.6 Q1320 1524.47 1318.17 1520.93 Q1316.37 1517.37 1312.74 1517.37 M1312.74 1513.66 Q1318.55 1513.66 1321.6 1518.27 Q1324.68 1522.85 1324.68 1531.6 Q1324.68 1540.33 1321.6 1544.94 Q1318.55 1549.52 1312.74 1549.52 Q1306.93 1549.52 1303.85 1544.94 Q1300.79 1540.33 1300.79 1531.6 Q1300.79 1522.85 1303.85 1518.27 Q1306.93 1513.66 1312.74 1513.66 Z\" fill=\"#000000\" fill-rule=\"evenodd\" fill-opacity=\"1\" /><path clip-path=\"url(#clip660)\" d=\"M1342.9 1517.37 Q1339.29 1517.37 1337.46 1520.93 Q1335.65 1524.47 1335.65 1531.6 Q1335.65 1538.71 1337.46 1542.27 Q1339.29 1545.82 1342.9 1545.82 Q1346.53 1545.82 1348.34 1542.27 Q1350.17 1538.71 1350.17 1531.6 Q1350.17 1524.47 1348.34 1520.93 Q1346.53 1517.37 1342.9 1517.37 M1342.9 1513.66 Q1348.71 1513.66 1351.76 1518.27 Q1354.84 1522.85 1354.84 1531.6 Q1354.84 1540.33 1351.76 1544.94 Q1348.71 1549.52 1342.9 1549.52 Q1337.09 1549.52 1334.01 1544.94 Q1330.95 1540.33 1330.95 1531.6 Q1330.95 1522.85 1334.01 1518.27 Q1337.09 1513.66 1342.9 1513.66 Z\" fill=\"#000000\" fill-rule=\"evenodd\" fill-opacity=\"1\" /><path clip-path=\"url(#clip660)\" d=\"M1797.69 1530.21 Q1801.05 1530.93 1802.92 1533.2 Q1804.82 1535.47 1804.82 1538.8 Q1804.82 1543.92 1801.3 1546.72 Q1797.78 1549.52 1791.3 1549.52 Q1789.13 1549.52 1786.81 1549.08 Q1784.52 1548.66 1782.07 1547.81 L1782.07 1543.29 Q1784.01 1544.43 1786.33 1545.01 Q1788.64 1545.58 1791.16 1545.58 Q1795.56 1545.58 1797.85 1543.85 Q1800.17 1542.11 1800.17 1538.8 Q1800.17 1535.75 1798.02 1534.03 Q1795.89 1532.3 1792.07 1532.3 L1788.04 1532.3 L1788.04 1528.45 L1792.25 1528.45 Q1795.7 1528.45 1797.53 1527.09 Q1799.36 1525.7 1799.36 1523.11 Q1799.36 1520.45 1797.46 1519.03 Q1795.59 1517.6 1792.07 1517.6 Q1790.15 1517.6 1787.95 1518.01 Q1785.75 1518.43 1783.11 1519.31 L1783.11 1515.14 Q1785.77 1514.4 1788.09 1514.03 Q1790.42 1513.66 1792.48 1513.66 Q1797.81 1513.66 1800.91 1516.09 Q1804.01 1518.5 1804.01 1522.62 Q1804.01 1525.49 1802.37 1527.48 Q1800.72 1529.45 1797.69 1530.21 Z\" fill=\"#000000\" fill-rule=\"evenodd\" fill-opacity=\"1\" /><path clip-path=\"url(#clip660)\" d=\"M1823.69 1517.37 Q1820.08 1517.37 1818.25 1520.93 Q1816.44 1524.47 1816.44 1531.6 Q1816.44 1538.71 1818.25 1542.27 Q1820.08 1545.82 1823.69 1545.82 Q1827.32 1545.82 1829.13 1542.27 Q1830.96 1538.71 1830.96 1531.6 Q1830.96 1524.47 1829.13 1520.93 Q1827.32 1517.37 1823.69 1517.37 M1823.69 1513.66 Q1829.5 1513.66 1832.55 1518.27 Q1835.63 1522.85 1835.63 1531.6 Q1835.63 1540.33 1832.55 1544.94 Q1829.5 1549.52 1823.69 1549.52 Q1817.88 1549.52 1814.8 1544.94 Q1811.74 1540.33 1811.74 1531.6 Q1811.74 1522.85 1814.8 1518.27 Q1817.88 1513.66 1823.69 1513.66 Z\" fill=\"#000000\" fill-rule=\"evenodd\" fill-opacity=\"1\" /><path clip-path=\"url(#clip660)\" d=\"M1853.85 1517.37 Q1850.24 1517.37 1848.41 1520.93 Q1846.6 1524.47 1846.6 1531.6 Q1846.6 1538.71 1848.41 1542.27 Q1850.24 1545.82 1853.85 1545.82 Q1857.48 1545.82 1859.29 1542.27 Q1861.12 1538.71 1861.12 1531.6 Q1861.12 1524.47 1859.29 1520.93 Q1857.48 1517.37 1853.85 1517.37 M1853.85 1513.66 Q1859.66 1513.66 1862.71 1518.27 Q1865.79 1522.85 1865.79 1531.6 Q1865.79 1540.33 1862.71 1544.94 Q1859.66 1549.52 1853.85 1549.52 Q1848.04 1549.52 1844.96 1544.94 Q1841.9 1540.33 1841.9 1531.6 Q1841.9 1522.85 1844.96 1518.27 Q1848.04 1513.66 1853.85 1513.66 Z\" fill=\"#000000\" fill-rule=\"evenodd\" fill-opacity=\"1\" /><path clip-path=\"url(#clip660)\" d=\"M2308.04 1518.36 L2296.24 1536.81 L2308.04 1536.81 L2308.04 1518.36 M2306.82 1514.29 L2312.7 1514.29 L2312.7 1536.81 L2317.63 1536.81 L2317.63 1540.7 L2312.7 1540.7 L2312.7 1548.85 L2308.04 1548.85 L2308.04 1540.7 L2292.44 1540.7 L2292.44 1536.19 L2306.82 1514.29 Z\" fill=\"#000000\" fill-rule=\"evenodd\" fill-opacity=\"1\" /><path clip-path=\"url(#clip660)\" d=\"M2335.36 1517.37 Q2331.75 1517.37 2329.92 1520.93 Q2328.11 1524.47 2328.11 1531.6 Q2328.11 1538.71 2329.92 1542.27 Q2331.75 1545.82 2335.36 1545.82 Q2338.99 1545.82 2340.8 1542.27 Q2342.63 1538.71 2342.63 1531.6 Q2342.63 1524.47 2340.8 1520.93 Q2338.99 1517.37 2335.36 1517.37 M2335.36 1513.66 Q2341.17 1513.66 2344.22 1518.27 Q2347.3 1522.85 2347.3 1531.6 Q2347.3 1540.33 2344.22 1544.94 Q2341.17 1549.52 2335.36 1549.52 Q2329.55 1549.52 2326.47 1544.94 Q2323.41 1540.33 2323.41 1531.6 Q2323.41 1522.85 2326.47 1518.27 Q2329.55 1513.66 2335.36 1513.66 Z\" fill=\"#000000\" fill-rule=\"evenodd\" fill-opacity=\"1\" /><path clip-path=\"url(#clip660)\" d=\"M2365.52 1517.37 Q2361.91 1517.37 2360.08 1520.93 Q2358.27 1524.47 2358.27 1531.6 Q2358.27 1538.71 2360.08 1542.27 Q2361.91 1545.82 2365.52 1545.82 Q2369.15 1545.82 2370.96 1542.27 Q2372.79 1538.71 2372.79 1531.6 Q2372.79 1524.47 2370.96 1520.93 Q2369.15 1517.37 2365.52 1517.37 M2365.52 1513.66 Q2371.33 1513.66 2374.38 1518.27 Q2377.46 1522.85 2377.46 1531.6 Q2377.46 1540.33 2374.38 1544.94 Q2371.33 1549.52 2365.52 1549.52 Q2359.71 1549.52 2356.63 1544.94 Q2353.57 1540.33 2353.57 1531.6 Q2353.57 1522.85 2356.63 1518.27 Q2359.71 1513.66 2365.52 1513.66 Z\" fill=\"#000000\" fill-rule=\"evenodd\" fill-opacity=\"1\" /><polyline clip-path=\"url(#clip662)\" style=\"stroke:#000000; stroke-linecap:butt; stroke-linejoin:round; stroke-width:2; stroke-opacity:0.1; fill:none\" points=\"\n",
       "  170.857,1445.72 2352.76,1445.72 \n",
       "  \"/>\n",
       "<polyline clip-path=\"url(#clip662)\" style=\"stroke:#000000; stroke-linecap:butt; stroke-linejoin:round; stroke-width:2; stroke-opacity:0.1; fill:none\" points=\"\n",
       "  170.857,1074.75 2352.76,1074.75 \n",
       "  \"/>\n",
       "<polyline clip-path=\"url(#clip662)\" style=\"stroke:#000000; stroke-linecap:butt; stroke-linejoin:round; stroke-width:2; stroke-opacity:0.1; fill:none\" points=\"\n",
       "  170.857,703.782 2352.76,703.782 \n",
       "  \"/>\n",
       "<polyline clip-path=\"url(#clip662)\" style=\"stroke:#000000; stroke-linecap:butt; stroke-linejoin:round; stroke-width:2; stroke-opacity:0.1; fill:none\" points=\"\n",
       "  170.857,332.815 2352.76,332.815 \n",
       "  \"/>\n",
       "<polyline clip-path=\"url(#clip660)\" style=\"stroke:#000000; stroke-linecap:butt; stroke-linejoin:round; stroke-width:4; stroke-opacity:1; fill:none\" points=\"\n",
       "  170.857,1486.45 170.857,47.2441 \n",
       "  \"/>\n",
       "<polyline clip-path=\"url(#clip660)\" style=\"stroke:#000000; stroke-linecap:butt; stroke-linejoin:round; stroke-width:4; stroke-opacity:1; fill:none\" points=\"\n",
       "  170.857,1445.72 189.755,1445.72 \n",
       "  \"/>\n",
       "<polyline clip-path=\"url(#clip660)\" style=\"stroke:#000000; stroke-linecap:butt; stroke-linejoin:round; stroke-width:4; stroke-opacity:1; fill:none\" points=\"\n",
       "  170.857,1074.75 189.755,1074.75 \n",
       "  \"/>\n",
       "<polyline clip-path=\"url(#clip660)\" style=\"stroke:#000000; stroke-linecap:butt; stroke-linejoin:round; stroke-width:4; stroke-opacity:1; fill:none\" points=\"\n",
       "  170.857,703.782 189.755,703.782 \n",
       "  \"/>\n",
       "<polyline clip-path=\"url(#clip660)\" style=\"stroke:#000000; stroke-linecap:butt; stroke-linejoin:round; stroke-width:4; stroke-opacity:1; fill:none\" points=\"\n",
       "  170.857,332.815 189.755,332.815 \n",
       "  \"/>\n",
       "<path clip-path=\"url(#clip660)\" d=\"M122.913 1431.51 Q119.302 1431.51 117.473 1435.08 Q115.668 1438.62 115.668 1445.75 Q115.668 1452.86 117.473 1456.42 Q119.302 1459.96 122.913 1459.96 Q126.547 1459.96 128.353 1456.42 Q130.182 1452.86 130.182 1445.75 Q130.182 1438.62 128.353 1435.08 Q126.547 1431.51 122.913 1431.51 M122.913 1427.81 Q128.723 1427.81 131.779 1432.42 Q134.857 1437 134.857 1445.75 Q134.857 1454.48 131.779 1459.08 Q128.723 1463.67 122.913 1463.67 Q117.103 1463.67 114.024 1459.08 Q110.969 1454.48 110.969 1445.75 Q110.969 1437 114.024 1432.42 Q117.103 1427.81 122.913 1427.81 Z\" fill=\"#000000\" fill-rule=\"evenodd\" fill-opacity=\"1\" /><path clip-path=\"url(#clip660)\" d=\"M53.3995 1088.09 L61.0384 1088.09 L61.0384 1061.73 L52.7282 1063.39 L52.7282 1059.14 L60.9921 1057.47 L65.668 1057.47 L65.668 1088.09 L73.3068 1088.09 L73.3068 1092.03 L53.3995 1092.03 L53.3995 1088.09 Z\" fill=\"#000000\" fill-rule=\"evenodd\" fill-opacity=\"1\" /><path clip-path=\"url(#clip660)\" d=\"M92.7512 1060.55 Q89.1401 1060.55 87.3114 1064.11 Q85.5058 1067.65 85.5058 1074.78 Q85.5058 1081.89 87.3114 1085.45 Q89.1401 1089 92.7512 1089 Q96.3854 1089 98.1909 1085.45 Q100.02 1081.89 100.02 1074.78 Q100.02 1067.65 98.1909 1064.11 Q96.3854 1060.55 92.7512 1060.55 M92.7512 1056.84 Q98.5613 1056.84 101.617 1061.45 Q104.696 1066.03 104.696 1074.78 Q104.696 1083.51 101.617 1088.12 Q98.5613 1092.7 92.7512 1092.7 Q86.941 1092.7 83.8623 1088.12 Q80.8068 1083.51 80.8068 1074.78 Q80.8068 1066.03 83.8623 1061.45 Q86.941 1056.84 92.7512 1056.84 Z\" fill=\"#000000\" fill-rule=\"evenodd\" fill-opacity=\"1\" /><path clip-path=\"url(#clip660)\" d=\"M122.913 1060.55 Q119.302 1060.55 117.473 1064.11 Q115.668 1067.65 115.668 1074.78 Q115.668 1081.89 117.473 1085.45 Q119.302 1089 122.913 1089 Q126.547 1089 128.353 1085.45 Q130.182 1081.89 130.182 1074.78 Q130.182 1067.65 128.353 1064.11 Q126.547 1060.55 122.913 1060.55 M122.913 1056.84 Q128.723 1056.84 131.779 1061.45 Q134.857 1066.03 134.857 1074.78 Q134.857 1083.51 131.779 1088.12 Q128.723 1092.7 122.913 1092.7 Q117.103 1092.7 114.024 1088.12 Q110.969 1083.51 110.969 1074.78 Q110.969 1066.03 114.024 1061.45 Q117.103 1056.84 122.913 1056.84 Z\" fill=\"#000000\" fill-rule=\"evenodd\" fill-opacity=\"1\" /><path clip-path=\"url(#clip660)\" d=\"M56.6171 717.126 L72.9365 717.126 L72.9365 721.062 L50.9921 721.062 L50.9921 717.126 Q53.6541 714.372 58.2375 709.742 Q62.8439 705.089 64.0245 703.747 Q66.2698 701.224 67.1494 699.488 Q68.0522 697.728 68.0522 696.039 Q68.0522 693.284 66.1078 691.548 Q64.1865 689.812 61.0847 689.812 Q58.8856 689.812 56.4319 690.576 Q54.0014 691.34 51.2236 692.89 L51.2236 688.168 Q54.0477 687.034 56.5014 686.455 Q58.955 685.877 60.9921 685.877 Q66.3624 685.877 69.5568 688.562 Q72.7513 691.247 72.7513 695.738 Q72.7513 697.867 71.9411 699.789 Q71.1541 701.687 69.0476 704.279 Q68.4689 704.951 65.367 708.168 Q62.2652 711.363 56.6171 717.126 Z\" fill=\"#000000\" fill-rule=\"evenodd\" fill-opacity=\"1\" /><path clip-path=\"url(#clip660)\" d=\"M92.7512 689.58 Q89.1401 689.58 87.3114 693.145 Q85.5058 696.687 85.5058 703.816 Q85.5058 710.923 87.3114 714.488 Q89.1401 718.029 92.7512 718.029 Q96.3854 718.029 98.1909 714.488 Q100.02 710.923 100.02 703.816 Q100.02 696.687 98.1909 693.145 Q96.3854 689.58 92.7512 689.58 M92.7512 685.877 Q98.5613 685.877 101.617 690.483 Q104.696 695.066 104.696 703.816 Q104.696 712.543 101.617 717.15 Q98.5613 721.733 92.7512 721.733 Q86.941 721.733 83.8623 717.15 Q80.8068 712.543 80.8068 703.816 Q80.8068 695.066 83.8623 690.483 Q86.941 685.877 92.7512 685.877 Z\" fill=\"#000000\" fill-rule=\"evenodd\" fill-opacity=\"1\" /><path clip-path=\"url(#clip660)\" d=\"M122.913 689.58 Q119.302 689.58 117.473 693.145 Q115.668 696.687 115.668 703.816 Q115.668 710.923 117.473 714.488 Q119.302 718.029 122.913 718.029 Q126.547 718.029 128.353 714.488 Q130.182 710.923 130.182 703.816 Q130.182 696.687 128.353 693.145 Q126.547 689.58 122.913 689.58 M122.913 685.877 Q128.723 685.877 131.779 690.483 Q134.857 695.066 134.857 703.816 Q134.857 712.543 131.779 717.15 Q128.723 721.733 122.913 721.733 Q117.103 721.733 114.024 717.15 Q110.969 712.543 110.969 703.816 Q110.969 695.066 114.024 690.483 Q117.103 685.877 122.913 685.877 Z\" fill=\"#000000\" fill-rule=\"evenodd\" fill-opacity=\"1\" /><path clip-path=\"url(#clip660)\" d=\"M66.7559 331.46 Q70.1124 332.178 71.9874 334.446 Q73.8855 336.715 73.8855 340.048 Q73.8855 345.164 70.367 347.965 Q66.8485 350.766 60.3671 350.766 Q58.1912 350.766 55.8764 350.326 Q53.5847 349.909 51.131 349.053 L51.131 344.539 Q53.0754 345.673 55.3903 346.252 Q57.7051 346.831 60.2282 346.831 Q64.6263 346.831 66.918 345.095 Q69.2328 343.358 69.2328 340.048 Q69.2328 336.993 67.08 335.28 Q64.9504 333.544 61.131 333.544 L57.1032 333.544 L57.1032 329.701 L61.3161 329.701 Q64.7652 329.701 66.5939 328.335 Q68.4226 326.947 68.4226 324.354 Q68.4226 321.692 66.5245 320.28 Q64.6495 318.845 61.131 318.845 Q59.2097 318.845 57.0106 319.261 Q54.8115 319.678 52.1727 320.558 L52.1727 316.391 Q54.8347 315.65 57.1495 315.28 Q59.4875 314.91 61.5476 314.91 Q66.8717 314.91 69.9735 317.34 Q73.0753 319.747 73.0753 323.868 Q73.0753 326.738 71.4318 328.729 Q69.7883 330.696 66.7559 331.46 Z\" fill=\"#000000\" fill-rule=\"evenodd\" fill-opacity=\"1\" /><path clip-path=\"url(#clip660)\" d=\"M92.7512 318.613 Q89.1401 318.613 87.3114 322.178 Q85.5058 325.72 85.5058 332.849 Q85.5058 339.956 87.3114 343.52 Q89.1401 347.062 92.7512 347.062 Q96.3854 347.062 98.1909 343.52 Q100.02 339.956 100.02 332.849 Q100.02 325.72 98.1909 322.178 Q96.3854 318.613 92.7512 318.613 M92.7512 314.91 Q98.5613 314.91 101.617 319.516 Q104.696 324.099 104.696 332.849 Q104.696 341.576 101.617 346.183 Q98.5613 350.766 92.7512 350.766 Q86.941 350.766 83.8623 346.183 Q80.8068 341.576 80.8068 332.849 Q80.8068 324.099 83.8623 319.516 Q86.941 314.91 92.7512 314.91 Z\" fill=\"#000000\" fill-rule=\"evenodd\" fill-opacity=\"1\" /><path clip-path=\"url(#clip660)\" d=\"M122.913 318.613 Q119.302 318.613 117.473 322.178 Q115.668 325.72 115.668 332.849 Q115.668 339.956 117.473 343.52 Q119.302 347.062 122.913 347.062 Q126.547 347.062 128.353 343.52 Q130.182 339.956 130.182 332.849 Q130.182 325.72 128.353 322.178 Q126.547 318.613 122.913 318.613 M122.913 314.91 Q128.723 314.91 131.779 319.516 Q134.857 324.099 134.857 332.849 Q134.857 341.576 131.779 346.183 Q128.723 350.766 122.913 350.766 Q117.103 350.766 114.024 346.183 Q110.969 341.576 110.969 332.849 Q110.969 324.099 114.024 319.516 Q117.103 314.91 122.913 314.91 Z\" fill=\"#000000\" fill-rule=\"evenodd\" fill-opacity=\"1\" /><path clip-path=\"url(#clip662)\" d=\"\n",
       "M290.866 87.9763 L290.866 1445.72 L393.07 1445.72 L393.07 87.9763 L290.866 87.9763 L290.866 87.9763  Z\n",
       "  \" fill=\"#009af9\" fill-rule=\"evenodd\" fill-opacity=\"1\"/>\n",
       "<polyline clip-path=\"url(#clip662)\" style=\"stroke:#000000; stroke-linecap:butt; stroke-linejoin:round; stroke-width:4; stroke-opacity:1; fill:none\" points=\"\n",
       "  290.866,87.9763 290.866,1445.72 393.07,1445.72 393.07,87.9763 290.866,87.9763 \n",
       "  \"/>\n",
       "<path clip-path=\"url(#clip662)\" d=\"\n",
       "M393.07 733.459 L393.07 1445.72 L495.274 1445.72 L495.274 733.459 L393.07 733.459 L393.07 733.459  Z\n",
       "  \" fill=\"#009af9\" fill-rule=\"evenodd\" fill-opacity=\"1\"/>\n",
       "<polyline clip-path=\"url(#clip662)\" style=\"stroke:#000000; stroke-linecap:butt; stroke-linejoin:round; stroke-width:4; stroke-opacity:1; fill:none\" points=\"\n",
       "  393.07,733.459 393.07,1445.72 495.274,1445.72 495.274,733.459 393.07,733.459 \n",
       "  \"/>\n",
       "<path clip-path=\"url(#clip662)\" d=\"\n",
       "M495.274 870.717 L495.274 1445.72 L597.479 1445.72 L597.479 870.717 L495.274 870.717 L495.274 870.717  Z\n",
       "  \" fill=\"#009af9\" fill-rule=\"evenodd\" fill-opacity=\"1\"/>\n",
       "<polyline clip-path=\"url(#clip662)\" style=\"stroke:#000000; stroke-linecap:butt; stroke-linejoin:round; stroke-width:4; stroke-opacity:1; fill:none\" points=\"\n",
       "  495.274,870.717 495.274,1445.72 597.479,1445.72 597.479,870.717 495.274,870.717 \n",
       "  \"/>\n",
       "<path clip-path=\"url(#clip662)\" d=\"\n",
       "M597.479 1000.56 L597.479 1445.72 L699.683 1445.72 L699.683 1000.56 L597.479 1000.56 L597.479 1000.56  Z\n",
       "  \" fill=\"#009af9\" fill-rule=\"evenodd\" fill-opacity=\"1\"/>\n",
       "<polyline clip-path=\"url(#clip662)\" style=\"stroke:#000000; stroke-linecap:butt; stroke-linejoin:round; stroke-width:4; stroke-opacity:1; fill:none\" points=\"\n",
       "  597.479,1000.56 597.479,1445.72 699.683,1445.72 699.683,1000.56 597.479,1000.56 \n",
       "  \"/>\n",
       "<path clip-path=\"url(#clip662)\" d=\"\n",
       "M699.683 1171.2 L699.683 1445.72 L801.887 1445.72 L801.887 1171.2 L699.683 1171.2 L699.683 1171.2  Z\n",
       "  \" fill=\"#009af9\" fill-rule=\"evenodd\" fill-opacity=\"1\"/>\n",
       "<polyline clip-path=\"url(#clip662)\" style=\"stroke:#000000; stroke-linecap:butt; stroke-linejoin:round; stroke-width:4; stroke-opacity:1; fill:none\" points=\"\n",
       "  699.683,1171.2 699.683,1445.72 801.887,1445.72 801.887,1171.2 699.683,1171.2 \n",
       "  \"/>\n",
       "<path clip-path=\"url(#clip662)\" d=\"\n",
       "M801.887 1230.55 L801.887 1445.72 L904.092 1445.72 L904.092 1230.55 L801.887 1230.55 L801.887 1230.55  Z\n",
       "  \" fill=\"#009af9\" fill-rule=\"evenodd\" fill-opacity=\"1\"/>\n",
       "<polyline clip-path=\"url(#clip662)\" style=\"stroke:#000000; stroke-linecap:butt; stroke-linejoin:round; stroke-width:4; stroke-opacity:1; fill:none\" points=\"\n",
       "  801.887,1230.55 801.887,1445.72 904.092,1445.72 904.092,1230.55 801.887,1230.55 \n",
       "  \"/>\n",
       "<path clip-path=\"url(#clip662)\" d=\"\n",
       "M904.092 1267.65 L904.092 1445.72 L1006.3 1445.72 L1006.3 1267.65 L904.092 1267.65 L904.092 1267.65  Z\n",
       "  \" fill=\"#009af9\" fill-rule=\"evenodd\" fill-opacity=\"1\"/>\n",
       "<polyline clip-path=\"url(#clip662)\" style=\"stroke:#000000; stroke-linecap:butt; stroke-linejoin:round; stroke-width:4; stroke-opacity:1; fill:none\" points=\"\n",
       "  904.092,1267.65 904.092,1445.72 1006.3,1445.72 1006.3,1267.65 904.092,1267.65 \n",
       "  \"/>\n",
       "<path clip-path=\"url(#clip662)\" d=\"\n",
       "M1006.3 1293.62 L1006.3 1445.72 L1108.5 1445.72 L1108.5 1293.62 L1006.3 1293.62 L1006.3 1293.62  Z\n",
       "  \" fill=\"#009af9\" fill-rule=\"evenodd\" fill-opacity=\"1\"/>\n",
       "<polyline clip-path=\"url(#clip662)\" style=\"stroke:#000000; stroke-linecap:butt; stroke-linejoin:round; stroke-width:4; stroke-opacity:1; fill:none\" points=\"\n",
       "  1006.3,1293.62 1006.3,1445.72 1108.5,1445.72 1108.5,1293.62 1006.3,1293.62 \n",
       "  \"/>\n",
       "<path clip-path=\"url(#clip662)\" d=\"\n",
       "M1108.5 1304.75 L1108.5 1445.72 L1210.7 1445.72 L1210.7 1304.75 L1108.5 1304.75 L1108.5 1304.75  Z\n",
       "  \" fill=\"#009af9\" fill-rule=\"evenodd\" fill-opacity=\"1\"/>\n",
       "<polyline clip-path=\"url(#clip662)\" style=\"stroke:#000000; stroke-linecap:butt; stroke-linejoin:round; stroke-width:4; stroke-opacity:1; fill:none\" points=\"\n",
       "  1108.5,1304.75 1108.5,1445.72 1210.7,1445.72 1210.7,1304.75 1108.5,1304.75 \n",
       "  \"/>\n",
       "<path clip-path=\"url(#clip662)\" d=\"\n",
       "M1210.7 1330.72 L1210.7 1445.72 L1312.91 1445.72 L1312.91 1330.72 L1210.7 1330.72 L1210.7 1330.72  Z\n",
       "  \" fill=\"#009af9\" fill-rule=\"evenodd\" fill-opacity=\"1\"/>\n",
       "<polyline clip-path=\"url(#clip662)\" style=\"stroke:#000000; stroke-linecap:butt; stroke-linejoin:round; stroke-width:4; stroke-opacity:1; fill:none\" points=\"\n",
       "  1210.7,1330.72 1210.7,1445.72 1312.91,1445.72 1312.91,1330.72 1210.7,1330.72 \n",
       "  \"/>\n",
       "<path clip-path=\"url(#clip662)\" d=\"\n",
       "M1312.91 1416.04 L1312.91 1445.72 L1415.11 1445.72 L1415.11 1416.04 L1312.91 1416.04 L1312.91 1416.04  Z\n",
       "  \" fill=\"#009af9\" fill-rule=\"evenodd\" fill-opacity=\"1\"/>\n",
       "<polyline clip-path=\"url(#clip662)\" style=\"stroke:#000000; stroke-linecap:butt; stroke-linejoin:round; stroke-width:4; stroke-opacity:1; fill:none\" points=\"\n",
       "  1312.91,1416.04 1312.91,1445.72 1415.11,1445.72 1415.11,1416.04 1312.91,1416.04 \n",
       "  \"/>\n",
       "<path clip-path=\"url(#clip662)\" d=\"\n",
       "M1415.11 1430.88 L1415.11 1445.72 L1517.32 1445.72 L1517.32 1430.88 L1415.11 1430.88 L1415.11 1430.88  Z\n",
       "  \" fill=\"#009af9\" fill-rule=\"evenodd\" fill-opacity=\"1\"/>\n",
       "<polyline clip-path=\"url(#clip662)\" style=\"stroke:#000000; stroke-linecap:butt; stroke-linejoin:round; stroke-width:4; stroke-opacity:1; fill:none\" points=\"\n",
       "  1415.11,1430.88 1415.11,1445.72 1517.32,1445.72 1517.32,1430.88 1415.11,1430.88 \n",
       "  \"/>\n",
       "<path clip-path=\"url(#clip662)\" d=\"\n",
       "M1517.32 1404.91 L1517.32 1445.72 L1619.52 1445.72 L1619.52 1404.91 L1517.32 1404.91 L1517.32 1404.91  Z\n",
       "  \" fill=\"#009af9\" fill-rule=\"evenodd\" fill-opacity=\"1\"/>\n",
       "<polyline clip-path=\"url(#clip662)\" style=\"stroke:#000000; stroke-linecap:butt; stroke-linejoin:round; stroke-width:4; stroke-opacity:1; fill:none\" points=\"\n",
       "  1517.32,1404.91 1517.32,1445.72 1619.52,1445.72 1619.52,1404.91 1517.32,1404.91 \n",
       "  \"/>\n",
       "<path clip-path=\"url(#clip662)\" d=\"\n",
       "M1619.52 1427.17 L1619.52 1445.72 L1721.73 1445.72 L1721.73 1427.17 L1619.52 1427.17 L1619.52 1427.17  Z\n",
       "  \" fill=\"#009af9\" fill-rule=\"evenodd\" fill-opacity=\"1\"/>\n",
       "<polyline clip-path=\"url(#clip662)\" style=\"stroke:#000000; stroke-linecap:butt; stroke-linejoin:round; stroke-width:4; stroke-opacity:1; fill:none\" points=\"\n",
       "  1619.52,1427.17 1619.52,1445.72 1721.73,1445.72 1721.73,1427.17 1619.52,1427.17 \n",
       "  \"/>\n",
       "<path clip-path=\"url(#clip662)\" d=\"\n",
       "M1721.73 1419.75 L1721.73 1445.72 L1823.93 1445.72 L1823.93 1419.75 L1721.73 1419.75 L1721.73 1419.75  Z\n",
       "  \" fill=\"#009af9\" fill-rule=\"evenodd\" fill-opacity=\"1\"/>\n",
       "<polyline clip-path=\"url(#clip662)\" style=\"stroke:#000000; stroke-linecap:butt; stroke-linejoin:round; stroke-width:4; stroke-opacity:1; fill:none\" points=\"\n",
       "  1721.73,1419.75 1721.73,1445.72 1823.93,1445.72 1823.93,1419.75 1721.73,1419.75 \n",
       "  \"/>\n",
       "<path clip-path=\"url(#clip662)\" d=\"\n",
       "M1823.93 1434.59 L1823.93 1445.72 L1926.13 1445.72 L1926.13 1434.59 L1823.93 1434.59 L1823.93 1434.59  Z\n",
       "  \" fill=\"#009af9\" fill-rule=\"evenodd\" fill-opacity=\"1\"/>\n",
       "<polyline clip-path=\"url(#clip662)\" style=\"stroke:#000000; stroke-linecap:butt; stroke-linejoin:round; stroke-width:4; stroke-opacity:1; fill:none\" points=\"\n",
       "  1823.93,1434.59 1823.93,1445.72 1926.13,1445.72 1926.13,1434.59 1823.93,1434.59 \n",
       "  \"/>\n",
       "<path clip-path=\"url(#clip662)\" d=\"\n",
       "M1926.13 1434.59 L1926.13 1445.72 L2028.34 1445.72 L2028.34 1434.59 L1926.13 1434.59 L1926.13 1434.59  Z\n",
       "  \" fill=\"#009af9\" fill-rule=\"evenodd\" fill-opacity=\"1\"/>\n",
       "<polyline clip-path=\"url(#clip662)\" style=\"stroke:#000000; stroke-linecap:butt; stroke-linejoin:round; stroke-width:4; stroke-opacity:1; fill:none\" points=\"\n",
       "  1926.13,1434.59 1926.13,1445.72 2028.34,1445.72 2028.34,1434.59 1926.13,1434.59 \n",
       "  \"/>\n",
       "<path clip-path=\"url(#clip662)\" d=\"\n",
       "M2028.34 1442.01 L2028.34 1445.72 L2130.54 1445.72 L2130.54 1442.01 L2028.34 1442.01 L2028.34 1442.01  Z\n",
       "  \" fill=\"#009af9\" fill-rule=\"evenodd\" fill-opacity=\"1\"/>\n",
       "<polyline clip-path=\"url(#clip662)\" style=\"stroke:#000000; stroke-linecap:butt; stroke-linejoin:round; stroke-width:4; stroke-opacity:1; fill:none\" points=\"\n",
       "  2028.34,1442.01 2028.34,1445.72 2130.54,1445.72 2130.54,1442.01 2028.34,1442.01 \n",
       "  \"/>\n",
       "<path clip-path=\"url(#clip662)\" d=\"\n",
       "M2130.54 1438.3 L2130.54 1445.72 L2232.75 1445.72 L2232.75 1438.3 L2130.54 1438.3 L2130.54 1438.3  Z\n",
       "  \" fill=\"#009af9\" fill-rule=\"evenodd\" fill-opacity=\"1\"/>\n",
       "<polyline clip-path=\"url(#clip662)\" style=\"stroke:#000000; stroke-linecap:butt; stroke-linejoin:round; stroke-width:4; stroke-opacity:1; fill:none\" points=\"\n",
       "  2130.54,1438.3 2130.54,1445.72 2232.75,1445.72 2232.75,1438.3 2130.54,1438.3 \n",
       "  \"/>\n",
       "<circle clip-path=\"url(#clip662)\" style=\"fill:#009af9; stroke:none; fill-opacity:0\" cx=\"341.968\" cy=\"87.9763\" r=\"2\"/>\n",
       "<circle clip-path=\"url(#clip662)\" style=\"fill:#009af9; stroke:none; fill-opacity:0\" cx=\"444.172\" cy=\"733.459\" r=\"2\"/>\n",
       "<circle clip-path=\"url(#clip662)\" style=\"fill:#009af9; stroke:none; fill-opacity:0\" cx=\"546.376\" cy=\"870.717\" r=\"2\"/>\n",
       "<circle clip-path=\"url(#clip662)\" style=\"fill:#009af9; stroke:none; fill-opacity:0\" cx=\"648.581\" cy=\"1000.56\" r=\"2\"/>\n",
       "<circle clip-path=\"url(#clip662)\" style=\"fill:#009af9; stroke:none; fill-opacity:0\" cx=\"750.785\" cy=\"1171.2\" r=\"2\"/>\n",
       "<circle clip-path=\"url(#clip662)\" style=\"fill:#009af9; stroke:none; fill-opacity:0\" cx=\"852.989\" cy=\"1230.55\" r=\"2\"/>\n",
       "<circle clip-path=\"url(#clip662)\" style=\"fill:#009af9; stroke:none; fill-opacity:0\" cx=\"955.194\" cy=\"1267.65\" r=\"2\"/>\n",
       "<circle clip-path=\"url(#clip662)\" style=\"fill:#009af9; stroke:none; fill-opacity:0\" cx=\"1057.4\" cy=\"1293.62\" r=\"2\"/>\n",
       "<circle clip-path=\"url(#clip662)\" style=\"fill:#009af9; stroke:none; fill-opacity:0\" cx=\"1159.6\" cy=\"1304.75\" r=\"2\"/>\n",
       "<circle clip-path=\"url(#clip662)\" style=\"fill:#009af9; stroke:none; fill-opacity:0\" cx=\"1261.81\" cy=\"1330.72\" r=\"2\"/>\n",
       "<circle clip-path=\"url(#clip662)\" style=\"fill:#009af9; stroke:none; fill-opacity:0\" cx=\"1364.01\" cy=\"1416.04\" r=\"2\"/>\n",
       "<circle clip-path=\"url(#clip662)\" style=\"fill:#009af9; stroke:none; fill-opacity:0\" cx=\"1466.22\" cy=\"1430.88\" r=\"2\"/>\n",
       "<circle clip-path=\"url(#clip662)\" style=\"fill:#009af9; stroke:none; fill-opacity:0\" cx=\"1568.42\" cy=\"1404.91\" r=\"2\"/>\n",
       "<circle clip-path=\"url(#clip662)\" style=\"fill:#009af9; stroke:none; fill-opacity:0\" cx=\"1670.62\" cy=\"1427.17\" r=\"2\"/>\n",
       "<circle clip-path=\"url(#clip662)\" style=\"fill:#009af9; stroke:none; fill-opacity:0\" cx=\"1772.83\" cy=\"1419.75\" r=\"2\"/>\n",
       "<circle clip-path=\"url(#clip662)\" style=\"fill:#009af9; stroke:none; fill-opacity:0\" cx=\"1875.03\" cy=\"1434.59\" r=\"2\"/>\n",
       "<circle clip-path=\"url(#clip662)\" style=\"fill:#009af9; stroke:none; fill-opacity:0\" cx=\"1977.24\" cy=\"1434.59\" r=\"2\"/>\n",
       "<circle clip-path=\"url(#clip662)\" style=\"fill:#009af9; stroke:none; fill-opacity:0\" cx=\"2079.44\" cy=\"1442.01\" r=\"2\"/>\n",
       "<circle clip-path=\"url(#clip662)\" style=\"fill:#009af9; stroke:none; fill-opacity:0\" cx=\"2181.65\" cy=\"1438.3\" r=\"2\"/>\n",
       "<path clip-path=\"url(#clip660)\" d=\"\n",
       "M1985.16 198.898 L2280.03 198.898 L2280.03 95.2176 L1985.16 95.2176  Z\n",
       "  \" fill=\"#ffffff\" fill-rule=\"evenodd\" fill-opacity=\"1\"/>\n",
       "<polyline clip-path=\"url(#clip660)\" style=\"stroke:#000000; stroke-linecap:butt; stroke-linejoin:round; stroke-width:4; stroke-opacity:1; fill:none\" points=\"\n",
       "  1985.16,198.898 2280.03,198.898 2280.03,95.2176 1985.16,95.2176 1985.16,198.898 \n",
       "  \"/>\n",
       "<path clip-path=\"url(#clip660)\" d=\"\n",
       "M2009.41 167.794 L2154.87 167.794 L2154.87 126.322 L2009.41 126.322 L2009.41 167.794  Z\n",
       "  \" fill=\"#009af9\" fill-rule=\"evenodd\" fill-opacity=\"1\"/>\n",
       "<polyline clip-path=\"url(#clip660)\" style=\"stroke:#000000; stroke-linecap:butt; stroke-linejoin:round; stroke-width:4; stroke-opacity:1; fill:none\" points=\"\n",
       "  2009.41,167.794 2154.87,167.794 2154.87,126.322 2009.41,126.322 2009.41,167.794 \n",
       "  \"/>\n",
       "<path clip-path=\"url(#clip660)\" d=\"M2192.95 166.745 Q2191.15 171.375 2189.43 172.787 Q2187.72 174.199 2184.85 174.199 L2181.45 174.199 L2181.45 170.634 L2183.95 170.634 Q2185.71 170.634 2186.68 169.8 Q2187.65 168.967 2188.83 165.865 L2189.6 163.921 L2179.11 138.412 L2183.62 138.412 L2191.72 158.689 L2199.83 138.412 L2204.34 138.412 L2192.95 166.745 Z\" fill=\"#000000\" fill-rule=\"evenodd\" fill-opacity=\"1\" /><path clip-path=\"url(#clip660)\" d=\"M2211.63 160.402 L2219.27 160.402 L2219.27 134.037 L2210.96 135.703 L2210.96 131.444 L2219.22 129.778 L2223.9 129.778 L2223.9 160.402 L2231.54 160.402 L2231.54 164.338 L2211.63 164.338 L2211.63 160.402 Z\" fill=\"#000000\" fill-rule=\"evenodd\" fill-opacity=\"1\" /></svg>\n"
      ]
     },
     "metadata": {},
     "output_type": "display_data"
    }
   ],
   "source": [
    "histogram(w6[!, :Depression_adj_confound])"
   ]
  },
  {
   "cell_type": "code",
   "execution_count": 297,
   "metadata": {},
   "outputs": [
    {
     "data": {
      "text/plain": [
       "StatsModels.TableRegressionModel{LinearModel{GLM.LmResp{Vector{Float64}}, GLM.DensePredChol{Float64, LinearAlgebra.CholeskyPivoted{Float64, Matrix{Float64}}}}, Matrix{Float64}}\n",
       "\n",
       "Depression_adj_confound ~ 1 + Gathering_Strictness_bin\n",
       "\n",
       "Coefficients:\n",
       "─────────────────────────────────────────────────────────────────────────────────────\n",
       "                             Coef.  Std. Error      t  Pr(>|t|)  Lower 95%  Upper 95%\n",
       "─────────────────────────────────────────────────────────────────────────────────────\n",
       "(Intercept)                68.8397     2.35497  29.23    <1e-99    64.2192   73.4601\n",
       "Gathering_Strictness_bin  -17.5278     3.95386  -4.43    <1e-04   -25.2853   -9.77035\n",
       "─────────────────────────────────────────────────────────────────────────────────────"
      ]
     },
     "metadata": {},
     "output_type": "display_data"
    }
   ],
   "source": [
    "lm(@formula(Depression_adj_confound ~ Gathering_Strictness_bin), w6)"
   ]
  },
  {
   "cell_type": "code",
   "execution_count": null,
   "metadata": {},
   "outputs": [],
   "source": []
  },
  {
   "cell_type": "code",
   "execution_count": null,
   "metadata": {},
   "outputs": [],
   "source": []
  },
  {
   "cell_type": "code",
   "execution_count": 254,
   "metadata": {},
   "outputs": [
    {
     "data": {
      "text/html": [
       "<div class=\"data-frame\"><p>1,797 rows × 22 columns (omitted printing of 7 columns)</p><table class=\"data-frame\"><thead><tr><th></th><th>PROLIFIC_PID</th><th>Gender</th><th>Education</th><th>Income</th><th>Political_Views</th><th>Age</th><th>Depression</th><th>Stress</th><th>Anxiety</th><th>Fear_COVID</th><th>Emotional_Support</th><th>Loneliness</th><th>slope_new_cases</th><th>slope_new_deaths</th><th>GatheringStrictness</th></tr><tr><th></th><th title=\"String31\">String31</th><th title=\"Float64\">Float64</th><th title=\"Float64\">Float64</th><th title=\"Float64\">Float64</th><th title=\"Float64\">Float64</th><th title=\"Float64\">Float64</th><th title=\"Missing\">Missing</th><th title=\"Missing\">Missing</th><th title=\"Int64\">Int64</th><th title=\"Float64\">Float64</th><th title=\"Float64\">Float64</th><th title=\"Float64\">Float64</th><th title=\"Float64\">Float64</th><th title=\"Float64\">Float64</th><th title=\"Float64\">Float64</th></tr></thead><tbody><tr><th>1</th><td>5df82e8739bcde5dd044f741</td><td>1.0</td><td>3.0</td><td>1.0</td><td>4.0</td><td>32.0</td><td><em>missing</em></td><td><em>missing</em></td><td>42</td><td>8.0</td><td>16.0</td><td>25.0</td><td>82.2857</td><td>3.28571</td><td>1.0</td></tr><tr><th>2</th><td>5c7e91c1973c990016ea72b0</td><td>2.0</td><td>5.0</td><td>3.0</td><td>1.0</td><td>55.0</td><td><em>missing</em></td><td><em>missing</em></td><td>69</td><td>24.0</td><td>30.0</td><td>10.0</td><td>82.2857</td><td>3.28571</td><td>1.0</td></tr><tr><th>3</th><td>5e67052c757e6149c38ce468</td><td>1.0</td><td>1.0</td><td>1.0</td><td>4.0</td><td>23.0</td><td><em>missing</em></td><td><em>missing</em></td><td>57</td><td>18.0</td><td>14.0</td><td>25.0</td><td>82.2857</td><td>3.28571</td><td>1.0</td></tr><tr><th>4</th><td>5d89106d1719af0001ee23e5</td><td>2.0</td><td>2.0</td><td>1.0</td><td>6.0</td><td>47.0</td><td><em>missing</em></td><td><em>missing</em></td><td>27</td><td>8.0</td><td>40.0</td><td>5.0</td><td>82.2857</td><td>3.28571</td><td>1.0</td></tr><tr><th>5</th><td>5d6394518df2870001a74b42</td><td>2.0</td><td>2.0</td><td>1.0</td><td>1.0</td><td>23.0</td><td><em>missing</em></td><td><em>missing</em></td><td>42</td><td>23.0</td><td>40.0</td><td>16.0</td><td>82.2857</td><td>3.28571</td><td>1.0</td></tr><tr><th>6</th><td>5bdd368719b9ba000157fb12</td><td>2.0</td><td>3.0</td><td>4.0</td><td>4.0</td><td>28.0</td><td><em>missing</em></td><td><em>missing</em></td><td>29</td><td>10.0</td><td>40.0</td><td>5.0</td><td>82.2857</td><td>3.28571</td><td>1.0</td></tr><tr><th>7</th><td>5b68d45687af3100015849a9</td><td>2.0</td><td>9.0</td><td>4.0</td><td>1.0</td><td>58.0</td><td><em>missing</em></td><td><em>missing</em></td><td>24</td><td>11.0</td><td>40.0</td><td>6.0</td><td>82.2857</td><td>3.28571</td><td>1.0</td></tr><tr><th>8</th><td>5a8ce265000dab00018ce084</td><td>2.0</td><td>4.0</td><td>6.0</td><td>3.0</td><td>50.0</td><td><em>missing</em></td><td><em>missing</em></td><td>37</td><td>6.0</td><td>34.0</td><td>7.0</td><td>82.2857</td><td>3.28571</td><td>1.0</td></tr><tr><th>9</th><td>5c72efa770d5a200018028f1</td><td>1.0</td><td>5.0</td><td>2.0</td><td>3.0</td><td>71.0</td><td><em>missing</em></td><td><em>missing</em></td><td>27</td><td>9.0</td><td>39.0</td><td>5.0</td><td>82.2857</td><td>3.28571</td><td>1.0</td></tr><tr><th>10</th><td>5d378df21acda30001e7191e</td><td>1.0</td><td>3.0</td><td>2.0</td><td>5.0</td><td>19.0</td><td><em>missing</em></td><td><em>missing</em></td><td>44</td><td>18.0</td><td>10.0</td><td>13.0</td><td>82.2857</td><td>3.28571</td><td>1.0</td></tr><tr><th>11</th><td>5aea962d0ef2f20001858c9c</td><td>1.0</td><td>2.0</td><td>1.0</td><td>2.0</td><td>36.0</td><td><em>missing</em></td><td><em>missing</em></td><td>59</td><td>17.0</td><td>17.0</td><td>16.0</td><td>82.2857</td><td>3.28571</td><td>1.0</td></tr><tr><th>12</th><td>5e4b793f03c92a08a6d28e3f</td><td>1.0</td><td>2.0</td><td>7.0</td><td>4.0</td><td>21.0</td><td><em>missing</em></td><td><em>missing</em></td><td>42</td><td>4.0</td><td>18.0</td><td>11.0</td><td>82.2857</td><td>3.28571</td><td>1.0</td></tr><tr><th>13</th><td>5cbc071f2edc3b00018ab097</td><td>1.0</td><td>7.0</td><td>1.0</td><td>3.0</td><td>36.0</td><td><em>missing</em></td><td><em>missing</em></td><td>43</td><td>13.0</td><td>28.0</td><td>8.0</td><td>82.2857</td><td>3.28571</td><td>1.0</td></tr><tr><th>14</th><td>5c1b06d9a329230001ecc39c</td><td>1.0</td><td>2.0</td><td>1.0</td><td>2.0</td><td>25.0</td><td><em>missing</em></td><td><em>missing</em></td><td>42</td><td>10.0</td><td>18.0</td><td>8.0</td><td>82.2857</td><td>3.28571</td><td>1.0</td></tr><tr><th>15</th><td>5e576e085069e61204a85872</td><td>1.0</td><td>2.0</td><td>7.0</td><td>4.0</td><td>19.0</td><td><em>missing</em></td><td><em>missing</em></td><td>44</td><td>19.0</td><td>32.0</td><td>19.0</td><td>82.2857</td><td>3.28571</td><td>1.0</td></tr><tr><th>16</th><td>5dcf50f05686c1099819882a</td><td>1.0</td><td>6.0</td><td>3.0</td><td>1.0</td><td>66.0</td><td><em>missing</em></td><td><em>missing</em></td><td>41</td><td>19.0</td><td>32.0</td><td>17.0</td><td>82.2857</td><td>3.28571</td><td>1.0</td></tr><tr><th>17</th><td>5d3f5c8f0d0d29001a4bd973</td><td>1.0</td><td>2.0</td><td>1.0</td><td>6.0</td><td>19.0</td><td><em>missing</em></td><td><em>missing</em></td><td>36</td><td>16.0</td><td>24.0</td><td>14.0</td><td>82.2857</td><td>3.28571</td><td>1.0</td></tr><tr><th>18</th><td>5c9ac1ed2497d20001689f53</td><td>2.0</td><td>2.0</td><td>1.0</td><td>2.0</td><td>29.0</td><td><em>missing</em></td><td><em>missing</em></td><td>51</td><td>18.0</td><td>24.0</td><td>19.0</td><td>82.2857</td><td>3.28571</td><td>1.0</td></tr><tr><th>19</th><td>5d2d8b999c6703001525304f</td><td>1.0</td><td>2.0</td><td>1.0</td><td>7.0</td><td>25.0</td><td><em>missing</em></td><td><em>missing</em></td><td>47</td><td>12.0</td><td>8.0</td><td>25.0</td><td>82.2857</td><td>3.28571</td><td>1.0</td></tr><tr><th>20</th><td>5de8bc74553cee8280a7dd84</td><td>1.0</td><td>5.0</td><td>1.0</td><td>2.0</td><td>22.0</td><td><em>missing</em></td><td><em>missing</em></td><td>36</td><td>8.0</td><td>27.0</td><td>13.0</td><td>82.2857</td><td>3.28571</td><td>1.0</td></tr><tr><th>21</th><td>5dc208b532b0ad172977f774</td><td>2.0</td><td>3.0</td><td>1.0</td><td>5.0</td><td>19.0</td><td><em>missing</em></td><td><em>missing</em></td><td>40</td><td>18.0</td><td>31.0</td><td>10.0</td><td>82.2857</td><td>3.28571</td><td>1.0</td></tr><tr><th>22</th><td>5b6a87d2cda8590001db8e07</td><td>1.0</td><td>5.0</td><td>1.0</td><td>1.0</td><td>39.0</td><td><em>missing</em></td><td><em>missing</em></td><td>63</td><td>13.0</td><td>28.0</td><td>14.0</td><td>82.2857</td><td>3.28571</td><td>1.0</td></tr><tr><th>23</th><td>5e3dff6b8714b707b9a258b0</td><td>1.0</td><td>5.0</td><td>1.0</td><td>2.0</td><td>35.0</td><td><em>missing</em></td><td><em>missing</em></td><td>57</td><td>11.0</td><td>24.0</td><td>20.0</td><td>82.2857</td><td>3.28571</td><td>1.0</td></tr><tr><th>24</th><td>5b05e0d131cebe000177c38e</td><td>1.0</td><td>2.0</td><td>1.0</td><td>5.0</td><td>38.0</td><td><em>missing</em></td><td><em>missing</em></td><td>68</td><td>20.0</td><td>23.0</td><td>15.0</td><td>82.2857</td><td>3.28571</td><td>1.0</td></tr><tr><th>&vellip;</th><td>&vellip;</td><td>&vellip;</td><td>&vellip;</td><td>&vellip;</td><td>&vellip;</td><td>&vellip;</td><td>&vellip;</td><td>&vellip;</td><td>&vellip;</td><td>&vellip;</td><td>&vellip;</td><td>&vellip;</td><td>&vellip;</td><td>&vellip;</td><td>&vellip;</td></tr></tbody></table></div>"
      ],
      "text/latex": [
       "\\begin{tabular}{r|cccccccccccccccc}\n",
       "\t& PROLIFIC\\_PID & Gender & Education & Income & Political\\_Views & Age & Depression & Stress & Anxiety & Fear\\_COVID & Emotional\\_Support & Loneliness & slope\\_new\\_cases & slope\\_new\\_deaths & GatheringStrictness & \\\\\n",
       "\t\\hline\n",
       "\t& String31 & Float64 & Float64 & Float64 & Float64 & Float64 & Missing & Missing & Int64 & Float64 & Float64 & Float64 & Float64 & Float64 & Float64 & \\\\\n",
       "\t\\hline\n",
       "\t1 & 5df82e8739bcde5dd044f741 & 1.0 & 3.0 & 1.0 & 4.0 & 32.0 & \\emph{missing} & \\emph{missing} & 42 & 8.0 & 16.0 & 25.0 & 82.2857 & 3.28571 & 1.0 & $\\dots$ \\\\\n",
       "\t2 & 5c7e91c1973c990016ea72b0 & 2.0 & 5.0 & 3.0 & 1.0 & 55.0 & \\emph{missing} & \\emph{missing} & 69 & 24.0 & 30.0 & 10.0 & 82.2857 & 3.28571 & 1.0 & $\\dots$ \\\\\n",
       "\t3 & 5e67052c757e6149c38ce468 & 1.0 & 1.0 & 1.0 & 4.0 & 23.0 & \\emph{missing} & \\emph{missing} & 57 & 18.0 & 14.0 & 25.0 & 82.2857 & 3.28571 & 1.0 & $\\dots$ \\\\\n",
       "\t4 & 5d89106d1719af0001ee23e5 & 2.0 & 2.0 & 1.0 & 6.0 & 47.0 & \\emph{missing} & \\emph{missing} & 27 & 8.0 & 40.0 & 5.0 & 82.2857 & 3.28571 & 1.0 & $\\dots$ \\\\\n",
       "\t5 & 5d6394518df2870001a74b42 & 2.0 & 2.0 & 1.0 & 1.0 & 23.0 & \\emph{missing} & \\emph{missing} & 42 & 23.0 & 40.0 & 16.0 & 82.2857 & 3.28571 & 1.0 & $\\dots$ \\\\\n",
       "\t6 & 5bdd368719b9ba000157fb12 & 2.0 & 3.0 & 4.0 & 4.0 & 28.0 & \\emph{missing} & \\emph{missing} & 29 & 10.0 & 40.0 & 5.0 & 82.2857 & 3.28571 & 1.0 & $\\dots$ \\\\\n",
       "\t7 & 5b68d45687af3100015849a9 & 2.0 & 9.0 & 4.0 & 1.0 & 58.0 & \\emph{missing} & \\emph{missing} & 24 & 11.0 & 40.0 & 6.0 & 82.2857 & 3.28571 & 1.0 & $\\dots$ \\\\\n",
       "\t8 & 5a8ce265000dab00018ce084 & 2.0 & 4.0 & 6.0 & 3.0 & 50.0 & \\emph{missing} & \\emph{missing} & 37 & 6.0 & 34.0 & 7.0 & 82.2857 & 3.28571 & 1.0 & $\\dots$ \\\\\n",
       "\t9 & 5c72efa770d5a200018028f1 & 1.0 & 5.0 & 2.0 & 3.0 & 71.0 & \\emph{missing} & \\emph{missing} & 27 & 9.0 & 39.0 & 5.0 & 82.2857 & 3.28571 & 1.0 & $\\dots$ \\\\\n",
       "\t10 & 5d378df21acda30001e7191e & 1.0 & 3.0 & 2.0 & 5.0 & 19.0 & \\emph{missing} & \\emph{missing} & 44 & 18.0 & 10.0 & 13.0 & 82.2857 & 3.28571 & 1.0 & $\\dots$ \\\\\n",
       "\t11 & 5aea962d0ef2f20001858c9c & 1.0 & 2.0 & 1.0 & 2.0 & 36.0 & \\emph{missing} & \\emph{missing} & 59 & 17.0 & 17.0 & 16.0 & 82.2857 & 3.28571 & 1.0 & $\\dots$ \\\\\n",
       "\t12 & 5e4b793f03c92a08a6d28e3f & 1.0 & 2.0 & 7.0 & 4.0 & 21.0 & \\emph{missing} & \\emph{missing} & 42 & 4.0 & 18.0 & 11.0 & 82.2857 & 3.28571 & 1.0 & $\\dots$ \\\\\n",
       "\t13 & 5cbc071f2edc3b00018ab097 & 1.0 & 7.0 & 1.0 & 3.0 & 36.0 & \\emph{missing} & \\emph{missing} & 43 & 13.0 & 28.0 & 8.0 & 82.2857 & 3.28571 & 1.0 & $\\dots$ \\\\\n",
       "\t14 & 5c1b06d9a329230001ecc39c & 1.0 & 2.0 & 1.0 & 2.0 & 25.0 & \\emph{missing} & \\emph{missing} & 42 & 10.0 & 18.0 & 8.0 & 82.2857 & 3.28571 & 1.0 & $\\dots$ \\\\\n",
       "\t15 & 5e576e085069e61204a85872 & 1.0 & 2.0 & 7.0 & 4.0 & 19.0 & \\emph{missing} & \\emph{missing} & 44 & 19.0 & 32.0 & 19.0 & 82.2857 & 3.28571 & 1.0 & $\\dots$ \\\\\n",
       "\t16 & 5dcf50f05686c1099819882a & 1.0 & 6.0 & 3.0 & 1.0 & 66.0 & \\emph{missing} & \\emph{missing} & 41 & 19.0 & 32.0 & 17.0 & 82.2857 & 3.28571 & 1.0 & $\\dots$ \\\\\n",
       "\t17 & 5d3f5c8f0d0d29001a4bd973 & 1.0 & 2.0 & 1.0 & 6.0 & 19.0 & \\emph{missing} & \\emph{missing} & 36 & 16.0 & 24.0 & 14.0 & 82.2857 & 3.28571 & 1.0 & $\\dots$ \\\\\n",
       "\t18 & 5c9ac1ed2497d20001689f53 & 2.0 & 2.0 & 1.0 & 2.0 & 29.0 & \\emph{missing} & \\emph{missing} & 51 & 18.0 & 24.0 & 19.0 & 82.2857 & 3.28571 & 1.0 & $\\dots$ \\\\\n",
       "\t19 & 5d2d8b999c6703001525304f & 1.0 & 2.0 & 1.0 & 7.0 & 25.0 & \\emph{missing} & \\emph{missing} & 47 & 12.0 & 8.0 & 25.0 & 82.2857 & 3.28571 & 1.0 & $\\dots$ \\\\\n",
       "\t20 & 5de8bc74553cee8280a7dd84 & 1.0 & 5.0 & 1.0 & 2.0 & 22.0 & \\emph{missing} & \\emph{missing} & 36 & 8.0 & 27.0 & 13.0 & 82.2857 & 3.28571 & 1.0 & $\\dots$ \\\\\n",
       "\t21 & 5dc208b532b0ad172977f774 & 2.0 & 3.0 & 1.0 & 5.0 & 19.0 & \\emph{missing} & \\emph{missing} & 40 & 18.0 & 31.0 & 10.0 & 82.2857 & 3.28571 & 1.0 & $\\dots$ \\\\\n",
       "\t22 & 5b6a87d2cda8590001db8e07 & 1.0 & 5.0 & 1.0 & 1.0 & 39.0 & \\emph{missing} & \\emph{missing} & 63 & 13.0 & 28.0 & 14.0 & 82.2857 & 3.28571 & 1.0 & $\\dots$ \\\\\n",
       "\t23 & 5e3dff6b8714b707b9a258b0 & 1.0 & 5.0 & 1.0 & 2.0 & 35.0 & \\emph{missing} & \\emph{missing} & 57 & 11.0 & 24.0 & 20.0 & 82.2857 & 3.28571 & 1.0 & $\\dots$ \\\\\n",
       "\t24 & 5b05e0d131cebe000177c38e & 1.0 & 2.0 & 1.0 & 5.0 & 38.0 & \\emph{missing} & \\emph{missing} & 68 & 20.0 & 23.0 & 15.0 & 82.2857 & 3.28571 & 1.0 & $\\dots$ \\\\\n",
       "\t$\\dots$ & $\\dots$ & $\\dots$ & $\\dots$ & $\\dots$ & $\\dots$ & $\\dots$ & $\\dots$ & $\\dots$ & $\\dots$ & $\\dots$ & $\\dots$ & $\\dots$ & $\\dots$ & $\\dots$ & $\\dots$ &  \\\\\n",
       "\\end{tabular}\n"
      ],
      "text/plain": [
       "\u001b[1m1797×22 DataFrame\u001b[0m\n",
       "\u001b[1m  Row \u001b[0m│\u001b[1m PROLIFIC_PID             \u001b[0m\u001b[1m Gender  \u001b[0m\u001b[1m Education \u001b[0m\u001b[1m Income  \u001b[0m\u001b[1m Political_Views \u001b[0m\u001b[1m Age     \u001b[0m\u001b[1m Depression \u001b[0m\u001b[1m Stress  \u001b[0m\u001b[1m Anxiety \u001b[0m\u001b[1m Fear_COVID \u001b[0m\u001b[1m Emotional_Support \u001b[0m\u001b[1m Loneliness \u001b[0m\u001b[1m slope_new_cases \u001b[0m\u001b[1m slope_new_deaths \u001b[0m\u001b[1m G\u001b[0m ⋯\n",
       "\u001b[1m      \u001b[0m│\u001b[90m String31                 \u001b[0m\u001b[90m Float64 \u001b[0m\u001b[90m Float64   \u001b[0m\u001b[90m Float64 \u001b[0m\u001b[90m Float64         \u001b[0m\u001b[90m Float64 \u001b[0m\u001b[90m Missing    \u001b[0m\u001b[90m Missing \u001b[0m\u001b[90m Int64   \u001b[0m\u001b[90m Float64    \u001b[0m\u001b[90m Float64           \u001b[0m\u001b[90m Float64    \u001b[0m\u001b[90m Float64         \u001b[0m\u001b[90m Float64          \u001b[0m\u001b[90m F\u001b[0m ⋯\n",
       "──────┼─────────────────────────────────────────────────────────────────────────────────────────────────────────────────────────────────────────────────────────────────────────────────────────────────\n",
       "    1 │ 5df82e8739bcde5dd044f741      1.0        3.0      1.0              4.0     32.0 \u001b[90m    missing \u001b[0m\u001b[90m missing \u001b[0m      42         8.0               16.0        25.0        82.2857            3.28571     ⋯\n",
       "    2 │ 5c7e91c1973c990016ea72b0      2.0        5.0      3.0              1.0     55.0 \u001b[90m    missing \u001b[0m\u001b[90m missing \u001b[0m      69        24.0               30.0        10.0        82.2857            3.28571\n",
       "    3 │ 5e67052c757e6149c38ce468      1.0        1.0      1.0              4.0     23.0 \u001b[90m    missing \u001b[0m\u001b[90m missing \u001b[0m      57        18.0               14.0        25.0        82.2857            3.28571\n",
       "    4 │ 5d89106d1719af0001ee23e5      2.0        2.0      1.0              6.0     47.0 \u001b[90m    missing \u001b[0m\u001b[90m missing \u001b[0m      27         8.0               40.0         5.0        82.2857            3.28571\n",
       "    5 │ 5d6394518df2870001a74b42      2.0        2.0      1.0              1.0     23.0 \u001b[90m    missing \u001b[0m\u001b[90m missing \u001b[0m      42        23.0               40.0        16.0        82.2857            3.28571     ⋯\n",
       "    6 │ 5bdd368719b9ba000157fb12      2.0        3.0      4.0              4.0     28.0 \u001b[90m    missing \u001b[0m\u001b[90m missing \u001b[0m      29        10.0               40.0         5.0        82.2857            3.28571\n",
       "    7 │ 5b68d45687af3100015849a9      2.0        9.0      4.0              1.0     58.0 \u001b[90m    missing \u001b[0m\u001b[90m missing \u001b[0m      24        11.0               40.0         6.0        82.2857            3.28571\n",
       "    8 │ 5a8ce265000dab00018ce084      2.0        4.0      6.0              3.0     50.0 \u001b[90m    missing \u001b[0m\u001b[90m missing \u001b[0m      37         6.0               34.0         7.0        82.2857            3.28571\n",
       "  ⋮   │            ⋮                 ⋮         ⋮         ⋮            ⋮            ⋮         ⋮          ⋮        ⋮         ⋮               ⋮              ⋮              ⋮                ⋮            ⋱\n",
       " 1791 │ 5cad4750f4115800176d506e      2.0        4.0      3.0              3.0     40.0 \u001b[90m    missing \u001b[0m\u001b[90m missing \u001b[0m      49        15.0               24.0        12.0         6.42857           0.142857    ⋯\n",
       " 1792 │ 5be8846293ca1f00014db03c      2.0        5.0      3.0              5.0     53.0 \u001b[90m    missing \u001b[0m\u001b[90m missing \u001b[0m      34        13.0               30.0        15.0         6.42857           0.142857\n",
       " 1793 │ 5dbd1569f8223b28d73ed6ae      2.0        3.0      1.0              2.0     65.0 \u001b[90m    missing \u001b[0m\u001b[90m missing \u001b[0m      32        11.0               32.0        10.0         6.42857           0.142857\n",
       " 1794 │ 5e217a34e8ff3a469b5dfebc      2.0        3.0      5.0              4.0     22.0 \u001b[90m    missing \u001b[0m\u001b[90m missing \u001b[0m      46        28.0               25.0        15.0         6.42857           0.142857\n",
       " 1795 │ 5d63867550d0dd0017805976      1.0        3.0      3.0              1.0     36.0 \u001b[90m    missing \u001b[0m\u001b[90m missing \u001b[0m      45        18.0               34.0        11.0        -1.71429           0.0         ⋯\n",
       " 1796 │ 5e6155e6f169c0046b6d6518      1.0        7.0      2.0              3.0     28.0 \u001b[90m    missing \u001b[0m\u001b[90m missing \u001b[0m      47         6.0               40.0        10.0         1.57143           0.0\n",
       " 1797 │ 58cefdb030c4cf0001ceb3ac      2.0        5.0      1.0              2.0     64.0 \u001b[90m    missing \u001b[0m\u001b[90m missing \u001b[0m      28        18.0               40.0         5.0         2.14286           0.0\n",
       "\u001b[36m                                                                                                                                                                         8 columns and 1782 rows omitted\u001b[0m"
      ]
     },
     "metadata": {},
     "output_type": "display_data"
    }
   ],
   "source": [
    "ENV[\"COLUMNS\"] = 200\n",
    "w6 = CSV.read(\"data/w6.csv\", DataFrame)\n",
    "w1 = CSV.read(\"data/w1.csv\", DataFrame)"
   ]
  },
  {
   "cell_type": "code",
   "execution_count": null,
   "metadata": {},
   "outputs": [],
   "source": []
  },
  {
   "cell_type": "code",
   "execution_count": 255,
   "metadata": {},
   "outputs": [
    {
     "data": {
      "text/plain": [
       "\"Depression\""
      ]
     },
     "metadata": {},
     "output_type": "display_data"
    }
   ],
   "source": [
    "adjustments = [\"Income\", \"Gender\", \"Age\", \"Education\"]\n",
    "square_terms = [\"Income\", \"Age\", \"Education\"]\n",
    "treatment = \"low_quality\"\n",
    "target = \"Depression\""
   ]
  },
  {
   "cell_type": "code",
   "execution_count": 245,
   "metadata": {},
   "outputs": [
    {
     "data": {
      "text/plain": [
       "1178-element Vector{Int64}:\n",
       " 16\n",
       " 51\n",
       "  0\n",
       " 53\n",
       "  8\n",
       " 11\n",
       "  1\n",
       " 28\n",
       " 22\n",
       " 13\n",
       "  ⋮\n",
       " 12\n",
       "  9\n",
       " 16\n",
       "  5\n",
       "  5\n",
       " 21\n",
       " 21\n",
       "  4\n",
       "  0"
      ]
     },
     "metadata": {},
     "output_type": "display_data"
    }
   ],
   "source": [
    "w6[!, target]"
   ]
  },
  {
   "cell_type": "code",
   "execution_count": 251,
   "metadata": {},
   "outputs": [
    {
     "data": {
      "text/plain": [
       "1178-element Vector{Float64}:\n",
       " 15.999999996582389\n",
       "  1.0893635327136053e-8\n",
       "  0.0\n",
       "  1.1320836712513938e-8\n",
       "  1.7088055415115377e-9\n",
       "  2.3496076195783644e-9\n",
       "  2.1360069268894222e-10\n",
       "  5.980819395290382e-9\n",
       "  4.699215239156729e-9\n",
       "  2.776809004956249e-9\n",
       "  ⋮\n",
       "  2.5632083122673066e-9\n",
       "  1.92240623420048e-9\n",
       "  3.4176110830230755e-9\n",
       "  1.068003463444711e-9\n",
       "  1.068003463444711e-9\n",
       "  4.4856145464677866e-9\n",
       "  4.4856145464677866e-9\n",
       "  8.544027707557689e-10\n",
       "  0.0"
      ]
     },
     "metadata": {},
     "output_type": "display_data"
    }
   ],
   "source": [
    "new_w6 = ip_weighting(w6, adjustments, square_terms, treatment, target)"
   ]
  },
  {
   "cell_type": "code",
   "execution_count": 253,
   "metadata": {},
   "outputs": [
    {
     "data": {
      "text/plain": [
       "1178-element Vector{Float64}:\n",
       " 15.999999996582389\n",
       "  1.0893635327136053e-8\n",
       "  0.0\n",
       "  1.1320836712513938e-8\n",
       "  1.7088055415115377e-9\n",
       "  2.3496076195783644e-9\n",
       "  2.1360069268894222e-10\n",
       "  5.980819395290382e-9\n",
       "  4.699215239156729e-9\n",
       "  2.776809004956249e-9\n",
       "  ⋮\n",
       "  2.5632083122673066e-9\n",
       "  1.92240623420048e-9\n",
       "  3.4176110830230755e-9\n",
       "  1.068003463444711e-9\n",
       "  1.068003463444711e-9\n",
       "  4.4856145464677866e-9\n",
       "  4.4856145464677866e-9\n",
       "  8.544027707557689e-10\n",
       "  0.0"
      ]
     },
     "metadata": {},
     "output_type": "display_data"
    }
   ],
   "source": [
    "w6[!, :Depression_lq_weighted]"
   ]
  },
  {
   "cell_type": "code",
   "execution_count": 243,
   "metadata": {},
   "outputs": [
    {
     "data": {
      "text/plain": [
       "1178-element Vector{Int64}:\n",
       " 16\n",
       " 51\n",
       "  0\n",
       " 53\n",
       "  8\n",
       " 11\n",
       "  1\n",
       " 28\n",
       " 22\n",
       " 13\n",
       "  ⋮\n",
       " 12\n",
       "  9\n",
       " 16\n",
       "  5\n",
       "  5\n",
       " 21\n",
       " 21\n",
       "  4\n",
       "  0"
      ]
     },
     "metadata": {},
     "output_type": "display_data"
    }
   ],
   "source": [
    "w6[!, \"Depression\"]"
   ]
  },
  {
   "cell_type": "code",
   "execution_count": 164,
   "metadata": {},
   "outputs": [
    {
     "data": {
      "text/plain": [
       "FormulaTerm\n",
       "Response:\n",
       "  low_quality(unknown)\n",
       "Predictors:\n",
       "  Income(unknown)\n",
       "  Gender(unknown)\n",
       "  Age(unknown)\n",
       "  Education(unknown)\n",
       "  Income^2(unknown)\n",
       "  Gender^2(unknown)\n",
       "  Age^2(unknown)\n",
       "  Education^2(unknown)"
      ]
     },
     "metadata": {},
     "output_type": "display_data"
    }
   ],
   "source": [
    "f = Term(Symbol(treatment)) ~ sum(Term.(Symbol.(adjustments))) + sum(Term.(Symbol.(adjustments .* \"^2\")))"
   ]
  },
  {
   "cell_type": "code",
   "execution_count": 165,
   "metadata": {},
   "outputs": [
    {
     "ename": "ArgumentError",
     "evalue": "ArgumentError: There isn't a variable called 'Income^2' in your data; the nearest names appear to be: Income",
     "output_type": "error",
     "traceback": [
      "ArgumentError: There isn't a variable called 'Income^2' in your data; the nearest names appear to be: Income\n",
      "\n",
      "Stacktrace:\n",
      "  [1] ModelFrame(f::FormulaTerm{Term, NTuple{8, Term}}, data::NamedTuple{(:PROLIFIC_PID, :Gender, :Education, :Income, :Political_Views, :Age, :Depression, :Stress, :Anxiety, :Fear_COVID, :Emotional_Support, :Loneliness, :slope_new_cases, :slope_new_deaths, :GatheringStrictness, :Mandatory_business_closure, :Mandatory_PPE_masks, :more_than_1_attQ_failed, :string_outlier_core, :response_consistency, :wave, :RW1_8, :low_quality), Tuple{Vector{String31}, Vector{Float64}, Vector{Float64}, Vector{Float64}, Vector{Float64}, Vector{Float64}, Vector{Int64}, Vector{Int64}, Vector{Int64}, Vector{Float64}, Vector{Float64}, Vector{Float64}, Vector{Float64}, Vector{Float64}, Vector{Float64}, Vector{Float64}, Vector{Float64}, Vector{Bool}, Vector{Bool}, Vector{Bool}, Vector{Int64}, SentinelArrays.SentinelVector{Float64, Float64, Missing, Vector{Float64}}, BitVector}}; model::Type{GeneralizedLinearModel}, contrasts::Dict{Symbol, Any})\n",
      "    @ StatsModels C:\\Users\\andyl\\.julia\\packages\\StatsModels\\qY2YS\\src\\modelframe.jl:76\n",
      "  [2] fit(::Type{GeneralizedLinearModel}, ::FormulaTerm{Term, NTuple{8, Term}}, ::DataFrame, ::Binomial{Float64}, ::Vararg{Any, N} where N; contrasts::Dict{Symbol, Any}, kwargs::Base.Iterators.Pairs{Union{}, Union{}, Tuple{}, NamedTuple{(), Tuple{}}})\n",
      "    @ StatsModels C:\\Users\\andyl\\.julia\\packages\\StatsModels\\qY2YS\\src\\statsmodel.jl:85\n",
      "  [3] fit(::Type{GeneralizedLinearModel}, ::FormulaTerm{Term, NTuple{8, Term}}, ::DataFrame, ::Binomial{Float64}, ::ProbitLink)\n",
      "    @ StatsModels C:\\Users\\andyl\\.julia\\packages\\StatsModels\\qY2YS\\src\\statsmodel.jl:82\n",
      "  [4] glm(::FormulaTerm{Term, NTuple{8, Term}}, ::DataFrame, ::Binomial{Float64}, ::Vararg{Any, N} where N; kwargs::Base.Iterators.Pairs{Union{}, Union{}, Tuple{}, NamedTuple{(), Tuple{}}})\n",
      "    @ GLM C:\\Users\\andyl\\.julia\\packages\\GLM\\DgddX\\src\\glmfit.jl:508\n",
      "  [5] glm(::FormulaTerm{Term, NTuple{8, Term}}, ::DataFrame, ::Binomial{Float64}, ::Vararg{Any, N} where N)\n",
      "    @ GLM C:\\Users\\andyl\\.julia\\packages\\GLM\\DgddX\\src\\glmfit.jl:508\n",
      "  [6] top-level scope\n",
      "    @ d:\\julia\\Counterfactuals\\test\\freetests.ipynb:1\n",
      "  [7] eval\n",
      "    @ .\\boot.jl:360 [inlined]\n",
      "  [8] include_string(mapexpr::typeof(REPL.softscope), mod::Module, code::String, filename::String)\n",
      "    @ Base .\\loading.jl:1116\n",
      "  [9] #invokelatest#2\n",
      "    @ .\\essentials.jl:708 [inlined]\n",
      " [10] invokelatest\n",
      "    @ .\\essentials.jl:706 [inlined]\n",
      " [11] (::VSCodeServer.var\"#160#161\"{VSCodeServer.NotebookRunCellArguments, String})()\n",
      "    @ VSCodeServer c:\\Users\\andyl\\.vscode\\extensions\\julialang.language-julia-1.6.17\\scripts\\packages\\VSCodeServer\\src\\serve_notebook.jl:19\n",
      " [12] withpath(f::VSCodeServer.var\"#160#161\"{VSCodeServer.NotebookRunCellArguments, String}, path::String)\n",
      "    @ VSCodeServer c:\\Users\\andyl\\.vscode\\extensions\\julialang.language-julia-1.6.17\\scripts\\packages\\VSCodeServer\\src\\repl.jl:184\n",
      " [13] notebook_runcell_request(conn::VSCodeServer.JSONRPC.JSONRPCEndpoint{Base.PipeEndpoint, Base.PipeEndpoint}, params::VSCodeServer.NotebookRunCellArguments)\n",
      "    @ VSCodeServer c:\\Users\\andyl\\.vscode\\extensions\\julialang.language-julia-1.6.17\\scripts\\packages\\VSCodeServer\\src\\serve_notebook.jl:13\n",
      " [14] dispatch_msg(x::VSCodeServer.JSONRPC.JSONRPCEndpoint{Base.PipeEndpoint, Base.PipeEndpoint}, dispatcher::VSCodeServer.JSONRPC.MsgDispatcher, msg::Dict{String, Any})\n",
      "    @ VSCodeServer.JSONRPC c:\\Users\\andyl\\.vscode\\extensions\\julialang.language-julia-1.6.17\\scripts\\packages\\JSONRPC\\src\\typed.jl:67\n",
      " [15] serve_notebook(pipename::String, outputchannel_logger::Base.CoreLogging.SimpleLogger; crashreporting_pipename::String)\n",
      "    @ VSCodeServer c:\\Users\\andyl\\.vscode\\extensions\\julialang.language-julia-1.6.17\\scripts\\packages\\VSCodeServer\\src\\serve_notebook.jl:136\n",
      " [16] top-level scope\n",
      "    @ c:\\Users\\andyl\\.vscode\\extensions\\julialang.language-julia-1.6.17\\scripts\\notebook\\notebook.jl:32\n",
      " [17] include(mod::Module, _path::String)\n",
      "    @ Base .\\Base.jl:386\n",
      " [18] exec_options(opts::Base.JLOptions)\n",
      "    @ Base .\\client.jl:285\n",
      " [19] _start()\n",
      "    @ Base .\\client.jl:485"
     ]
    }
   ],
   "source": [
    "fit = glm(f, w6, Binomial(), ProbitLink())\n"
   ]
  },
  {
   "cell_type": "code",
   "execution_count": null,
   "metadata": {},
   "outputs": [],
   "source": []
  },
  {
   "cell_type": "code",
   "execution_count": 151,
   "metadata": {},
   "outputs": [
    {
     "data": {
      "text/plain": [
       "StatsModels.TableRegressionModel{GeneralizedLinearModel{GLM.GlmResp{Vector{Float64}, Binomial{Float64}, ProbitLink}, GLM.DensePredChol{Float64, LinearAlgebra.Cholesky{Float64, Matrix{Float64}}}}, Matrix{Float64}}\n",
       "\n",
       "low_quality ~ 1 + Income + Gender + Age + Education\n",
       "\n",
       "Coefficients:\n",
       "────────────────────────────────────────────────────────────────────────────\n",
       "                  Coef.  Std. Error      z  Pr(>|z|)  Lower 95%    Upper 95%\n",
       "────────────────────────────────────────────────────────────────────────────\n",
       "(Intercept)  -1.98531    0.539008    -3.68    0.0002  -3.04175   -0.928876\n",
       "Income        0.0974128  0.0705583    1.38    0.1674  -0.040879   0.235705\n",
       "Gender        0.119665   0.232427     0.51    0.6067  -0.335884   0.575214\n",
       "Age          -0.0141463  0.00962958  -1.47    0.1418  -0.03302    0.00472732\n",
       "Education    -0.0697506  0.07664     -0.91    0.3628  -0.219962   0.0804611\n",
       "────────────────────────────────────────────────────────────────────────────"
      ]
     },
     "metadata": {},
     "output_type": "display_data"
    }
   ],
   "source": [
    "fit = glm(Term(Symbol(treatment)) ~ sum(Term.(Symbol.(adjustments))), w6, Binomial(), ProbitLink())\n"
   ]
  },
  {
   "cell_type": "code",
   "execution_count": 156,
   "metadata": {},
   "outputs": [
    {
     "name": "stdout",
     "output_type": "stream",
     "text": [
      "Summary Stats:\n",
      "Length:         1178\n",
      "Missing Count:  0\n",
      "Mean:           178.503841\n",
      "Minimum:        15.207013\n",
      "1st Quartile:   81.962500\n",
      "Median:         122.873158\n",
      "3rd Quartile:   211.657930\n",
      "Maximum:        3152.840239\n",
      "Type:           Float64\n"
     ]
    }
   ],
   "source": [
    "describe(1 ./ (predict(fit, w6)))"
   ]
  },
  {
   "cell_type": "code",
   "execution_count": 140,
   "metadata": {},
   "outputs": [
    {
     "data": {
      "text/plain": [
       "StatsModels.TableRegressionModel{GeneralizedLinearModel{GLM.GlmResp{Vector{Float64}, Binomial{Float64}, ProbitLink}, GLM.DensePredChol{Float64, LinearAlgebra.Cholesky{Float64, Matrix{Float64}}}}, Matrix{Float64}}\n",
       "\n",
       "low_quality ~ 1 + Income + Political_Views + Gender + Age + Education\n",
       "\n",
       "Coefficients:\n",
       "─────────────────────────────────────────────────────────────────────────────────\n",
       "                      Coef.  Std. Error      z  Pr(>|z|)   Lower 95%    Upper 95%\n",
       "─────────────────────────────────────────────────────────────────────────────────\n",
       "(Intercept)      -1.84985    0.589574    -3.14    0.0017  -3.00539    -0.694301\n",
       "Income            0.097154   0.0705293    1.38    0.1684  -0.0410809   0.235389\n",
       "Political_Views  -0.036744   0.0755709   -0.49    0.6268  -0.18486     0.111372\n",
       "Gender            0.0941508  0.235736     0.40    0.6896  -0.367883    0.556185\n",
       "Age              -0.013548   0.00971554  -1.39    0.1632  -0.0325901   0.00549408\n",
       "Education        -0.0729652  0.0766388   -0.95    0.3411  -0.223174    0.077244\n",
       "─────────────────────────────────────────────────────────────────────────────────"
      ]
     },
     "metadata": {},
     "output_type": "display_data"
    }
   ],
   "source": [
    "ip_weighting(w6, adjustments, treatment)"
   ]
  }
 ],
 "metadata": {
  "kernelspec": {
   "display_name": "Julia 1.6.3",
   "language": "julia",
   "name": "julia-1.6"
  },
  "language_info": {
   "file_extension": ".jl",
   "mimetype": "application/julia",
   "name": "julia",
   "version": "1.6.3"
  },
  "orig_nbformat": 4
 },
 "nbformat": 4,
 "nbformat_minor": 2
}
